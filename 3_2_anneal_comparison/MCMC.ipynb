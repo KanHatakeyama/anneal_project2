{
 "cells": [
  {
   "cell_type": "markdown",
   "metadata": {},
   "source": [
    "# Sample solutions by MCMC instead of annealing"
   ]
  },
  {
   "cell_type": "code",
   "execution_count": 1,
   "metadata": {},
   "outputs": [],
   "source": [
    "import joblib\n",
    "import numpy as np\n",
    "import seaborn as sns\n",
    "import pandas as pd\n",
    "import sys\n",
    "sys.path.append(\"../lib\")\n",
    "from NumbaMCMC import  NumbaMCMC"
   ]
  },
  {
   "cell_type": "code",
   "execution_count": 2,
   "metadata": {},
   "outputs": [],
   "source": [
    "qubo_path=\"data/rbm_J.bin\"\n",
    "qubo=joblib.load(qubo_path)"
   ]
  },
  {
   "cell_type": "code",
   "execution_count": 3,
   "metadata": {},
   "outputs": [],
   "source": [
    "def plot_fp(mcmc, color=\"b\", label=\"\", c=1):\n",
    "    pos = np.sum(mcmc.log, axis=1)\n",
    "    E_list = np.array(mcmc.log_E).reshape(-1)/c\n",
    "    df = pd.DataFrame([E_list, pos]).T\n",
    "    df.columns = [\"Energy\", \"Norm\"]\n",
    "\n",
    "    sns.scatterplot(\n",
    "        data=df, x='Energy', y=\"Norm\",\n",
    "        alpha=0.5,\n",
    "        color=color,\n",
    "        label=label,\n",
    "        s=5,\n",
    "        # cbar=True\n",
    "        hue=df.index,\n",
    "    )"
   ]
  },
  {
   "cell_type": "code",
   "execution_count": 6,
   "metadata": {},
   "outputs": [
    {
     "name": "stderr",
     "output_type": "stream",
     "text": [
      "100%|██████████| 1000000/1000000 [00:03<00:00, 305402.38it/s]\n"
     ]
    },
    {
     "name": "stdout",
     "output_type": "stream",
     "text": [
      "CPU times: user 3.28 s, sys: 0 ns, total: 3.28 s\n",
      "Wall time: 3.28 s\n"
     ]
    },
    {
     "data": {
      "image/png": "[encoded data removed]",
      "text/plain": [
       "<Figure size 432x288 with 1 Axes>"
      ]
     },
     "metadata": {
      "needs_background": "light"
     },
     "output_type": "display_data"
    }
   ],
   "source": [
    "#run mcmc\n",
    "steps = 10**6  # mcmc steps\n",
    "c = 1          # scaling factor\n",
    "mcmc=NumbaMCMC(-qubo*c,n_steps=steps,interval=10**4)\n",
    "%time mcmc.run()\n",
    "plot_fp(mcmc, color=\"b\", label=\"\", c=c)\n"
   ]
  },
  {
   "cell_type": "code",
   "execution_count": 7,
   "metadata": {},
   "outputs": [
    {
     "data": {
      "text/plain": [
       "['data/mcmc_c1.bin']"
      ]
     },
     "execution_count": 7,
     "metadata": {},
     "output_type": "execute_result"
    }
   ],
   "source": [
    "joblib.dump([mcmc.log,np.array(mcmc.log_E).reshape(-1)/c],f\"data/mcmc_c{c}.bin\",compress=1)\n"
   ]
  },
  {
   "cell_type": "code",
   "execution_count": null,
   "metadata": {},
   "outputs": [],
   "source": []
  }
 ],
 "metadata": {
  "kernelspec": {
   "display_name": "Environment (conda_da37)",
   "language": "python",
   "name": "conda_da37"
  },
  "language_info": {
   "codemirror_mode": {
    "name": "ipython",
    "version": 3
   },
   "file_extension": ".py",
   "mimetype": "text/x-python",
   "name": "python",
   "nbconvert_exporter": "python",
   "pygments_lexer": "ipython3",
   "version": "3.7.9"
  }
 },
 "nbformat": 4,
 "nbformat_minor": 4
}
