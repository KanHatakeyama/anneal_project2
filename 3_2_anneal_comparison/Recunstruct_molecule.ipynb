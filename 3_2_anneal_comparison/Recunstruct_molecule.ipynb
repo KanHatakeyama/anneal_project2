{
 "cells": [
  {
   "cell_type": "markdown",
   "metadata": {},
   "source": [
    "# Prepare new molecules from sampled binary data"
   ]
  },
  {
   "cell_type": "code",
   "execution_count": 4,
   "metadata": {},
   "outputs": [],
   "source": [
    "import sys\n",
    "import joblib\n",
    "import numpy as np\n",
    "sys.path.append(\"../lib/\")\n",
    "sys.path.append(\"../REINVENT/lib/\")\n",
    "from reinvent_wrapper import run_reinvent,run_reinvent_parallel"
   ]
  },
  {
   "cell_type": "code",
   "execution_count": 19,
   "metadata": {},
   "outputs": [],
   "source": [
    "n_parallel=2\n",
    "def run_drl(try_fp_list,project_code):\n",
    "    try_fp_list=try_fp_list[:,:512]\n",
    "    integ_df=run_reinvent_parallel(try_fp_list, \n",
    "                                   rein_dir='../REINVENT/',\n",
    "                                   original_dir='../3_2_anneal_comparison/',\n",
    "                                   n_parallel=n_parallel,\n",
    "                                   gpu_num=2)\n",
    "    joblib.dump(integ_df,\"data/\"+project_code+\".bin\")\n",
    "    return integ_df"
   ]
  },
  {
   "cell_type": "code",
   "execution_count": 20,
   "metadata": {},
   "outputs": [
    {
     "data": {
      "text/plain": [
       "[array([0., 0., 0., ..., 1., 1., 1.]),\n",
       " array([0., 0., 0., ..., 0., 0., 0.]),\n",
       " array([0., 1., 0., ..., 1., 1., 0.])]"
      ]
     },
     "execution_count": 20,
     "metadata": {},
     "output_type": "execute_result"
    }
   ],
   "source": [
    "#gpumcmc10\n",
    "\n",
    "path=\"data/mcmc_c1.bin\"\n",
    "res=joblib.load(path)[0]\n",
    "res[:3]"
   ]
  },
  {
   "cell_type": "code",
   "execution_count": 21,
   "metadata": {},
   "outputs": [
    {
     "data": {
      "text/plain": [
       "array([[0, 1, 1, ..., 0, 0, 0],\n",
       "       [0, 0, 0, ..., 1, 1, 0],\n",
       "       [0, 0, 0, ..., 1, 0, 1],\n",
       "       ...,\n",
       "       [0, 0, 0, ..., 1, 1, 0],\n",
       "       [0, 0, 0, ..., 0, 1, 1],\n",
       "       [0, 0, 0, ..., 0, 1, 0]])"
      ]
     },
     "execution_count": 21,
     "metadata": {},
     "output_type": "execute_result"
    }
   ],
   "source": [
    "#convert to int array\n",
    "try_fp_list=np.array(res,dtype=int)[-1].reshape(1,-1)\n",
    "try_fp_list=np.array(res,dtype=int)[-30:,:]\n",
    "try_fp_list"
   ]
  },
  {
   "cell_type": "code",
   "execution_count": 22,
   "metadata": {},
   "outputs": [
    {
     "name": "stdout",
     "output_type": "stream",
     "text": [
      "gpus attributed:  [0, 1]\n"
     ]
    },
    {
     "data": {
      "text/html": [
       "<div>\n",
       "<style scoped>\n",
       "    .dataframe tbody tr th:only-of-type {\n",
       "        vertical-align: middle;\n",
       "    }\n",
       "\n",
       "    .dataframe tbody tr th {\n",
       "        vertical-align: top;\n",
       "    }\n",
       "\n",
       "    .dataframe thead th {\n",
       "        text-align: right;\n",
       "    }\n",
       "</style>\n",
       "<table border=\"1\" class=\"dataframe\">\n",
       "  <thead>\n",
       "    <tr style=\"text-align: right;\">\n",
       "      <th></th>\n",
       "      <th>SMILES</th>\n",
       "      <th>Score</th>\n",
       "      <th>PriorLogP</th>\n",
       "    </tr>\n",
       "  </thead>\n",
       "  <tbody>\n",
       "    <tr>\n",
       "      <th>0</th>\n",
       "      <td>CC(C)=CC=Cc1cccc(C(F)(F)F)c1</td>\n",
       "      <td>0.18</td>\n",
       "      <td>-20.32</td>\n",
       "    </tr>\n",
       "    <tr>\n",
       "      <th>1</th>\n",
       "      <td>C=CC(Cc1ccc(F)cc1)c1ccc(F)cc1</td>\n",
       "      <td>0.18</td>\n",
       "      <td>-21.16</td>\n",
       "    </tr>\n",
       "    <tr>\n",
       "      <th>2</th>\n",
       "      <td>CC(F)c1ccc(C(=O)C(F)(F)F)cc1</td>\n",
       "      <td>0.17</td>\n",
       "      <td>-23.20</td>\n",
       "    </tr>\n",
       "    <tr>\n",
       "      <th>4</th>\n",
       "      <td>CCSC(C)c1ccccc1C(F)(F)F</td>\n",
       "      <td>0.16</td>\n",
       "      <td>-23.32</td>\n",
       "    </tr>\n",
       "    <tr>\n",
       "      <th>5</th>\n",
       "      <td>FC(F)([Y])c1ccc([Y])cc1</td>\n",
       "      <td>0.16</td>\n",
       "      <td>-14.41</td>\n",
       "    </tr>\n",
       "    <tr>\n",
       "      <th>0</th>\n",
       "      <td>Cc1cccc(C(F)(F)F)c1</td>\n",
       "      <td>0.26</td>\n",
       "      <td>-14.53</td>\n",
       "    </tr>\n",
       "    <tr>\n",
       "      <th>1</th>\n",
       "      <td>Cc1cccc(CC=Cc2ccc(C(F)(F)F)cc2)c1</td>\n",
       "      <td>0.23</td>\n",
       "      <td>-23.15</td>\n",
       "    </tr>\n",
       "    <tr>\n",
       "      <th>2</th>\n",
       "      <td>O=C(O)c1ccc(C(F)(F)F)cc1</td>\n",
       "      <td>0.22</td>\n",
       "      <td>-15.10</td>\n",
       "    </tr>\n",
       "    <tr>\n",
       "      <th>3</th>\n",
       "      <td>Cc1ccccc1C(CCC)c1ccccc1C(F)(F)F</td>\n",
       "      <td>0.21</td>\n",
       "      <td>-29.59</td>\n",
       "    </tr>\n",
       "    <tr>\n",
       "      <th>4</th>\n",
       "      <td>N#Cc1cnccc1C(F)(F)F</td>\n",
       "      <td>0.21</td>\n",
       "      <td>-19.08</td>\n",
       "    </tr>\n",
       "  </tbody>\n",
       "</table>\n",
       "</div>"
      ],
      "text/plain": [
       "                              SMILES  Score  PriorLogP\n",
       "0       CC(C)=CC=Cc1cccc(C(F)(F)F)c1   0.18     -20.32\n",
       "1      C=CC(Cc1ccc(F)cc1)c1ccc(F)cc1   0.18     -21.16\n",
       "2       CC(F)c1ccc(C(=O)C(F)(F)F)cc1   0.17     -23.20\n",
       "4            CCSC(C)c1ccccc1C(F)(F)F   0.16     -23.32\n",
       "5            FC(F)([Y])c1ccc([Y])cc1   0.16     -14.41\n",
       "0                Cc1cccc(C(F)(F)F)c1   0.26     -14.53\n",
       "1  Cc1cccc(CC=Cc2ccc(C(F)(F)F)cc2)c1   0.23     -23.15\n",
       "2           O=C(O)c1ccc(C(F)(F)F)cc1   0.22     -15.10\n",
       "3    Cc1ccccc1C(CCC)c1ccccc1C(F)(F)F   0.21     -29.59\n",
       "4                N#Cc1cnccc1C(F)(F)F   0.21     -19.08"
      ]
     },
     "execution_count": 22,
     "metadata": {},
     "output_type": "execute_result"
    }
   ],
   "source": [
    "#run DRL\n",
    "project_code=\"mcmc_c1\"\n",
    "run_drl(try_fp_list,project_code)"
   ]
  }
 ],
 "metadata": {
  "kernelspec": {
   "display_name": "Environment (conda_da37)",
   "language": "python",
   "name": "conda_da37"
  },
  "language_info": {
   "codemirror_mode": {
    "name": "ipython",
    "version": 3
   },
   "file_extension": ".py",
   "mimetype": "text/x-python",
   "name": "python",
   "nbconvert_exporter": "python",
   "pygments_lexer": "ipython3",
   "version": "3.7.9"
  }
 },
 "nbformat": 4,
 "nbformat_minor": 4
}
