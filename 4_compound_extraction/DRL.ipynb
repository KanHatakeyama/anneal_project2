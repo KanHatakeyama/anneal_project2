{
 "cells": [
  {
   "cell_type": "code",
   "execution_count": null,
   "metadata": {},
   "outputs": [],
   "source": [
    "import joblib\n",
    "import sys\n",
    "import os\n",
    "import pandas as pd\n",
    "import matplotlib.pyplot as plt\n",
    "import random\n",
    "import time\n",
    "import datetime\n",
    "from sklearn.metrics import r2_score\n",
    "import numpy as np\n",
    "from tqdm.notebook import tqdm\n",
    "\n",
    "\n",
    "sys.path.append(\"../lib/\")\n",
    "from MoleculeRegressor import MoleculeRegressor,FP\n",
    "from rbm_util import train_rbm\n",
    "\n",
    "\n",
    "sys.path.append(\"../REINVENT/lib/\")\n",
    "from reinvent_wrapper import run_reinvent,run_reinvent_parallel\n",
    "from anneal_util import r_qubo_sampling,random_state_sampling\n"
   ]
  },
  {
   "cell_type": "markdown",
   "metadata": {},
   "source": [
    "# Regression\n",
    "    - Calculate slope for a linear regression model"
   ]
  },
  {
   "cell_type": "code",
   "execution_count": null,
   "metadata": {},
   "outputs": [],
   "source": [
    "def get_model(cond):\n",
    "    df = pd.read_csv(cond[\"database_path\"])\n",
    "    df = df[[cond[\"smiles_column\"], cond[\"target_param_name\"]]]\n",
    "    df = df.dropna()\n",
    "\n",
    "    # delete broken smiles\n",
    "    _, available_index = FP.calc_fingerprint(df[cond[\"smiles_column\"]].values)\n",
    "    df = df[available_index]\n",
    "\n",
    "    model = MoleculeRegressor()\n",
    "    X = df[cond[\"smiles_column\"]]\n",
    "    y = np.array(df[cond[\"target_param_name\"]])\n",
    "    model.fit(X, y)\n",
    "    p_y = model.predict(X)\n",
    "\n",
    "    plt.figure(figsize=(4, 4))\n",
    "    plt.scatter(y, p_y, s=3)\n",
    "\n",
    "    return model"
   ]
  },
  {
   "cell_type": "markdown",
   "metadata": {},
   "source": [
    "# RBM\n",
    "    - Calculate user-preference potential"
   ]
  },
  {
   "cell_type": "code",
   "execution_count": null,
   "metadata": {
    "scrolled": true
   },
   "outputs": [],
   "source": [
    "def run_rbm(start_smiles):\n",
    "    fp_list,_=FP.calc_fingerprint(start_smiles)\n",
    "    joblib.dump(fp_list,\"data/fp.bin\")\n",
    "    batch_size=1\n",
    "\n",
    "    all_dim=1024*2\n",
    "    fp_dim=len(fp_list[0])\n",
    "\n",
    "    while all_dim <= fp_dim:\n",
    "        all_dim=all_dim*2\n",
    "\n",
    "    print(\"RBM dimension:\", all_dim)\n",
    "    plt.figure()\n",
    "    _=train_rbm(fp_path=\"data/fp.bin\",\n",
    "                        out_path=\"data/rbm_J.bin\",\n",
    "                        batch_size= batch_size,\n",
    "                        all_units=all_dim,\n",
    "                        use_gpu=False,\n",
    "                        epochs = 300,\n",
    "                        k=3,\n",
    "                        check_reconstruction=3)\n"
   ]
  },
  {
   "cell_type": "markdown",
   "metadata": {},
   "source": [
    "# anneal & DRL"
   ]
  },
  {
   "cell_type": "code",
   "execution_count": null,
   "metadata": {},
   "outputs": [],
   "source": [
    "def auto_search(model,save_path):\n",
    "    #set qubo\n",
    "    rbm_qubo=joblib.load(\"data/rbm_J.bin\")\n",
    "    model_qubo=model.coef_\n",
    "\n",
    "    for r in [2**i for i in range(-4,5,1)]:\n",
    "        \n",
    "        print(r)\n",
    "        result_path=save_path+\"/\"+str(r)+\".bin\"\n",
    "        if os.path.exists(result_path):\n",
    "            print(\"already done! skipped\")\n",
    "            continue\n",
    "\n",
    "        #anneal and drl\n",
    "        print(\"start anneal\")\n",
    "\n",
    "        state_list,eg_list,c_list=r_qubo_sampling(r,rbm_qubo,model_qubo)          \n",
    "\n",
    "\n",
    "        sel_id_list=random_state_sampling(state_list,eg_list,n_sampling=cond[\"sample_num\"])\n",
    "        sel_fp_list=(np.array(state_list)[sel_id_list])\n",
    "        sel_fp_list=list(sel_fp_list[:,:512])\n",
    "    \n",
    "        \n",
    "        print(\"start DQN\")\n",
    "        integ_df=run_reinvent_parallel(sel_fp_list, \n",
    "                                       rein_dir='../REINVENT/',\n",
    "                                       original_dir='../4_compound_extraction/',\n",
    "                                       n_parallel=cond[\"sample_num\"],\n",
    "                                       gpu_num=2)\n",
    "\n",
    "        #dump\n",
    "        result_dict={}\n",
    "        result_dict[\"r\"]=r\n",
    "        result_dict[\"anneal_result\"]=state_list,eg_list,c_list\n",
    "        result_dict[\"sel_fp_list\"]=sel_fp_list\n",
    "        result_dict[\"rbm_qubo\"]=rbm_qubo\n",
    "        result_dict[\"time\"]=time.strftime(\"%Y-%m-%d-%H_%M_%S\", time.localtime())\n",
    "        result_dict[\"df\"]=integ_df\n",
    "        #joblib.dump(result_dict,result_path,compress=9)\n",
    "        return result_dict"
   ]
  },
  {
   "cell_type": "code",
   "execution_count": null,
   "metadata": {},
   "outputs": [],
   "source": [
    "#auto_search\n",
    "cond={}\n",
    "cond[\"type\"]=\"anneal_results/\"\n",
    "cond[\"smiles_column\"]=\"SMILES\"\n",
    "cond[\"start_smiles\"]=[\"Cc1ccccc1\",\"FC(F)(F)F\"]\n",
    "cond[\"target_param_name\"]=\"MolLogP\"\n",
    "cond[\"database_path\"]=\"../database/BradleyDoublePlusGoodMeltingPointDataset_logP.csv\"\n",
    "cond[\"sample_num\"]=4\n",
    "\n",
    "cond[\"start_smiles\"]=[\"Cc1ccccc1\",\"FC(F)(F)F\"]\n",
    "#[\"Cc1ccccc1\"],\n",
    "#[\"Cc1ccccc1\",\"FC(F)(F)F\",\"O=C(O)C\"],\n",
    "\n",
    "target_param_list=\"MolLogP\"\n",
    "#\"TPSA\"\n"
   ]
  },
  {
   "cell_type": "code",
   "execution_count": null,
   "metadata": {},
   "outputs": [],
   "source": [
    "#regression\n",
    "model=get_model(cond)"
   ]
  },
  {
   "cell_type": "code",
   "execution_count": null,
   "metadata": {},
   "outputs": [],
   "source": [
    "#rbm\n",
    "#run_rbm(cond[\"start_smiles\"])"
   ]
  },
  {
   "cell_type": "markdown",
   "metadata": {},
   "source": [
    "# Solution sampling and molecule generation\n",
    "- Solutions are sampled by MCMC in this demo code"
   ]
  },
  {
   "cell_type": "code",
   "execution_count": null,
   "metadata": {},
   "outputs": [],
   "source": [
    "rbm_qubo=joblib.load(\"data/rbm_J.bin\")\n",
    "model_qubo=model.coef_\n",
    "\n",
    "#sample minimums\n",
    "r=1\n",
    "state_list,eg_list,c_list=r_qubo_sampling(r,rbm_qubo,model_qubo)       \n",
    "        "
   ]
  },
  {
   "cell_type": "code",
   "execution_count": null,
   "metadata": {},
   "outputs": [],
   "source": [
    "sel_id_list=random_state_sampling(state_list,eg_list,n_sampling=cond[\"sample_num\"])\n",
    "sel_fp_list=(np.array(state_list,dtype=int)[sel_id_list])\n",
    "sel_fp_list=list(sel_fp_list[:,:512])"
   ]
  },
  {
   "cell_type": "code",
   "execution_count": null,
   "metadata": {},
   "outputs": [],
   "source": [
    "#drl\n",
    "integ_df=run_reinvent_parallel(sel_fp_list, \n",
    "                               rein_dir='../REINVENT/',\n",
    "                               original_dir='../4_compound_extraction/',\n",
    "                               n_parallel=cond[\"sample_num\"],\n",
    "                               gpu_num=2)"
   ]
  },
  {
   "cell_type": "code",
   "execution_count": null,
   "metadata": {},
   "outputs": [],
   "source": [
    "integ_df"
   ]
  }
 ],
 "metadata": {
  "kernelspec": {
   "display_name": "Environment (conda_da37)",
   "language": "python",
   "name": "conda_da37"
  },
  "language_info": {
   "codemirror_mode": {
    "name": "ipython",
    "version": 3
   },
   "file_extension": ".py",
   "mimetype": "text/x-python",
   "name": "python",
   "nbconvert_exporter": "python",
   "pygments_lexer": "ipython3",
   "version": "3.7.9"
  }
 },
 "nbformat": 4,
 "nbformat_minor": 4
}
