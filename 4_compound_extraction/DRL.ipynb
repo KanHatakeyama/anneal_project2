{
 "cells": [
  {
   "cell_type": "code",
   "execution_count": 1,
   "metadata": {},
   "outputs": [
    {
     "name": "stderr",
     "output_type": "stream",
     "text": [
      "RDKit WARNING: [10:03:35] Enabling RDKit 2019.09.3 jupyter extensions\n"
     ]
    }
   ],
   "source": [
    "import joblib\n",
    "import sys\n",
    "import os\n",
    "import pandas as pd\n",
    "import matplotlib.pyplot as plt\n",
    "import random\n",
    "import time\n",
    "import datetime\n",
    "from sklearn.metrics import r2_score\n",
    "import numpy as np\n",
    "from tqdm.notebook import tqdm\n",
    "\n",
    "\n",
    "sys.path.append(\"../lib/\")\n",
    "from MoleculeRegressor import MoleculeRegressor,FP\n",
    "from rbm_util import train_rbm\n",
    "\n",
    "\n",
    "sys.path.append(\"../REINVENT/lib/\")\n",
    "from reinvent_wrapper import run_reinvent,run_reinvent_parallel\n",
    "from anneal_util import r_qubo_sampling,random_state_sampling\n"
   ]
  },
  {
   "cell_type": "markdown",
   "metadata": {},
   "source": [
    "# Regression\n",
    "    - Calculate slope for a linear regression model"
   ]
  },
  {
   "cell_type": "code",
   "execution_count": 2,
   "metadata": {},
   "outputs": [],
   "source": [
    "def get_model(cond):\n",
    "    df = pd.read_csv(cond[\"database_path\"])\n",
    "    df = df[[cond[\"smiles_column\"], cond[\"target_param_name\"]]]\n",
    "    df = df.dropna()\n",
    "\n",
    "    # delete broken smiles\n",
    "    _, available_index = FP.calc_fingerprint(df[cond[\"smiles_column\"]].values)\n",
    "    df = df[available_index]\n",
    "\n",
    "    model = MoleculeRegressor()\n",
    "    X = df[cond[\"smiles_column\"]]\n",
    "    y = np.array(df[cond[\"target_param_name\"]])\n",
    "    model.fit(X, y)\n",
    "    p_y = model.predict(X)\n",
    "\n",
    "    plt.figure(figsize=(4, 4))\n",
    "    plt.scatter(y, p_y, s=3)\n",
    "\n",
    "    return model"
   ]
  },
  {
   "cell_type": "markdown",
   "metadata": {},
   "source": [
    "# RBM\n",
    "    - Calculate user-preference potential"
   ]
  },
  {
   "cell_type": "code",
   "execution_count": 3,
   "metadata": {
    "scrolled": true
   },
   "outputs": [],
   "source": [
    "def run_rbm(start_smiles):\n",
    "    fp_list,_=FP.calc_fingerprint(start_smiles)\n",
    "    joblib.dump(fp_list,\"data/fp.bin\")\n",
    "    batch_size=1\n",
    "\n",
    "    all_dim=1024*2\n",
    "    fp_dim=len(fp_list[0])\n",
    "\n",
    "    while all_dim <= fp_dim:\n",
    "        all_dim=all_dim*2\n",
    "\n",
    "    print(\"RBM dimension:\", all_dim)\n",
    "    plt.figure()\n",
    "    _=train_rbm(fp_path=\"data/fp.bin\",\n",
    "                        out_path=\"data/rbm_J.bin\",\n",
    "                        batch_size= batch_size,\n",
    "                        all_units=all_dim,\n",
    "                        use_gpu=False,\n",
    "                        epochs = 300,\n",
    "                        k=3,\n",
    "                        check_reconstruction=3)\n"
   ]
  },
  {
   "cell_type": "markdown",
   "metadata": {},
   "source": [
    "# anneal & DRL"
   ]
  },
  {
   "cell_type": "code",
   "execution_count": 4,
   "metadata": {},
   "outputs": [],
   "source": [
    "def auto_search(model,save_path):\n",
    "    #set qubo\n",
    "    rbm_qubo=joblib.load(\"data/rbm_J.bin\")\n",
    "    model_qubo=model.coef_\n",
    "\n",
    "    for r in [2**i for i in range(-4,5,1)]:\n",
    "        \n",
    "        print(r)\n",
    "        result_path=save_path+\"/\"+str(r)+\".bin\"\n",
    "        if os.path.exists(result_path):\n",
    "            print(\"already done! skipped\")\n",
    "            continue\n",
    "\n",
    "        #anneal and drl\n",
    "        print(\"start anneal\")\n",
    "\n",
    "        state_list,eg_list,c_list=r_qubo_sampling(r,rbm_qubo,model_qubo)          \n",
    "\n",
    "\n",
    "        sel_id_list=random_state_sampling(state_list,eg_list,n_sampling=cond[\"sample_num\"])\n",
    "        sel_fp_list=(np.array(state_list)[sel_id_list])\n",
    "        sel_fp_list=list(sel_fp_list[:,:512])\n",
    "    \n",
    "        \n",
    "        print(\"start DQN\")\n",
    "        integ_df=run_reinvent_parallel(sel_fp_list, \n",
    "                                       rein_dir='../REINVENT/',\n",
    "                                       original_dir='../4_compound_extraction/',\n",
    "                                       n_parallel=cond[\"sample_num\"],\n",
    "                                       gpu_num=2)\n",
    "\n",
    "        #dump\n",
    "        result_dict={}\n",
    "        result_dict[\"r\"]=r\n",
    "        result_dict[\"anneal_result\"]=state_list,eg_list,c_list\n",
    "        result_dict[\"sel_fp_list\"]=sel_fp_list\n",
    "        result_dict[\"rbm_qubo\"]=rbm_qubo\n",
    "        result_dict[\"time\"]=time.strftime(\"%Y-%m-%d-%H_%M_%S\", time.localtime())\n",
    "        result_dict[\"df\"]=integ_df\n",
    "        #joblib.dump(result_dict,result_path,compress=9)\n",
    "        return result_dict"
   ]
  },
  {
   "cell_type": "code",
   "execution_count": 52,
   "metadata": {},
   "outputs": [],
   "source": [
    "#auto_search\n",
    "cond={}\n",
    "cond[\"type\"]=\"anneal_results/\"\n",
    "cond[\"smiles_column\"]=\"SMILES\"\n",
    "cond[\"start_smiles\"]=[\"Cc1ccccc1\",\"FC(F)(F)F\"]\n",
    "cond[\"target_param_name\"]=\"MolLogP\"\n",
    "cond[\"database_path\"]=\"../database/BradleyDoublePlusGoodMeltingPointDataset_logP.csv\"\n",
    "cond[\"sample_num\"]=4\n",
    "\n",
    "cond[\"start_smiles\"]=[\"Cc1ccccc1\",\"FC(F)(F)F\"]\n",
    "\n",
    "#[\"Cc1ccccc1\"],\n",
    "#[\"Cc1ccccc1\",\"FC(F)(F)F\",\"O=C(O)C\"],\n",
    "\n",
    "target_param_list=\"MolLogP\"\n",
    "#\"TPSA\"\n"
   ]
  },
  {
   "cell_type": "code",
   "execution_count": 50,
   "metadata": {},
   "outputs": [
    {
     "name": "stderr",
     "output_type": "stream",
     "text": [
      "/home/user/anaconda3/envs/da37/lib/python3.7/site-packages/sklearn/utils/validation.py:72: DataConversionWarning: A column-vector y was passed when a 1d array was expected. Please change the shape of y to (n_samples, ), for example using ravel().\n",
      "  return f(**kwargs)\n"
     ]
    },
    {
     "data": {
      "image/png": "[encoded data removed]",
      "text/plain": [
       "<Figure size 288x288 with 1 Axes>"
      ]
     },
     "metadata": {
      "needs_background": "light"
     },
     "output_type": "display_data"
    }
   ],
   "source": [
    "#regression\n",
    "model=get_model(cond)"
   ]
  },
  {
   "cell_type": "code",
   "execution_count": 53,
   "metadata": {},
   "outputs": [],
   "source": [
    "#rbm\n",
    "#run_rbm(cond[\"start_smiles\"])"
   ]
  },
  {
   "cell_type": "markdown",
   "metadata": {},
   "source": [
    "# Solution sampling and molecule generation\n",
    "- Solutions are sampled by MCMC in this demo code\n",
    "- Since MCMC could not reach smaller energy solutions and their hyperparameters were not optimized, the sampled chemicals are quite different from the ones in the paper."
   ]
  },
  {
   "cell_type": "code",
   "execution_count": 54,
   "metadata": {},
   "outputs": [
    {
     "name": "stderr",
     "output_type": "stream",
     "text": [
      "100%|██████████| 10000000/10000000 [00:19<00:00, 500908.78it/s]\n",
      "100%|██████████| 10000000/10000000 [00:19<00:00, 512707.49it/s]\n",
      "100%|██████████| 10000000/10000000 [00:19<00:00, 515124.84it/s]\n"
     ]
    }
   ],
   "source": [
    "rbm_qubo=joblib.load(\"data/rbm_J.bin\")\n",
    "model_qubo=model.coef_\n",
    "\n",
    "#sample minimums\n",
    "r=1\n",
    "state_list,eg_list,c_list=r_qubo_sampling(r,rbm_qubo,model_qubo)       \n",
    "        "
   ]
  },
  {
   "cell_type": "code",
   "execution_count": 55,
   "metadata": {},
   "outputs": [],
   "source": [
    "sel_id_list=random_state_sampling(state_list,eg_list,n_sampling=cond[\"sample_num\"])\n",
    "sel_fp_list=(np.array(state_list,dtype=int)[sel_id_list])\n",
    "sel_fp_list=list(sel_fp_list[:,:512])"
   ]
  },
  {
   "cell_type": "code",
   "execution_count": 56,
   "metadata": {},
   "outputs": [
    {
     "name": "stdout",
     "output_type": "stream",
     "text": [
      "gpus attributed:  [0, 0, 1, 1]\n"
     ]
    }
   ],
   "source": [
    "#drl\n",
    "integ_df=run_reinvent_parallel(sel_fp_list, \n",
    "                               rein_dir='../REINVENT/',\n",
    "                               original_dir='../4_compound_extraction/',\n",
    "                               n_parallel=cond[\"sample_num\"],\n",
    "                               gpu_num=2)"
   ]
  },
  {
   "cell_type": "code",
   "execution_count": 59,
   "metadata": {},
   "outputs": [
    {
     "data": {
      "text/html": [
       "<div>\n",
       "<style scoped>\n",
       "    .dataframe tbody tr th:only-of-type {\n",
       "        vertical-align: middle;\n",
       "    }\n",
       "\n",
       "    .dataframe tbody tr th {\n",
       "        vertical-align: top;\n",
       "    }\n",
       "\n",
       "    .dataframe thead th {\n",
       "        text-align: right;\n",
       "    }\n",
       "</style>\n",
       "<table border=\"1\" class=\"dataframe\">\n",
       "  <thead>\n",
       "    <tr style=\"text-align: right;\">\n",
       "      <th></th>\n",
       "      <th>SMILES</th>\n",
       "      <th>Score</th>\n",
       "      <th>PriorLogP</th>\n",
       "    </tr>\n",
       "  </thead>\n",
       "  <tbody>\n",
       "    <tr>\n",
       "      <th>0</th>\n",
       "      <td>Nc1nn(S(=O)(=O)c2cc(Cl)ccc2Cl)c2c1C1C(=NO)C1N2...</td>\n",
       "      <td>0.89</td>\n",
       "      <td>-74.90</td>\n",
       "    </tr>\n",
       "    <tr>\n",
       "      <th>1</th>\n",
       "      <td>CC1(F)c2nc(S(C)(=O)=O)sc2C(O)(CO)S(=O)(=O)n2nc...</td>\n",
       "      <td>0.89</td>\n",
       "      <td>-51.09</td>\n",
       "    </tr>\n",
       "    <tr>\n",
       "      <th>2</th>\n",
       "      <td>CN1C(=O)C(O)(c2cn(S(C)(=O)=O)s2)C(=O)c2c1noc2S...</td>\n",
       "      <td>0.88</td>\n",
       "      <td>-83.30</td>\n",
       "    </tr>\n",
       "    <tr>\n",
       "      <th>3</th>\n",
       "      <td>Cn1c2c(s1)S(=O)(C1=NNNc3ncnc1c32)CC[N+](C)(C)C...</td>\n",
       "      <td>0.88</td>\n",
       "      <td>-59.34</td>\n",
       "    </tr>\n",
       "    <tr>\n",
       "      <th>4</th>\n",
       "      <td>CSN(C)P(C=O)OP(=O)(O)PP(=O)(O)c1nonc1N1C(=O)C(...</td>\n",
       "      <td>0.88</td>\n",
       "      <td>-72.66</td>\n",
       "    </tr>\n",
       "    <tr>\n",
       "      <th>0</th>\n",
       "      <td>CC([Y])(C[Y])c1noc2c1N(S(C)(C)c1cc(Br)[nH]c1Cl...</td>\n",
       "      <td>0.89</td>\n",
       "      <td>-87.32</td>\n",
       "    </tr>\n",
       "    <tr>\n",
       "      <th>1</th>\n",
       "      <td>CC(=N)SC(CO[Si](F)([Y])O[Y])c1noc2c1C(OS(=O)(=...</td>\n",
       "      <td>0.89</td>\n",
       "      <td>-121.70</td>\n",
       "    </tr>\n",
       "    <tr>\n",
       "      <th>2</th>\n",
       "      <td>O=C1c2ccsc2C2(O)N1CN(S1(Cl)=NC1)S2(=O)N1CCOCC1</td>\n",
       "      <td>0.88</td>\n",
       "      <td>-67.93</td>\n",
       "    </tr>\n",
       "    <tr>\n",
       "      <th>3</th>\n",
       "      <td>Cc1n[nH]c2c1-c1nocc1C(=O)N2CCSCC1=Nc2sc(Cl)nc2...</td>\n",
       "      <td>0.88</td>\n",
       "      <td>-84.39</td>\n",
       "    </tr>\n",
       "    <tr>\n",
       "      <th>4</th>\n",
       "      <td>CCCCC(C[Y])N1CCCOc2nc(Br)sc2S1([Y])SOS(=O)(=O)...</td>\n",
       "      <td>0.87</td>\n",
       "      <td>-121.66</td>\n",
       "    </tr>\n",
       "    <tr>\n",
       "      <th>0</th>\n",
       "      <td>CC1(C)c2onc(OC[Si](C)([Y])O[Y])c2[SH](C)(F)(F)...</td>\n",
       "      <td>0.91</td>\n",
       "      <td>-98.97</td>\n",
       "    </tr>\n",
       "    <tr>\n",
       "      <th>1</th>\n",
       "      <td>CC1(C)c2ccsc2[SH](C)(C)N1OP(=O)(O)Nc1nc2c(ncn2...</td>\n",
       "      <td>0.90</td>\n",
       "      <td>-94.50</td>\n",
       "    </tr>\n",
       "    <tr>\n",
       "      <th>2</th>\n",
       "      <td>CC1(C)n2c(=O)[nH]c(Br)c2SP1(C)c1conc1C1C(=O)Nc...</td>\n",
       "      <td>0.89</td>\n",
       "      <td>-92.96</td>\n",
       "    </tr>\n",
       "    <tr>\n",
       "      <th>3</th>\n",
       "      <td>CC1(C)c2[nH]c(-c3cc([Y])sc3[Y])cc2[SH](C)(S)C1...</td>\n",
       "      <td>0.89</td>\n",
       "      <td>-69.55</td>\n",
       "    </tr>\n",
       "    <tr>\n",
       "      <th>4</th>\n",
       "      <td>CC1(C)c2cn[nH]c2[SH](C)[SH]1P1NP(=O)(O)N=C(C)N...</td>\n",
       "      <td>0.88</td>\n",
       "      <td>-71.36</td>\n",
       "    </tr>\n",
       "    <tr>\n",
       "      <th>0</th>\n",
       "      <td>CC1(C)c2ns[n+]([O-])c2C(=O)N1C1Cc2c(C(=O)O)sn2...</td>\n",
       "      <td>0.89</td>\n",
       "      <td>-57.03</td>\n",
       "    </tr>\n",
       "    <tr>\n",
       "      <th>1</th>\n",
       "      <td>CCn1nccc1S(=O)(=O)N1Cc2sccc2C1C1c2c(C)nsc2C1(O...</td>\n",
       "      <td>0.89</td>\n",
       "      <td>-61.46</td>\n",
       "    </tr>\n",
       "    <tr>\n",
       "      <th>2</th>\n",
       "      <td>CC(O)(C(=O)Nc1nc2n(n1)C(c1nc3sccn3c1Cl)CS(=O)(...</td>\n",
       "      <td>0.88</td>\n",
       "      <td>-64.77</td>\n",
       "    </tr>\n",
       "    <tr>\n",
       "      <th>3</th>\n",
       "      <td>N=C(O)C1=C(N)C2(C=C(c3csc4cccc(Cl)c34)O2)c2nn(...</td>\n",
       "      <td>0.87</td>\n",
       "      <td>-76.15</td>\n",
       "    </tr>\n",
       "    <tr>\n",
       "      <th>4</th>\n",
       "      <td>C[Si]([Y])(C[Y])C1c2c(Br)scc2S(=O)(=O)C12CCCC(...</td>\n",
       "      <td>0.87</td>\n",
       "      <td>-67.37</td>\n",
       "    </tr>\n",
       "  </tbody>\n",
       "</table>\n",
       "</div>"
      ],
      "text/plain": [
       "                                              SMILES  Score  PriorLogP\n",
       "0  Nc1nn(S(=O)(=O)c2cc(Cl)ccc2Cl)c2c1C1C(=NO)C1N2...   0.89     -74.90\n",
       "1  CC1(F)c2nc(S(C)(=O)=O)sc2C(O)(CO)S(=O)(=O)n2nc...   0.89     -51.09\n",
       "2  CN1C(=O)C(O)(c2cn(S(C)(=O)=O)s2)C(=O)c2c1noc2S...   0.88     -83.30\n",
       "3  Cn1c2c(s1)S(=O)(C1=NNNc3ncnc1c32)CC[N+](C)(C)C...   0.88     -59.34\n",
       "4  CSN(C)P(C=O)OP(=O)(O)PP(=O)(O)c1nonc1N1C(=O)C(...   0.88     -72.66\n",
       "0  CC([Y])(C[Y])c1noc2c1N(S(C)(C)c1cc(Br)[nH]c1Cl...   0.89     -87.32\n",
       "1  CC(=N)SC(CO[Si](F)([Y])O[Y])c1noc2c1C(OS(=O)(=...   0.89    -121.70\n",
       "2     O=C1c2ccsc2C2(O)N1CN(S1(Cl)=NC1)S2(=O)N1CCOCC1   0.88     -67.93\n",
       "3  Cc1n[nH]c2c1-c1nocc1C(=O)N2CCSCC1=Nc2sc(Cl)nc2...   0.88     -84.39\n",
       "4  CCCCC(C[Y])N1CCCOc2nc(Br)sc2S1([Y])SOS(=O)(=O)...   0.87    -121.66\n",
       "0  CC1(C)c2onc(OC[Si](C)([Y])O[Y])c2[SH](C)(F)(F)...   0.91     -98.97\n",
       "1  CC1(C)c2ccsc2[SH](C)(C)N1OP(=O)(O)Nc1nc2c(ncn2...   0.90     -94.50\n",
       "2  CC1(C)n2c(=O)[nH]c(Br)c2SP1(C)c1conc1C1C(=O)Nc...   0.89     -92.96\n",
       "3  CC1(C)c2[nH]c(-c3cc([Y])sc3[Y])cc2[SH](C)(S)C1...   0.89     -69.55\n",
       "4  CC1(C)c2cn[nH]c2[SH](C)[SH]1P1NP(=O)(O)N=C(C)N...   0.88     -71.36\n",
       "0  CC1(C)c2ns[n+]([O-])c2C(=O)N1C1Cc2c(C(=O)O)sn2...   0.89     -57.03\n",
       "1  CCn1nccc1S(=O)(=O)N1Cc2sccc2C1C1c2c(C)nsc2C1(O...   0.89     -61.46\n",
       "2  CC(O)(C(=O)Nc1nc2n(n1)C(c1nc3sccn3c1Cl)CS(=O)(...   0.88     -64.77\n",
       "3  N=C(O)C1=C(N)C2(C=C(c3csc4cccc(Cl)c34)O2)c2nn(...   0.87     -76.15\n",
       "4  C[Si]([Y])(C[Y])C1c2c(Br)scc2S(=O)(=O)C12CCCC(...   0.87     -67.37"
      ]
     },
     "execution_count": 59,
     "metadata": {},
     "output_type": "execute_result"
    }
   ],
   "source": [
    "integ_df"
   ]
  },
  {
   "cell_type": "code",
   "execution_count": 60,
   "metadata": {},
   "outputs": [
    {
     "data": {
      "text/plain": [
       "array(['Nc1nn(S(=O)(=O)c2cc(Cl)ccc2Cl)c2c1C1C(=NO)C1N2C(=O)N1CC2(C1)CN(c1nccs1)CC2',\n",
       "       'CC1(F)c2nc(S(C)(=O)=O)sc2C(O)(CO)S(=O)(=O)n2nccc21',\n",
       "       'CN1C(=O)C(O)(c2cn(S(C)(=O)=O)s2)C(=O)c2c1noc2SSSS[Si](=O)(=O)S(=O)(=O)c1sccc1C=NO',\n",
       "       'Cn1c2c(s1)S(=O)(C1=NNNc3ncnc1c32)CC[N+](C)(C)CC[Si](C)([Y])O[Y]',\n",
       "       'CSN(C)P(C=O)OP(=O)(O)PP(=O)(O)c1nonc1N1C(=O)C(C)(C)c2sccc21',\n",
       "       'CC([Y])(C[Y])c1noc2c1N(S(C)(C)c1cc(Br)[nH]c1Cl)C(Cl)=C(N)C(Cl)=S2=NC(C)(Cl)Cl',\n",
       "       'CC(=N)SC(CO[Si](F)([Y])O[Y])c1noc2c1C(OS(=O)(=O)O)CSC(C[Si](C)(C)O[Y])S2([O-])=Nc1nsc(S(N)(=O)=O)c1Cl',\n",
       "       'O=C1c2ccsc2C2(O)N1CN(S1(Cl)=NC1)S2(=O)N1CCOCC1',\n",
       "       'Cc1n[nH]c2c1-c1nocc1C(=O)N2CCSCC1=Nc2sc(Cl)nc2C2SCC1N2C',\n",
       "       'CCCCC(C[Y])N1CCCOc2nc(Br)sc2S1([Y])SOS(=O)(=O)Oc1n[nH]c2c1C(C[Si](C)(C)[Si](C)([Y])O[Y])Oc1ccccc1C2=O',\n",
       "       'CC1(C)c2onc(OC[Si](C)([Y])O[Y])c2[SH](C)(F)(F)C(F)(F)C(F)(F)N1C#CC=NC1Nc2ncnn2NN[SH]1',\n",
       "       'CC1(C)c2ccsc2[SH](C)(C)N1OP(=O)(O)Nc1nc2c(ncn2CCC[Si](C)([Y])O[Y])cc1C#CC1(C)CCOC(N)(P)N=N1',\n",
       "       'CC1(C)n2c(=O)[nH]c(Br)c2SP1(C)c1conc1C1C(=O)Nc2ccccc2S1(O)Cl',\n",
       "       'CC1(C)c2[nH]c(-c3cc([Y])sc3[Y])cc2[SH](C)(S)C1[SH](=O)(O)P(=O)(O)Oc1c(F)cnn1C',\n",
       "       'CC1(C)c2cn[nH]c2[SH](C)[SH]1P1NP(=O)(O)N=C(C)N1C(=O)C(Cl)([Y])C[Y]',\n",
       "       'CC1(C)c2ns[n+]([O-])c2C(=O)N1C1Cc2c(C(=O)O)sn2CS(=O)(=O)C1',\n",
       "       'CCn1nccc1S(=O)(=O)N1Cc2sccc2C1C1c2c(C)nsc2C1(O)C(F)F',\n",
       "       'CC(O)(C(=O)Nc1nc2n(n1)C(c1nc3sccn3c1Cl)CS(=O)(=O)C2)c1nc2ccccc2[nH]1',\n",
       "       'N=C(O)C1=C(N)C2(C=C(c3csc4cccc(Cl)c34)O2)c2nn(-c3ccccc3)c(Cl)c2N1',\n",
       "       'C[Si]([Y])(C[Y])C1c2c(Br)scc2S(=O)(=O)C12CCCC(c1nnno1)N=C2c1ccncc1'],\n",
       "      dtype=object)"
      ]
     },
     "execution_count": 60,
     "metadata": {},
     "output_type": "execute_result"
    }
   ],
   "source": [
    "integ_df[\"SMILES\"].values"
   ]
  },
  {
   "cell_type": "code",
   "execution_count": null,
   "metadata": {},
   "outputs": [],
   "source": []
  }
 ],
 "metadata": {
  "kernelspec": {
   "display_name": "Environment (conda_da37)",
   "language": "python",
   "name": "conda_da37"
  },
  "language_info": {
   "codemirror_mode": {
    "name": "ipython",
    "version": 3
   },
   "file_extension": ".py",
   "mimetype": "text/x-python",
   "name": "python",
   "nbconvert_exporter": "python",
   "pygments_lexer": "ipython3",
   "version": "3.7.9"
  }
 },
 "nbformat": 4,
 "nbformat_minor": 4
}
