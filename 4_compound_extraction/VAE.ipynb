{
 "cells": [
  {
   "cell_type": "markdown",
   "metadata": {},
   "source": [
    "# Molecule exploration by VAE"
   ]
  },
  {
   "cell_type": "code",
   "execution_count": 1,
   "metadata": {},
   "outputs": [
    {
     "name": "stderr",
     "output_type": "stream",
     "text": [
      "Using backend: pytorch\n",
      "RDKit WARNING: [14:48:16] Enabling RDKit 2019.09.3 jupyter extensions\n"
     ]
    },
    {
     "name": "stdout",
     "output_type": "stream",
     "text": [
      "Downloading JTNN_ZINC_pre_trained.pth from https://data.dgl.ai/pre_trained/JTNN_ZINC.pth...\n",
      "Pretrained model loaded\n"
     ]
    }
   ],
   "source": [
    "import joblib\n",
    "import numpy as np\n",
    "import sys\n",
    "import os\n",
    "import glob\n",
    "import pandas as pd\n",
    "import matplotlib.pyplot as plt\n",
    "import random\n",
    "import time\n",
    "import os\n",
    "from tqdm.notebook import tqdm\n",
    "import datetime\n",
    "\n",
    "\n",
    "sys.path.append(\"../lib/\")\n",
    "from ScaleRegressor import ScaleRegressor\n",
    "from JTNNWrapper import JTNNWrapper\n",
    "\n",
    "\n",
    "jtnn = JTNNWrapper()"
   ]
  },
  {
   "cell_type": "markdown",
   "metadata": {},
   "source": [
    "# Regression\n",
    "    - Calculate slope for a linear regression model"
   ]
  },
  {
   "cell_type": "code",
   "execution_count": 2,
   "metadata": {},
   "outputs": [],
   "source": [
    "# init variables and files\n",
    "def init(cond):\n",
    "    cond[\"project_code\"] = str(datetime.date.today(\n",
    "    ))+\"_\"+str(len(cond[\"start_smiles\"]))+\"chems_\"+cond[\"target_param_name\"]\n",
    "    cond[\"save_path\"] = \"vae_results/\"+cond[\"project_code\"]\n",
    "    cond[\"sample_num\"] = 10\n",
    "\n",
    "    # makedir\n",
    "    if not os.path.exists(cond[\"save_path\"]):\n",
    "        os.mkdir(cond[\"save_path\"])\n",
    "\n",
    "    joblib.dump(cond, cond[\"save_path\"]+\"/setting\")\n",
    "\n",
    "\n",
    "# load database and get X and y for regression\n",
    "def get_X_y(file_path, smiles_column, target_param_name):\n",
    "    # load DB\n",
    "    df = pd.read_csv(file_path)\n",
    "    df = df[[smiles_column, target_param_name]]\n",
    "    df = df.dropna()\n",
    "\n",
    "    smiles_list = list(df[smiles_column].values)\n",
    "    y_array = np.array(df[target_param_name].values)\n",
    "\n",
    "    # to_vec\n",
    "    vec_path = \"jtnn_vec.bin\"\n",
    "\n",
    "    if os.path.exists(vec_path):\n",
    "        vec_array = joblib.load(vec_path)\n",
    "        print(\"vectors loaded\")\n",
    "    else:\n",
    "        vec_array = jtnn.encode(smiles_list)\n",
    "        joblib.dump(vec_array, vec_path)\n",
    "\n",
    "    # delete broken smiles\n",
    "    available_ids = list(set(np.where(vec_array != 0)[0]))\n",
    "    vec_array = vec_array[available_ids]\n",
    "    y_array = y_array[available_ids]\n",
    "\n",
    "    return vec_array, y_array\n",
    "\n",
    "\n",
    "def regress(vec_array, y_array):\n",
    "    model = ScaleRegressor()\n",
    "    model.fit(vec_array, y_array)\n",
    "    p_tr_y = model.predict(vec_array)\n",
    "\n",
    "    plt.figure(figsize=(4, 4))\n",
    "    plt.scatter(y_array, p_tr_y, s=3)\n",
    "    return model"
   ]
  },
  {
   "cell_type": "markdown",
   "metadata": {},
   "source": [
    "# Search new molecules by VAE"
   ]
  },
  {
   "cell_type": "code",
   "execution_count": 3,
   "metadata": {},
   "outputs": [],
   "source": [
    "import timeout_decorator\n",
    "n_samples = 20\n",
    "\n",
    "\n",
    "@timeout_decorator.timeout(5)\n",
    "def decode(vec):\n",
    "    sm = jtnn.decode(vec)[0]\n",
    "    return sm\n",
    "\n",
    "\n",
    "#sample new chemical by adding slope of regression model\n",
    "def vae_sampling(start_smiles):\n",
    "\n",
    "    #encode\n",
    "    model_vecs = jtnn.encode(start_smiles)\n",
    "\n",
    "    log_list = []\n",
    "    for i in tqdm(range(n_samples)):\n",
    "        \n",
    "        #make initial vector. \n",
    "        w = np.random.uniform(0, 1, len(start_smiles))\n",
    "        w = w/np.sum(w)\n",
    "        alpha = random.uniform(0, 10)\n",
    "        noise_coeff = random.uniform(0, 1)\n",
    "        original_vec = np.dot(w, model_vecs)\n",
    "\n",
    "        # add slope of regression model\n",
    "        vec = model.scaler_X.transform(\n",
    "            original_vec.reshape(-1, jtnn.model.latent_size))\n",
    "        vec += alpha*model.coef_.reshape(-1, vec.shape[1])\n",
    "        \n",
    "        #add random noise\n",
    "        noise = np.random.randn(vec[0].shape[0])\n",
    "        vec += noise*noise_coeff\n",
    "\n",
    "        vec = model.scaler_X.inverse_transform(vec)\n",
    "        vec = vec.astype(np.float32)\n",
    "\n",
    "        #decode\n",
    "        try:\n",
    "            sm = decode(vec)\n",
    "            # print(sm)\n",
    "            if sm is not None and sm != \"Error\":\n",
    "                log = (w, alpha, noise_coeff, sm)\n",
    "                log_list.append(log)\n",
    "        except TimeoutError:\n",
    "            print(\"timeout\")\n",
    "        # print(sm)\n",
    "\n",
    "    return log_list"
   ]
  },
  {
   "cell_type": "code",
   "execution_count": 5,
   "metadata": {},
   "outputs": [],
   "source": [
    "#set conditions\n",
    "cond={}\n",
    "cond[\"type\"]=\"vae_results/\"\n",
    "cond[\"smiles_column\"]=\"SMILES\"\n",
    "cond[\"target_param_name\"]=\"MolLogP\"\n",
    "cond[\"database_path\"]=\"../database/BradleyDoublePlusGoodMeltingPointDataset_logP.csv\"\n",
    "cond[\"start_smiles\"]=[\"Cc1ccccc1\",\"FC(F)(F)F\"]"
   ]
  },
  {
   "cell_type": "code",
   "execution_count": 6,
   "metadata": {
    "scrolled": true
   },
   "outputs": [
    {
     "name": "stdout",
     "output_type": "stream",
     "text": [
      "Downloading /home/user/.dgl/jtnn.zip from https://data.dgl.ai/dataset/jtnn.zip...\n",
      "Loading data...\n",
      "Loading finished\n",
      "\t# samples: 3025\n"
     ]
    },
    {
     "data": {
      "application/vnd.jupyter.widget-view+json": {
       "model_id": "c78c5a7cdac34dbaabdbd0fbb18dd76f",
       "version_major": 2,
       "version_minor": 0
      },
      "text/plain": [
       "  0%|          | 0/3025 [00:00<?, ?it/s]"
      ]
     },
     "metadata": {},
     "output_type": "display_data"
    },
    {
     "name": "stdout",
     "output_type": "stream",
     "text": [
      "error\n",
      "error\n",
      "error\n",
      "error\n"
     ]
    },
    {
     "name": "stderr",
     "output_type": "stream",
     "text": [
      "/home/user/anaconda3/envs/da37/lib/python3.7/site-packages/dgl/base.py:45: DGLWarning: The input graph for the user-defined edge function does not contain valid edges\n",
      "  return warnings.warn(message, category=category, stacklevel=1)\n"
     ]
    },
    {
     "name": "stdout",
     "output_type": "stream",
     "text": [
      "error\n",
      "error\n",
      "error\n",
      "error\n",
      "error\n",
      "error\n",
      "error\n",
      "error\n",
      "error\n",
      "error\n",
      "error\n",
      "error\n",
      "error\n",
      "error\n",
      "error\n",
      "error\n",
      "error\n",
      "error\n",
      "error\n",
      "error\n",
      "error\n",
      "error\n",
      "error\n",
      "error\n",
      "error\n",
      "error\n",
      "error\n",
      "error\n",
      "error\n",
      "error\n",
      "error\n",
      "error\n",
      "error\n",
      "error\n",
      "error\n",
      "error\n",
      "error\n",
      "error\n",
      "error\n",
      "error\n",
      "error\n",
      "error\n",
      "error\n",
      "error\n",
      "error\n",
      "error\n",
      "error\n",
      "error\n",
      "error\n",
      "error\n",
      "error\n",
      "error\n",
      "error\n",
      "error\n",
      "error\n",
      "error\n",
      "error\n",
      "error\n",
      "error\n",
      "error\n",
      "error\n",
      "error\n",
      "error\n",
      "error\n",
      "error\n",
      "error\n",
      "error\n",
      "error\n",
      "error\n",
      "error\n",
      "error\n",
      "error\n",
      "error\n",
      "error\n",
      "error\n",
      "error\n",
      "error\n",
      "error\n",
      "error\n",
      "Downloading /home/user/.dgl/jtnn.zip from https://data.dgl.ai/dataset/jtnn.zip...\n",
      "Loading data...\n",
      "Loading finished\n",
      "\t# samples: 2\n"
     ]
    },
    {
     "data": {
      "application/vnd.jupyter.widget-view+json": {
       "model_id": "d21d4e9bd89548e2a04ef2a9d5908b87",
       "version_major": 2,
       "version_minor": 0
      },
      "text/plain": [
       "  0%|          | 0/2 [00:00<?, ?it/s]"
      ]
     },
     "metadata": {},
     "output_type": "display_data"
    },
    {
     "data": {
      "application/vnd.jupyter.widget-view+json": {
       "model_id": "c7deb9f80c054358ab7017f1a1131ffe",
       "version_major": 2,
       "version_minor": 0
      },
      "text/plain": [
       "  0%|          | 0/20 [00:00<?, ?it/s]"
      ]
     },
     "metadata": {},
     "output_type": "display_data"
    },
    {
     "name": "stdout",
     "output_type": "stream",
     "text": [
      "error! 0\n"
     ]
    },
    {
     "name": "stderr",
     "output_type": "stream",
     "text": [
      "/home/user/anaconda3/envs/da37/lib/python3.7/site-packages/dgl/base.py:45: DGLWarning: The input graph for the user-defined edge function does not contain valid edges\n",
      "  return warnings.warn(message, category=category, stacklevel=1)\n",
      "/home/user/anaconda3/envs/da37/lib/python3.7/site-packages/dgl/base.py:45: DGLWarning: The input graph for the user-defined edge function does not contain valid edges\n",
      "  return warnings.warn(message, category=category, stacklevel=1)\n"
     ]
    },
    {
     "name": "stdout",
     "output_type": "stream",
     "text": [
      "error! 0\n"
     ]
    },
    {
     "data": {
      "image/png": "[encoded data removed]",
      "text/plain": [
       "<Figure size 288x288 with 1 Axes>"
      ]
     },
     "metadata": {
      "needs_background": "light"
     },
     "output_type": "display_data"
    }
   ],
   "source": [
    "vec_array,y_array=get_X_y(cond[\"database_path\"],cond[\"smiles_column\"],cond[\"target_param_name\"])\n",
    "model=regress(vec_array,y_array)\n",
    "log_list=vae_sampling(cond[\"start_smiles\"])"
   ]
  },
  {
   "cell_type": "code",
   "execution_count": 8,
   "metadata": {},
   "outputs": [
    {
     "data": {
      "text/plain": [
       "[(array([0.63945198, 0.36054802]),\n",
       "  7.662724477798379,\n",
       "  0.747090625015604,\n",
       "  'CCc1cc(Cl)cc2c1CCc1cccc(-c3ccc(C4=CCOc5ccccc54)cc3)c1-2'),\n",
       " (array([0.52296956, 0.47703044]),\n",
       "  4.628870878105968,\n",
       "  0.4451051930339305,\n",
       "  'Cc1ccc2c(c1Cl)-c1ccccc1OC2'),\n",
       " (array([0.23851632, 0.76148368]),\n",
       "  0.5111393321162527,\n",
       "  0.21897480469157937,\n",
       "  'FC(F)(F)c1ccccc1'),\n",
       " (array([0.69845675, 0.30154325]),\n",
       "  3.541706159088948,\n",
       "  0.9873002407788676,\n",
       "  'Cc1ccc(N2CCS[C@@H](CC(C)C)CC2)cc1'),\n",
       " (array([0.89572679, 0.10427321]),\n",
       "  0.9539728795038827,\n",
       "  0.25086288668905976,\n",
       "  'Cc1ccc(F)cc1'),\n",
       " (array([0.87633512, 0.12366488]),\n",
       "  1.1549846622469162,\n",
       "  0.8892556715410697,\n",
       "  'Cc1ccc(N(C)N2CCCC2)cc1'),\n",
       " (array([0.59436333, 0.40563667]),\n",
       "  0.06695667494251767,\n",
       "  0.061616404281606973,\n",
       "  'Cc1ccc(F)cc1')]"
      ]
     },
     "execution_count": 8,
     "metadata": {},
     "output_type": "execute_result"
    }
   ],
   "source": [
    "#show results\n",
    "#w, alpha, noise_coeff, sm\n",
    "log_list"
   ]
  },
  {
   "cell_type": "code",
   "execution_count": null,
   "metadata": {},
   "outputs": [],
   "source": []
  }
 ],
 "metadata": {
  "kernelspec": {
   "display_name": "Environment (conda_da37)",
   "language": "python",
   "name": "conda_da37"
  },
  "language_info": {
   "codemirror_mode": {
    "name": "ipython",
    "version": 3
   },
   "file_extension": ".py",
   "mimetype": "text/x-python",
   "name": "python",
   "nbconvert_exporter": "python",
   "pygments_lexer": "ipython3",
   "version": "3.7.9"
  }
 },
 "nbformat": 4,
 "nbformat_minor": 4
}
