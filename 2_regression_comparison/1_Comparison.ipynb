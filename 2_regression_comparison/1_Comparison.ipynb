{
 "cells": [
  {
   "cell_type": "markdown",
   "metadata": {},
   "source": [
    "# Prepare regression models\n",
    "- Database: Bradley's dataset\n",
    "- X: fingerprint or vectors made by VAE\n",
    "- y: Melting temperature, TPSA, or MolLogP"
   ]
  },
  {
   "cell_type": "code",
   "execution_count": 1,
   "metadata": {},
   "outputs": [
    {
     "name": "stderr",
     "output_type": "stream",
     "text": [
      "Using backend: pytorch\n",
      "RDKit WARNING: [17:11:04] Enabling RDKit 2019.09.3 jupyter extensions\n"
     ]
    }
   ],
   "source": [
    "import sys\n",
    "import joblib\n",
    "import numpy as np\n",
    "sys.path.append(\"../lib\")\n",
    "from JTNNWrapper import JTNNWrapper\n",
    "from fp_func import fp_similarity\n",
    "import random\n"
   ]
  },
  {
   "cell_type": "code",
   "execution_count": 2,
   "metadata": {},
   "outputs": [],
   "source": [
    "import pandas as pd\n",
    "#regression...\n",
    "file_path=\"../database/BradleyDoublePlusGoodMeltingPointDataset_logP.csv\"\n",
    "target_param_name=\"MolLogP\"\n",
    "#target_param_name=\"TPSA\"\n",
    "#target_param_name=\"MP\"\n",
    "\n",
    "\n",
    "smiles_column=\"SMILES\"\n",
    "    \n",
    "df=pd.read_csv(file_path)\n",
    "df=df[[smiles_column,target_param_name]]\n",
    "df=df.dropna()\n",
    "\n",
    "\n",
    "smiles_list=list(df[smiles_column].values)\n",
    "y_array=np.array(df[target_param_name].values)\n"
   ]
  },
  {
   "cell_type": "code",
   "execution_count": 3,
   "metadata": {
    "scrolled": true
   },
   "outputs": [],
   "source": [
    "vec_path=\"data/jtnn_vec\"\n",
    "#jtnn=JTNNWapper()\n",
    "#vec_array=jtnn.encode(smiles_list)\n",
    "#joblib.dump(vec_array,vec_path)\n",
    "vec_array=joblib.load(vec_path)"
   ]
  },
  {
   "cell_type": "code",
   "execution_count": 4,
   "metadata": {},
   "outputs": [],
   "source": [
    "def extra_split(df,\n",
    "    target_param_name=\"y\",\n",
    "    spl_ratio=0.8,\n",
    "    top_spl_ratio=0.9,\n",
    "    ):\n",
    "\n",
    "    df=df.sort_values(by=target_param_name)\n",
    "    total_records=df.shape[0]\n",
    "\n",
    "    # use top 10% rec and random10% rec for test\n",
    "    top_spl_pos=int(top_spl_ratio*total_records)\n",
    "    temp_df=df.sort_values(by=target_param_name)\n",
    "    top_df=temp_df[top_spl_pos:]\n",
    "    other_df=temp_df[:top_spl_pos].sample(frac=1,random_state=random.randint(0, 2**31))\n",
    "    target_df=other_df.append(top_df)\n",
    "\n",
    "    spl_pos=int((spl_ratio)*target_df.shape[0])\n",
    "\n",
    "    tr_df=target_df[:spl_pos]\n",
    "    te_df=target_df[spl_pos:]\n",
    "\n",
    "    tr_X=np.array(tr_df.drop(target_param_name,axis=1))\n",
    "    te_X=np.array(te_df.drop(target_param_name,axis=1))\n",
    "    tr_y=np.array(tr_df[target_param_name])\n",
    "    te_y=np.array(te_df[target_param_name])\n",
    "    \n",
    "    return tr_X,te_X,tr_y,te_y\n",
    "\n",
    "def evaluate_model(model,data_df,plot=True):\n",
    "    tr_X, te_X,tr_y,te_y = extra_split(data_df,top_spl_ratio=0.95,spl_ratio=0.9)\n",
    "    \n",
    "    model.fit(tr_X,tr_y)\n",
    "    p_tr_y=model.predict(tr_X)\n",
    "    p_te_y=model.predict(te_X)\n",
    "\n",
    "    if plot:\n",
    "        plt.figure(figsize=(4,4))\n",
    "        plt.scatter(tr_y,p_tr_y,s=3)\n",
    "        plt.scatter(te_y,p_te_y,s=3)\n",
    "\n",
    "        vmax=np.max(np.concatenate([tr_y,te_y]))\n",
    "        vmin=np.min(np.concatenate([tr_y,te_y]))\n",
    "\n",
    "        plt.xlim(vmin,vmax)\n",
    "        plt.ylim(vmin,vmax)\n",
    "\n",
    "    tr_y_max=np.max(tr_y)\n",
    "\n",
    "    extra_ids=np.where(te_y>tr_y_max)\n",
    "    inner_ids=np.where(te_y<=tr_y_max)\n",
    "\n",
    "    res_dict={}\n",
    "    res_dict[\"te_y\"]=te_y\n",
    "    res_dict[\"tr_y\"]=tr_y\n",
    "    res_dict[\"p_te_y\"]=p_te_y\n",
    "    res_dict[\"p_tr_y\"]=p_tr_y\n",
    "    res_dict[\"p_tr_y\"]=p_tr_y\n",
    "    res_dict[\"extra_ids\"]=extra_ids\n",
    "    res_dict[\"inner_ids\"]=inner_ids\n",
    "    return res_dict\n",
    "    \n",
    "    return p_te_y,p_tr_y\n",
    "    \n",
    "    extra_MAE=mean_absolute_error(te_y[extra_ids],p_te_y[extra_ids])\n",
    "    inner_MAE=mean_absolute_error(te_y[inner_ids],p_te_y[inner_ids])\n",
    "    train_MAE=mean_absolute_error(tr_y,p_tr_y)\n",
    "\n",
    "\n",
    "    #print(extra_MAE,inner_MAE,train_MAE)\n",
    "    \n",
    "    return extra_MAE,inner_MAE,train_MAE"
   ]
  },
  {
   "cell_type": "code",
   "execution_count": 5,
   "metadata": {},
   "outputs": [],
   "source": [
    "from Fingerprint import Fingerprint\n",
    "\n",
    "\n",
    "#prepare vector data df\n",
    "available_ids=list(set(np.where(vec_array!=0)[0]))\n",
    "vec_array=vec_array[available_ids]\n",
    "y_array=y_array[available_ids]\n",
    "vec_data_df=pd.DataFrame(vec_array)\n",
    "vec_data_df[\"y\"]=y_array\n",
    "\n",
    "#prepare FP data df\n",
    "FP=Fingerprint()\n",
    "\n",
    "_,available_ids=FP.calc_fingerprint(df[smiles_column].values)\n",
    "temp_df=df[available_ids]\n",
    "fp_list,_=FP.calc_fingerprint(temp_df[smiles_column].values)\n",
    "\n",
    "fp_df=pd.DataFrame(fp_list)\n",
    "fp_df[\"y\"]=temp_df[target_param_name]"
   ]
  },
  {
   "cell_type": "code",
   "execution_count": 6,
   "metadata": {},
   "outputs": [],
   "source": [
    "from ScaleRegressor import ScaleRegressor\n",
    "import matplotlib.pyplot as plt\n",
    "from sklearn.metrics import mean_squared_error,r2_score,mean_absolute_error\n",
    "from sklearn.ensemble import RandomForestRegressor\n",
    "from sklearn.cross_decomposition import PLSRegression\n",
    "from sklearn import linear_model\n",
    "from sklearn.svm import SVR\n",
    "\n",
    "from pyfm import pylibfm\n",
    "from scipy.sparse import csr_matrix\n",
    "\n",
    "from ExtraFM import ExtraFM\n",
    "\n",
    "#model definition\n",
    "\n",
    "# extra FM: not stable\n",
    "\"\"\"\n",
    "fm_model=ExtraFM(pylibfm.FM(task=\"regression\", num_iter=300,initial_learning_rate=1*10**-5,\n",
    "                      num_factors=10,\n",
    "                   verbose=False\n",
    "                    ))   \n",
    "\"\"\"\n",
    "# normal FM: stable\n",
    "from ExtraFM import FMRegressor\n",
    "\n",
    "fm_model=FMRegressor(model = pylibfm.FM(task=\"regression\", num_iter=30,\n",
    "                                     initial_learning_rate=10**-3,num_factors=10,\n",
    "                                     verbose=False),\n",
    "                    auto_scaling_X=False)"
   ]
  },
  {
   "cell_type": "code",
   "execution_count": 7,
   "metadata": {},
   "outputs": [],
   "source": [
    "rfr_model=ScaleRegressor(model=RandomForestRegressor())\n",
    "pls_model=ScaleRegressor(model=PLSRegression(n_components=30))\n",
    "lasso_model=ScaleRegressor(model=linear_model.Lasso(alpha=0.01))\n",
    "bayesian_ridge_model=ScaleRegressor(model=linear_model.BayesianRidge())\n",
    "svr_model=ScaleRegressor(model=SVR())"
   ]
  },
  {
   "cell_type": "code",
   "execution_count": 8,
   "metadata": {},
   "outputs": [
    {
     "data": {
      "image/png": "[encoded data removed]",
      "text/plain": [
       "<Figure size 288x288 with 1 Axes>"
      ]
     },
     "metadata": {
      "needs_background": "light"
     },
     "output_type": "display_data"
    }
   ],
   "source": [
    "#r=evaluate_model(fm_model,fp_df)\n",
    "r=evaluate_model(svr_model,fp_df)"
   ]
  },
  {
   "cell_type": "code",
   "execution_count": 9,
   "metadata": {},
   "outputs": [
    {
     "data": {
      "application/vnd.jupyter.widget-view+json": {
       "model_id": "6b9241e24d2745f09130e38680786c4b",
       "version_major": 2,
       "version_minor": 0
      },
      "text/plain": [
       "  0%|          | 0/5 [00:00<?, ?it/s]"
      ]
     },
     "metadata": {},
     "output_type": "display_data"
    }
   ],
   "source": [
    "#statistical analyses\n",
    "from tqdm.notebook import tqdm\n",
    "NUM_REPEAT=5\n",
    "\n",
    "condition_dict={\n",
    "   \"PLS-vec\":(pls_model,vec_data_df),\n",
    "   \"PLS-fp\":(pls_model,fp_df),\n",
    "    \"Lasso-vec\":(lasso_model,vec_data_df),\n",
    "    \"Lasso-fp\":(lasso_model,fp_df),\n",
    "    \"Bayes-vec\":(bayesian_ridge_model,vec_data_df),\n",
    "    \"Bayes-fp\":(bayesian_ridge_model,fp_df),\n",
    "    \"RF-vec\":(rfr_model,vec_data_df),\n",
    "    \"RF-fp\":(rfr_model,fp_df),\n",
    "    \"SVR-vec\":(svr_model,vec_data_df),\n",
    "    \"SVR-fp\":(svr_model,fp_df),\n",
    "    \"FM-fp\":(fm_model,fp_df),\n",
    "}\n",
    "\n",
    "\n",
    "\n",
    "\n",
    "res_dict={}\n",
    "for i in tqdm(range(NUM_REPEAT)):\n",
    "    for name,cond in condition_dict.items():\n",
    "        model=cond[0]\n",
    "        dataframe=cond[1]\n",
    "        r=evaluate_model(model,dataframe,plot=False)        \n",
    "        r[\"cond\"]=cond\n",
    "        res_dict[f\"{i}-{name}\"]=r\n",
    "        \n",
    "    joblib.dump(res_dict,\"res/20220530/\"+target_param_name+\".bin\")"
   ]
  },
  {
   "cell_type": "code",
   "execution_count": null,
   "metadata": {},
   "outputs": [],
   "source": []
  }
 ],
 "metadata": {
  "interpreter": {
   "hash": "cdffa7e1c12d394e2f0947eed28d237ba467fa836ef233414e98ec0965411c0b"
  },
  "kernelspec": {
   "display_name": "Python 3.7.9 ('da37')",
   "language": "python",
   "name": "python3"
  },
  "language_info": {
   "codemirror_mode": {
    "name": "ipython",
    "version": 3
   },
   "file_extension": ".py",
   "mimetype": "text/x-python",
   "name": "python",
   "nbconvert_exporter": "python",
   "pygments_lexer": "ipython3",
   "version": "3.7.9"
  },
  "toc": {
   "base_numbering": 1,
   "nav_menu": {},
   "number_sections": true,
   "sideBar": true,
   "skip_h1_title": false,
   "title_cell": "Table of Contents",
   "title_sidebar": "Contents",
   "toc_cell": false,
   "toc_position": {},
   "toc_section_display": true,
   "toc_window_display": false
  }
 },
 "nbformat": 4,
 "nbformat_minor": 4
}
