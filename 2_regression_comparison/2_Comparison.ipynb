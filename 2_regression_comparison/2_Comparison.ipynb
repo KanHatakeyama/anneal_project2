{
 "cells": [
  {
   "cell_type": "markdown",
   "metadata": {},
   "source": [
    "# Comprehensive comparison of models"
   ]
  },
  {
   "cell_type": "code",
   "execution_count": 1,
   "metadata": {},
   "outputs": [
    {
     "name": "stderr",
     "output_type": "stream",
     "text": [
      "Using backend: pytorch\n",
      "RDKit WARNING: [15:43:17] Enabling RDKit 2019.09.3 jupyter extensions\n"
     ]
    }
   ],
   "source": [
    "import sys\n",
    "import joblib\n",
    "import numpy as np\n",
    "sys.path.append(\"../lib\")\n",
    "from JTNNWrapper import JTNNWapper\n",
    "from fp_func import fp_similarity\n",
    "import random\n"
   ]
  },
  {
   "cell_type": "code",
   "execution_count": 2,
   "metadata": {},
   "outputs": [],
   "source": [
    "import pandas as pd\n",
    "#regression...\n",
    "file_path=\"../database/BradleyDoublePlusGoodMeltingPointDataset_logP.csv\"\n",
    "target_param_name=\"MolLogP\"\n",
    "target_param_name=\"TPSA\"\n",
    "target_param_name=\"MP\"\n",
    "\n",
    "\n",
    "smiles_column=\"SMILES\"\n",
    "    \n",
    "df=pd.read_csv(file_path)\n",
    "df=df[[smiles_column,target_param_name]]\n",
    "df=df.dropna()\n",
    "\n",
    "\n",
    "smiles_list=list(df[smiles_column].values)\n",
    "y_array=np.array(df[target_param_name].values)\n"
   ]
  },
  {
   "cell_type": "code",
   "execution_count": 3,
   "metadata": {
    "scrolled": true
   },
   "outputs": [],
   "source": [
    "vec_path=\"data/jtnn_vec\"\n",
    "#jtnn=JTNNWapper()\n",
    "#vec_array=jtnn.encode(smiles_list)\n",
    "#joblib.dump(vec_array,vec_path)\n",
    "vec_array=joblib.load(vec_path)"
   ]
  },
  {
   "cell_type": "code",
   "execution_count": 4,
   "metadata": {},
   "outputs": [],
   "source": [
    "def extra_split(df,\n",
    "    target_param_name=\"y\",\n",
    "    spl_ratio=0.8,\n",
    "    top_spl_ratio=0.9,\n",
    "    ):\n",
    "\n",
    "    df=df.sort_values(by=target_param_name)\n",
    "    total_records=df.shape[0]\n",
    "\n",
    "    # use top 10% rec and random10% rec for test\n",
    "    top_spl_pos=int(top_spl_ratio*total_records)\n",
    "    temp_df=df.sort_values(by=target_param_name)\n",
    "    top_df=temp_df[top_spl_pos:]\n",
    "    other_df=temp_df[:top_spl_pos].sample(frac=1,random_state=random.randint(0, 2**31))\n",
    "    target_df=other_df.append(top_df)\n",
    "\n",
    "    spl_pos=int((spl_ratio)*target_df.shape[0])\n",
    "\n",
    "    tr_df=target_df[:spl_pos]\n",
    "    te_df=target_df[spl_pos:]\n",
    "\n",
    "    tr_X=np.array(tr_df.drop(target_param_name,axis=1))\n",
    "    te_X=np.array(te_df.drop(target_param_name,axis=1))\n",
    "    tr_y=np.array(tr_df[target_param_name])\n",
    "    te_y=np.array(te_df[target_param_name])\n",
    "    \n",
    "    return tr_X,te_X,tr_y,te_y\n",
    "\n",
    "def evaluate_model(model,data_df,plot=True):\n",
    "    tr_X, te_X,tr_y,te_y = extra_split(data_df,top_spl_ratio=0.95,spl_ratio=0.9)\n",
    "    \n",
    "    model.fit(tr_X,tr_y)\n",
    "    p_tr_y=model.predict(tr_X)\n",
    "    p_te_y=model.predict(te_X)\n",
    "\n",
    "    if plot:\n",
    "        plt.figure(figsize=(4,4))\n",
    "        plt.scatter(tr_y,p_tr_y,s=3)\n",
    "        plt.scatter(te_y,p_te_y,s=3)\n",
    "\n",
    "        vmax=np.max(np.concatenate([tr_y,te_y]))\n",
    "        vmin=np.min(np.concatenate([tr_y,te_y]))\n",
    "\n",
    "        plt.xlim(vmin,vmax)\n",
    "        plt.ylim(vmin,vmax)\n",
    "\n",
    "    tr_y_max=np.max(tr_y)\n",
    "\n",
    "    extra_ids=np.where(te_y>tr_y_max)\n",
    "    inner_ids=np.where(te_y<=tr_y_max)\n",
    "\n",
    "    res_dict={}\n",
    "    res_dict[\"te_y\"]=te_y\n",
    "    res_dict[\"tr_y\"]=tr_y\n",
    "    res_dict[\"p_te_y\"]=p_te_y\n",
    "    res_dict[\"p_tr_y\"]=p_tr_y\n",
    "    res_dict[\"p_tr_y\"]=p_tr_y\n",
    "    res_dict[\"extra_ids\"]=extra_ids\n",
    "    res_dict[\"inner_ids\"]=inner_ids\n",
    "    return res_dict\n",
    "    \n",
    "    return p_te_y,p_tr_y\n",
    "    \n",
    "    extra_MAE=mean_absolute_error(te_y[extra_ids],p_te_y[extra_ids])\n",
    "    inner_MAE=mean_absolute_error(te_y[inner_ids],p_te_y[inner_ids])\n",
    "    train_MAE=mean_absolute_error(tr_y,p_tr_y)\n",
    "\n",
    "\n",
    "    #print(extra_MAE,inner_MAE,train_MAE)\n",
    "    \n",
    "    return extra_MAE,inner_MAE,train_MAE"
   ]
  },
  {
   "cell_type": "code",
   "execution_count": 5,
   "metadata": {},
   "outputs": [],
   "source": [
    "from Fingerprint import Fingerprint\n",
    "\n",
    "\n",
    "#prepare vector data df\n",
    "available_ids=list(set(np.where(vec_array!=0)[0]))\n",
    "vec_array=vec_array[available_ids]\n",
    "y_array=y_array[available_ids]\n",
    "vec_data_df=pd.DataFrame(vec_array)\n",
    "vec_data_df[\"y\"]=y_array\n",
    "\n",
    "#prepare FP data df\n",
    "FP=Fingerprint()\n",
    "\n",
    "_,available_ids=FP.calc_fingerprint(df[smiles_column].values)\n",
    "temp_df=df[available_ids]\n",
    "fp_list,_=FP.calc_fingerprint(temp_df[smiles_column].values)\n",
    "\n",
    "fp_df=pd.DataFrame(fp_list)\n",
    "fp_df[\"y\"]=temp_df[target_param_name]"
   ]
  },
  {
   "cell_type": "code",
   "execution_count": 6,
   "metadata": {},
   "outputs": [],
   "source": [
    "from ScaleRegressor import ScaleRegressor\n",
    "import matplotlib.pyplot as plt\n",
    "from sklearn.metrics import mean_squared_error,r2_score,mean_absolute_error\n",
    "from sklearn.ensemble import RandomForestRegressor\n",
    "from sklearn.cross_decomposition import PLSRegression\n",
    "from sklearn import linear_model\n",
    "\n",
    "from pyfm import pylibfm\n",
    "from scipy.sparse import csr_matrix\n",
    "\n",
    "from ExtraFM import ExtraFM"
   ]
  },
  {
   "cell_type": "code",
   "execution_count": 7,
   "metadata": {},
   "outputs": [],
   "source": [
    "#model definition\n",
    "\n",
    "# extra FM: not stable\n",
    "\"\"\"\n",
    "fm_model=ExtraFM(pylibfm.FM(task=\"regression\", num_iter=300,initial_learning_rate=1*10**-5,\n",
    "                      num_factors=10,\n",
    "                   verbose=False\n",
    "                    ))   \n",
    "\"\"\"\n",
    "# normal FM: stable\n",
    "from ExtraFM import FMRegressor\n",
    "\n",
    "fm_model=FMRegressor(model = pylibfm.FM(task=\"regression\", num_iter=30,\n",
    "                                     initial_learning_rate=10**-3,num_factors=10,\n",
    "                                     verbose=False),\n",
    "                    auto_scaling_X=False)\n",
    "    "
   ]
  },
  {
   "cell_type": "code",
   "execution_count": 8,
   "metadata": {},
   "outputs": [],
   "source": [
    "from sklearn.svm import SVR\n",
    "    \n",
    "    \n",
    "rfr_model=ScaleRegressor(model=RandomForestRegressor())\n",
    "pls_model=ScaleRegressor(model=PLSRegression(n_components=30))\n",
    "lasso_model=ScaleRegressor(model=linear_model.Lasso(alpha=0.01))\n",
    "bayesian_ridge_model=ScaleRegressor(model=linear_model.BayesianRidge())\n",
    "svr_model=ScaleRegressor(model=SVR())"
   ]
  },
  {
   "cell_type": "code",
   "execution_count": 13,
   "metadata": {},
   "outputs": [
    {
     "data": {
      "text/plain": [
       "{'te_y': array([-165.  ,  151.5 ,    2.  ,  154.  ,  191.  ,   93.  ,  107.  ,\n",
       "         127.  ,  174.  ,  -98.  ,   26.  ,   65.  ,  191.  ,  204.5 ,\n",
       "         -65.  ,  131.5 ,  121.  ,  -88.  ,  -22.  ,   61.  ,  -62.  ,\n",
       "          42.  ,  -31.  ,   68.5 ,   52.  ,   79.  ,  -91.  ,  -55.  ,\n",
       "         125.  ,  188.  ,  101.  ,   50.  ,  107.  , -113.  ,   52.  ,\n",
       "         171.  ,   10.  ,   99.  ,   -1.  ,  167.  , -124.  ,  136.  ,\n",
       "        -112.  , -101.  ,  -13.  , -118.  ,   10.  ,   45.  ,   55.  ,\n",
       "         154.5 ,  138.  ,  142.  ,  215.  ,   82.  ,   56.  ,   60.  ,\n",
       "         197.  ,   92.  , -124.  ,  -93.  ,   70.  ,  153.  ,   73.  ,\n",
       "          34.  ,  105.  ,   26.  ,    6.  ,  -34.  ,  140.  , -188.  ,\n",
       "          12.  ,  -86.  ,   54.  ,  136.  ,   87.5 ,   58.  ,   90.  ,\n",
       "          49.  ,  -80.  ,  195.  ,   59.  ,  182.  ,  127.  ,    8.  ,\n",
       "          12.  ,   50.  ,  160.  ,   34.  ,  -15.  ,  135.5 ,  -19.  ,\n",
       "          58.  ,   -1.  ,   72.5 ,   63.  ,  169.  ,   79.  ,   61.  ,\n",
       "         169.  ,  -39.  ,  137.  ,  160.  ,   99.  ,   48.  ,   -3.  ,\n",
       "        -184.  ,   27.  ,  114.  ,  132.  ,   -7.  ,  146.3 ,   47.  ,\n",
       "          -2.2 ,   55.  ,   43.  , -104.  ,   70.  ,  183.5 ,   46.  ,\n",
       "          12.  ,   75.  ,   42.  ,  198.  ,  159.  ,   30.  ,   61.  ,\n",
       "           2.  ,   64.  ,  124.  ,   98.  ,  -13.  ,   91.  ,   35.  ,\n",
       "         112.  ,  -80.  ,   10.  ,  171.  ,   53.  ,   47.  , -104.  ,\n",
       "          56.  ,   60.  ,  -52.  ,   69.  ,   51.  ,   92.  ,   44.  ,\n",
       "          -6.  ,   42.5 ,  -23.  ,   67.  ,  219.  ,  219.  ,  219.  ,\n",
       "         219.  ,  220.  ,  220.  ,  220.  ,  220.  ,  220.  ,  221.  ,\n",
       "         221.  ,  221.  ,  222.  ,  222.  ,  223.  ,  223.  ,  224.  ,\n",
       "         224.  ,  224.  ,  224.  ,  224.85,  225.  ,  225.  ,  225.  ,\n",
       "         225.  ,  225.  ,  225.  ,  225.5 ,  226.  ,  226.  ,  227.  ,\n",
       "         227.  ,  228.  ,  228.  ,  228.  ,  228.  ,  228.25,  229.  ,\n",
       "         229.  ,  229.5 ,  230.  ,  230.  ,  230.  ,  230.  ,  230.  ,\n",
       "         231.  ,  232.  ,  232.  ,  232.  ,  233.  ,  233.  ,  233.  ,\n",
       "         233.  ,  233.  ,  234.  ,  234.  ,  234.  ,  234.  ,  234.  ,\n",
       "         234.  ,  235.  ,  235.  ,  235.  ,  236.  ,  236.  ,  236.  ,\n",
       "         236.6 ,  237.  ,  237.  ,  237.  ,  237.  ,  237.5 ,  238.  ,\n",
       "         239.75,  240.  ,  240.  ,  240.  ,  241.  ,  242.  ,  242.  ,\n",
       "         242.  ,  243.  ,  243.  ,  247.  ,  247.  ,  247.  ,  247.  ,\n",
       "         248.  ,  248.  ,  249.  ,  250.  ,  250.  ,  250.  ,  252.  ,\n",
       "         253.  ,  253.  ,  253.  ,  254.  ,  255.25,  255.5 ,  256.  ,\n",
       "         258.  ,  258.  ,  260.  ,  260.5 ,  260.5 ,  260.5 ,  262.  ,\n",
       "         262.  ,  263.  ,  265.  ,  265.  ,  268.  ,  268.  ,  268.  ,\n",
       "         269.  ,  270.  ,  270.  ,  271.  ,  272.  ,  272.  ,  273.  ,\n",
       "         273.  ,  274.  ,  275.  ,  275.  ,  276.  ,  276.  ,  278.  ,\n",
       "         278.  ,  281.  ,  282.  ,  283.  ,  283.  ,  283.  ,  284.  ,\n",
       "         287.  ,  289.  ,  300.  ,  300.  ,  303.  ,  306.  ,  306.  ,\n",
       "         314.  ,  316.5 ,  317.  ,  320.  ,  330.5 ,  342.  ,  348.  ,\n",
       "         358.  ,  438.  ]),\n",
       " 'tr_y': array([ 40. , -71. ,  19.5, ..., 118. ,  44. ,  86. ]),\n",
       " 'p_te_y': array([-1.24315483e+02,  1.28813151e+02,  3.42478890e+01,  5.02026601e+01,\n",
       "         1.26765515e+02,  1.13392676e+02,  8.35095968e+01,  7.62795073e+01,\n",
       "         1.06853065e+02, -1.05026259e+02,  5.38235186e+01,  1.07777488e+02,\n",
       "         1.71567582e+02,  1.44913218e+02, -7.50111922e+01,  1.42076073e+02,\n",
       "         1.01356774e+02, -7.91117577e+01, -6.38521947e+00,  8.69902945e+01,\n",
       "        -3.24602777e+01,  3.28414921e+01, -8.17542515e+00,  5.67368223e+01,\n",
       "         3.99164520e+01,  5.04898215e+01, -1.00281559e+02, -2.40650888e+01,\n",
       "         1.10487212e+02,  1.47153038e+02,  8.43520485e+01,  3.56566127e+01,\n",
       "         1.06459023e+02, -1.33150467e+02, -3.49244930e+00,  1.55949459e+02,\n",
       "         2.34407732e+01,  1.07131769e+02, -1.43191093e+01,  1.44760597e+02,\n",
       "        -1.02745057e+02,  1.22516752e+02, -9.68039123e+01, -9.35270662e+01,\n",
       "         2.27355568e+00, -9.61761676e+01,  4.43771943e+01,  2.07909380e+01,\n",
       "         1.79062014e+01,  1.19450000e+02,  1.34975562e+02,  1.55694701e+02,\n",
       "         1.88885872e+02,  5.23993576e+01,  6.84314855e+01,  4.18610171e+01,\n",
       "         1.38435922e+02,  8.30580883e+01, -1.41227495e+02, -5.71601786e+01,\n",
       "         7.26314278e+01,  1.24992428e+02,  3.49641043e+01,  4.01984092e+01,\n",
       "         9.50737979e+01,  3.68884564e+01, -2.14025940e+01,  5.09565728e+00,\n",
       "         1.37731393e+02, -7.65026174e+01,  2.03370221e+01, -5.41764584e+01,\n",
       "         5.62241165e+01,  1.56738472e+02,  1.24593574e+02,  4.94739185e+01,\n",
       "         1.15965778e+02,  2.03313651e+01, -3.68203133e+01,  1.39656766e+02,\n",
       "         6.69346630e+01,  1.53967189e+02,  9.68622481e+01,  6.01818355e+00,\n",
       "         3.52236032e+00,  4.35792534e+01,  1.13549912e+02,  7.56387840e+01,\n",
       "         7.26332201e+00,  1.33706877e+02, -3.89851473e+01,  1.16270895e+02,\n",
       "         4.03114827e+01,  6.79061122e+01,  4.77940851e+01,  9.50576267e+01,\n",
       "         1.10274994e+02, -4.28987888e+00,  1.24222336e+02, -8.28068777e+00,\n",
       "         1.51032399e+02,  1.44157040e+02,  1.19269429e+02,  4.89687124e+01,\n",
       "        -3.46294198e+01, -1.13599224e+02, -7.26146426e+01,  3.71912192e+01,\n",
       "         1.32984889e+02, -1.05038491e+01,  1.34202665e+02,  5.38135784e+01,\n",
       "        -1.76704237e-01, -7.29047788e+00,  5.07508140e+01, -7.76318388e+01,\n",
       "         4.56459773e+01,  1.62066927e+02,  2.98164732e+01, -7.29047788e+00,\n",
       "         1.06102151e+02,  5.60791837e+01,  4.13360451e+01,  1.19594624e+02,\n",
       "         4.12414510e+01,  4.29075388e+01, -2.66988893e+01,  6.30053113e+01,\n",
       "         1.56385910e+02,  1.40204885e+02,  9.91114445e+00,  8.68356410e+01,\n",
       "         1.00484159e+02,  4.57028841e+01, -4.76918163e+01,  2.95551884e+01,\n",
       "         1.71297511e+02,  2.84375553e+01,  5.50135027e+01, -7.34183957e+01,\n",
       "         7.92404749e+01,  7.94809779e+01, -2.77281206e+01,  1.92284611e+00,\n",
       "        -1.29266487e+01,  5.58919453e+01,  1.78933087e+01, -3.53679857e+01,\n",
       "         1.23468717e+02,  4.21014537e+01,  5.88784385e+01,  1.30154570e+02,\n",
       "         1.33693243e+02,  1.00894495e+02,  1.33693243e+02,  1.69067966e+02,\n",
       "         1.38170123e+02,  1.46428133e+02,  1.22738966e+02,  1.15326236e+02,\n",
       "         1.55536761e+02,  1.30474751e+02,  1.26016120e+02,  1.48140289e+02,\n",
       "         1.16844105e+02,  1.34846332e+02,  1.74705094e+02,  1.43762325e+02,\n",
       "         8.44117065e+01,  1.34150365e+02,  1.58039474e+02,  1.41911565e+02,\n",
       "         1.43081995e+02,  1.83565283e+02,  1.17755709e+02,  1.39274700e+02,\n",
       "         2.07478381e+02,  1.98236418e+02,  6.65170382e+01,  1.47013351e+02,\n",
       "         1.34144342e+02,  2.02334440e+02,  1.81092307e+02,  1.65105366e+02,\n",
       "         1.99596271e+02,  1.20432056e+02,  1.21578739e+02,  1.33569330e+02,\n",
       "         1.33436134e+02,  1.33744198e+02,  1.34003017e+02,  1.24026549e+02,\n",
       "         9.51796320e+01,  1.32771087e+02,  8.33976083e+01,  1.08387518e+02,\n",
       "         1.83674731e+02,  1.70576739e+02,  1.04597455e+02,  1.26420199e+02,\n",
       "         1.31486034e+02,  1.71327230e+02,  9.05389029e+01,  1.49889096e+02,\n",
       "         1.34231628e+02,  1.37068690e+02,  1.10671577e+02,  1.45513500e+02,\n",
       "         1.21048542e+02,  1.54970130e+02,  1.07320579e+02,  1.61047591e+02,\n",
       "         1.39289868e+02,  1.25248015e+02,  1.03075960e+02,  1.34334331e+02,\n",
       "         1.08709345e+02,  1.07142391e+02,  9.13704301e+01,  1.46885116e+02,\n",
       "         1.50576559e+02,  1.30810673e+02,  1.41093634e+02,  1.33560097e+02,\n",
       "         1.33848252e+02,  1.46234344e+02,  1.37374521e+02,  1.77062945e+02,\n",
       "         1.50109832e+02,  1.61796096e+02,  9.50460772e+01,  1.33407171e+02,\n",
       "         1.64911547e+02,  1.61887355e+02,  1.59085798e+02,  1.51976436e+02,\n",
       "         1.14144486e+02,  1.61640497e+02,  1.38145406e+02,  1.42438187e+02,\n",
       "         1.40389571e+02,  1.23340392e+02,  1.79535542e+02,  1.35097613e+02,\n",
       "         1.34936444e+02,  8.12556721e+01,  1.94166812e+02,  1.77538154e+02,\n",
       "         1.50112797e+02,  1.60240755e+02,  1.99013707e+02,  2.52091013e+02,\n",
       "         1.46618041e+02,  1.18453869e+02,  1.35222013e+02,  1.33666368e+02,\n",
       "         6.46524224e+01,  1.43412042e+02,  1.66039742e+02,  1.35679836e+02,\n",
       "         1.90271075e+02,  1.33553336e+02,  1.48200836e+02,  1.32434940e+02,\n",
       "         1.94730714e+02,  1.56356652e+02,  1.35782930e+02,  1.88390843e+02,\n",
       "         1.12751410e+02,  1.09260406e+02,  1.24775517e+02,  1.34158440e+02,\n",
       "         1.94038205e+02,  1.53948234e+02,  1.33176181e+02,  1.63170571e+02,\n",
       "         1.34245889e+02,  1.62692114e+02,  1.32435837e+02,  1.40022434e+02,\n",
       "         1.26231673e+02,  1.37027038e+02,  1.49028725e+02,  9.01371377e+01,\n",
       "         1.38630825e+02,  1.27627984e+02,  1.48999244e+02,  1.44847300e+02,\n",
       "         1.78156679e+02,  1.41633922e+02,  1.33358240e+02,  1.01002886e+02,\n",
       "         1.04919972e+02,  1.08279250e+02,  1.33005867e+02,  1.37347816e+02,\n",
       "         1.37359081e+02,  1.35369975e+02,  1.34301127e+02,  1.75076917e+02,\n",
       "         1.34832112e+02,  1.22002849e+02,  1.13816832e+02]),\n",
       " 'p_tr_y': array([  7.39255799, -43.08027557,  -8.78941902, ..., 117.22144977,\n",
       "         52.69129169,  94.68717627]),\n",
       " 'extra_ids': (array([151, 152, 153, 154, 155, 156, 157, 158, 159, 160, 161, 162, 163,\n",
       "         164, 165, 166, 167, 168, 169, 170, 171, 172, 173, 174, 175, 176,\n",
       "         177, 178, 179, 180, 181, 182, 183, 184, 185, 186, 187, 188, 189,\n",
       "         190, 191, 192, 193, 194, 195, 196, 197, 198, 199, 200, 201, 202,\n",
       "         203, 204, 205, 206, 207, 208, 209, 210, 211, 212, 213, 214, 215,\n",
       "         216, 217, 218, 219, 220, 221, 222, 223, 224, 225, 226, 227, 228,\n",
       "         229, 230, 231, 232, 233, 234, 235, 236, 237, 238, 239, 240, 241,\n",
       "         242, 243, 244, 245, 246, 247, 248, 249, 250, 251, 252, 253, 254,\n",
       "         255, 256, 257, 258, 259, 260, 261, 262, 263, 264, 265, 266, 267,\n",
       "         268, 269, 270, 271, 272, 273, 274, 275, 276, 277, 278, 279, 280,\n",
       "         281, 282, 283, 284, 285, 286, 287, 288, 289, 290, 291, 292, 293,\n",
       "         294, 295, 296, 297, 298, 299, 300, 301, 302]),),\n",
       " 'inner_ids': (array([  0,   1,   2,   3,   4,   5,   6,   7,   8,   9,  10,  11,  12,\n",
       "          13,  14,  15,  16,  17,  18,  19,  20,  21,  22,  23,  24,  25,\n",
       "          26,  27,  28,  29,  30,  31,  32,  33,  34,  35,  36,  37,  38,\n",
       "          39,  40,  41,  42,  43,  44,  45,  46,  47,  48,  49,  50,  51,\n",
       "          52,  53,  54,  55,  56,  57,  58,  59,  60,  61,  62,  63,  64,\n",
       "          65,  66,  67,  68,  69,  70,  71,  72,  73,  74,  75,  76,  77,\n",
       "          78,  79,  80,  81,  82,  83,  84,  85,  86,  87,  88,  89,  90,\n",
       "          91,  92,  93,  94,  95,  96,  97,  98,  99, 100, 101, 102, 103,\n",
       "         104, 105, 106, 107, 108, 109, 110, 111, 112, 113, 114, 115, 116,\n",
       "         117, 118, 119, 120, 121, 122, 123, 124, 125, 126, 127, 128, 129,\n",
       "         130, 131, 132, 133, 134, 135, 136, 137, 138, 139, 140, 141, 142,\n",
       "         143, 144, 145, 146, 147, 148, 149, 150]),)}"
      ]
     },
     "execution_count": 13,
     "metadata": {},
     "output_type": "execute_result"
    },
    {
     "data": {
      "image/png": "[encoded data removed]",
      "text/plain": [
       "<Figure size 288x288 with 1 Axes>"
      ]
     },
     "metadata": {
      "needs_background": "light"
     },
     "output_type": "display_data"
    }
   ],
   "source": [
    "#r=evaluate_model(fm_model,fp_df)\n",
    "evaluate_model(svr_model,fp_df)"
   ]
  },
  {
   "cell_type": "code",
   "execution_count": 14,
   "metadata": {},
   "outputs": [
    {
     "data": {
      "application/vnd.jupyter.widget-view+json": {
       "model_id": "cf27a7d056eb49aabd96c60bcab26405",
       "version_major": 2,
       "version_minor": 0
      },
      "text/plain": [
       "  0%|          | 0/5 [00:00<?, ?it/s]"
      ]
     },
     "metadata": {},
     "output_type": "display_data"
    },
    {
     "data": {
      "application/vnd.jupyter.widget-view+json": {
       "model_id": "89ef60ec7d2c4047a0707ac413dede32",
       "version_major": 2,
       "version_minor": 0
      },
      "text/plain": [
       "  0%|          | 0/5 [00:00<?, ?it/s]"
      ]
     },
     "metadata": {},
     "output_type": "display_data"
    },
    {
     "data": {
      "application/vnd.jupyter.widget-view+json": {
       "model_id": "b46dacdf309b41da9793c79831f965a8",
       "version_major": 2,
       "version_minor": 0
      },
      "text/plain": [
       "  0%|          | 0/5 [00:00<?, ?it/s]"
      ]
     },
     "metadata": {},
     "output_type": "display_data"
    }
   ],
   "source": [
    "#statistical analyses\n",
    "from tqdm.notebook import tqdm\n",
    "NUM_REPEAT=5\n",
    "\n",
    "condition_dict={\n",
    "   \"PLS-vec\":(pls_model,vec_data_df),\n",
    "   \"PLS-fp\":(pls_model,fp_df),\n",
    "    \"Lasso-vec\":(lasso_model,vec_data_df),\n",
    "    \"Lasso-fp\":(lasso_model,fp_df),\n",
    "    \"Bayes-vec\":(bayesian_ridge_model,vec_data_df),\n",
    "    \"Bayes-fp\":(bayesian_ridge_model,fp_df),\n",
    "    \"RF-vec\":(rfr_model,vec_data_df),\n",
    "    \"RF-fp\":(rfr_model,fp_df),\n",
    "    \"SVR-vec\":(svr_model,vec_data_df),\n",
    "    \"SVR-fp\":(svr_model,fp_df),\n",
    "    \"FM-fp\":(fm_model,fp_df),\n",
    "}\n",
    "\n",
    "target_param_name=\"MolLogP\"\n",
    "target_param_name=\"TPSA\"\n",
    "target_param_name=\"MP\"\n",
    "\n",
    "for target_param_name in [\"MolLogP\",\"TPSA\",\"MP\"]:\n",
    "\n",
    "    res_dict={}\n",
    "    for i in tqdm(range(NUM_REPEAT)):\n",
    "        for name,cond in condition_dict.items():\n",
    "            model=cond[0]\n",
    "            dataframe=cond[1]\n",
    "            r=evaluate_model(model,dataframe,plot=False)        \n",
    "            r[\"cond\"]=cond\n",
    "            res_dict[f\"{i}-{name}\"]=r\n",
    "            \n",
    "        joblib.dump(res_dict,\"res/20220530/\"+target_param_name+\".bin\")"
   ]
  },
  {
   "cell_type": "code",
   "execution_count": null,
   "metadata": {},
   "outputs": [],
   "source": []
  }
 ],
 "metadata": {
  "interpreter": {
   "hash": "cdffa7e1c12d394e2f0947eed28d237ba467fa836ef233414e98ec0965411c0b"
  },
  "kernelspec": {
   "display_name": "Python 3.7.9 ('da37')",
   "language": "python",
   "name": "python3"
  },
  "language_info": {
   "codemirror_mode": {
    "name": "ipython",
    "version": 3
   },
   "file_extension": ".py",
   "mimetype": "text/x-python",
   "name": "python",
   "nbconvert_exporter": "python",
   "pygments_lexer": "ipython3",
   "version": "3.7.9"
  },
  "toc": {
   "base_numbering": 1,
   "nav_menu": {},
   "number_sections": true,
   "sideBar": true,
   "skip_h1_title": false,
   "title_cell": "Table of Contents",
   "title_sidebar": "Contents",
   "toc_cell": false,
   "toc_position": {},
   "toc_section_display": true,
   "toc_window_display": false
  }
 },
 "nbformat": 4,
 "nbformat_minor": 4
}
