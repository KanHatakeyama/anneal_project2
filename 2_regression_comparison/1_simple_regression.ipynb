{
 "cells": [
  {
   "cell_type": "markdown",
   "metadata": {},
   "source": [
    "# Prepare regression models\n",
    "- Database: Bradley's dataset\n",
    "- X: fingerprint or vectors made by VAE\n",
    "- y: Melting temperature, TPSA, or MolLogP"
   ]
  },
  {
   "cell_type": "code",
   "execution_count": 3,
   "metadata": {},
   "outputs": [],
   "source": [
    "import random\n",
    "import sys\n",
    "import pandas as pd\n",
    "import joblib\n",
    "import numpy as np\n",
    "\n",
    "sys.path.append(\"../lib\")\n",
    "from fp_func import fp_similarity\n",
    "from JTNNWrapper import JTNNWrapper\n",
    "from Fingerprint import Fingerprint\n",
    "from util import extra_split"
   ]
  },
  {
   "cell_type": "code",
   "execution_count": 4,
   "metadata": {},
   "outputs": [],
   "source": [
    "#load database\n",
    "\n",
    "file_path=\"../database/BradleyDoublePlusGoodMeltingPointDataset_logP.csv\"\n",
    "target_param_name=\"MolLogP\"\n",
    "#target_param_name=\"TPSA\"\n",
    "#target_param_name=\"MP\"\n",
    "\n",
    "\n",
    "smiles_column=\"SMILES\"\n",
    "    \n",
    "df=pd.read_csv(file_path)\n",
    "df=df[[smiles_column,target_param_name]]\n",
    "df=df.dropna()\n",
    "\n",
    "smiles_list=list(df[smiles_column].values)\n",
    "y_array=np.array(df[target_param_name].values)"
   ]
  },
  {
   "cell_type": "code",
   "execution_count": 5,
   "metadata": {
    "scrolled": true
   },
   "outputs": [],
   "source": [
    "#laod vector expression of molecules\n",
    "\n",
    "vec_path=\"data/jtnn_vec\"\n",
    "#jtnn=JTNNWapper()\n",
    "#vec_array=jtnn.encode(smiles_list)\n",
    "#joblib.dump(vec_array,vec_path)\n",
    "vec_array=joblib.load(vec_path)\n",
    "\n",
    "\n",
    "#prepare vector data df\n",
    "available_ids=list(set(np.where(vec_array!=0)[0]))\n",
    "vec_array=vec_array[available_ids]\n",
    "y_array=y_array[available_ids]\n",
    "vec_data_df=pd.DataFrame(vec_array)\n",
    "vec_data_df[\"y\"]=y_array"
   ]
  },
  {
   "cell_type": "code",
   "execution_count": 6,
   "metadata": {},
   "outputs": [],
   "source": [
    "#prepare FP data df\n",
    "FP=Fingerprint()\n",
    "\n",
    "_,available_ids=FP.calc_fingerprint(df[smiles_column].values)\n",
    "temp_df=df[available_ids]\n",
    "fp_list,_=FP.calc_fingerprint(temp_df[smiles_column].values)\n",
    "\n",
    "fp_df=pd.DataFrame(fp_list)\n",
    "fp_df[\"y\"]=temp_df[target_param_name]"
   ]
  },
  {
   "cell_type": "code",
   "execution_count": 7,
   "metadata": {},
   "outputs": [],
   "source": [
    "from ScaleRegressor import ScaleRegressor\n",
    "import matplotlib.pyplot as plt\n",
    "from sklearn.metrics import mean_squared_error,r2_score,mean_absolute_error\n",
    "from sklearn.ensemble import RandomForestRegressor\n",
    "from sklearn.cross_decomposition import PLSRegression\n",
    "from sklearn import linear_model\n",
    "\n",
    "\n",
    "def evaluate_model(model, data_df, plot=True):\n",
    "    tr_X, te_X, tr_y, te_y = extra_split(\n",
    "        data_df, target_param_name=\"y\",smiles_column=None,\n",
    "        top_spl_ratio=0.95, spl_ratio=0.9)\n",
    "\n",
    "    model.fit(tr_X, tr_y)\n",
    "    p_tr_y = model.predict(tr_X)\n",
    "    p_te_y = model.predict(te_X)\n",
    "\n",
    "    if plot:\n",
    "        plt.figure(figsize=(4, 4))\n",
    "        plt.scatter(tr_y, p_tr_y, s=3)\n",
    "        plt.scatter(te_y, p_te_y, s=3)\n",
    "\n",
    "        vmax = np.max(np.concatenate([tr_y, te_y]))\n",
    "        vmin = np.min(np.concatenate([tr_y, te_y]))\n",
    "\n",
    "        plt.xlim(vmin, vmax)\n",
    "        plt.ylim(vmin, vmax)\n",
    "\n",
    "    tr_y_max = np.max(tr_y)\n",
    "\n",
    "    extra_ids = np.where(te_y > tr_y_max)\n",
    "    inner_ids = np.where(te_y <= tr_y_max)\n",
    "\n",
    "    extra_MAE = mean_absolute_error(te_y[extra_ids], p_te_y[extra_ids])\n",
    "    inner_MAE = mean_absolute_error(te_y[inner_ids], p_te_y[inner_ids])\n",
    "    train_MAE = mean_absolute_error(tr_y, p_tr_y)\n",
    "\n",
    "    # print(extra_MAE,inner_MAE,train_MAE)\n",
    "\n",
    "    return extra_MAE, inner_MAE, train_MAE"
   ]
  },
  {
   "cell_type": "code",
   "execution_count": 8,
   "metadata": {},
   "outputs": [],
   "source": [
    "#model definition    \n",
    "rfr_model=ScaleRegressor(model=RandomForestRegressor())\n",
    "pls_model=ScaleRegressor(model=PLSRegression(n_components=30))\n",
    "lasso_model=ScaleRegressor(model=linear_model.Lasso(alpha=0.01))\n",
    "bayesian_ridge_model=ScaleRegressor(model=linear_model.BayesianRidge())"
   ]
  },
  {
   "cell_type": "markdown",
   "metadata": {},
   "source": [
    "# Evaluation\n",
    "    - evaluate_model inputs a) regression model and b) database\n",
    "    - evaluate_model returns: MAEs for test (extra  region), test (inner region), and train datasets"
   ]
  },
  {
   "cell_type": "code",
   "execution_count": 9,
   "metadata": {},
   "outputs": [
    {
     "data": {
      "text/plain": [
       "(2.259562625516011, 0.4601376163744598, 0.46042493329702977)"
      ]
     },
     "execution_count": 9,
     "metadata": {},
     "output_type": "execute_result"
    },
    {
     "data": {
      "image/png": "[encoded data removed]",
      "text/plain": [
       "<Figure size 288x288 with 1 Axes>"
      ]
     },
     "metadata": {
      "needs_background": "light"
     },
     "output_type": "display_data"
    }
   ],
   "source": [
    "#PLS model and vector type dataframe\n",
    "evaluate_model(pls_model,vec_data_df)"
   ]
  },
  {
   "cell_type": "code",
   "execution_count": 10,
   "metadata": {},
   "outputs": [
    {
     "data": {
      "text/plain": [
       "(3.7387235909127687, 0.533686202972662, 0.4309481081368128)"
      ]
     },
     "execution_count": 10,
     "metadata": {},
     "output_type": "execute_result"
    },
    {
     "data": {
      "image/png": "[encoded data removed]",
      "text/plain": [
       "<Figure size 288x288 with 1 Axes>"
      ]
     },
     "metadata": {
      "needs_background": "light"
     },
     "output_type": "display_data"
    }
   ],
   "source": [
    "#lasso model and fingerprint type dataframe\n",
    "evaluate_model(lasso_model,fp_df)"
   ]
  },
  {
   "cell_type": "code",
   "execution_count": 11,
   "metadata": {},
   "outputs": [
    {
     "data": {
      "text/plain": [
       "(3.5362258423036583, 0.5180541952550356, 0.38249203595105385)"
      ]
     },
     "execution_count": 11,
     "metadata": {},
     "output_type": "execute_result"
    },
    {
     "data": {
      "image/png": "[encoded data removed]",
      "text/plain": [
       "<Figure size 288x288 with 1 Axes>"
      ]
     },
     "metadata": {
      "needs_background": "light"
     },
     "output_type": "display_data"
    }
   ],
   "source": [
    "#Bayesian ridge model and fingerprint type dataframe\n",
    "evaluate_model(bayesian_ridge_model,fp_df)"
   ]
  },
  {
   "cell_type": "code",
   "execution_count": null,
   "metadata": {},
   "outputs": [],
   "source": []
  }
 ],
 "metadata": {
  "interpreter": {
   "hash": "cdffa7e1c12d394e2f0947eed28d237ba467fa836ef233414e98ec0965411c0b"
  },
  "kernelspec": {
   "display_name": "Python 3.7.9 ('da37')",
   "language": "python",
   "name": "python3"
  },
  "language_info": {
   "codemirror_mode": {
    "name": "ipython",
    "version": 3
   },
   "file_extension": ".py",
   "mimetype": "text/x-python",
   "name": "python",
   "nbconvert_exporter": "python",
   "pygments_lexer": "ipython3",
   "version": "3.7.9"
  },
  "toc": {
   "base_numbering": 1,
   "nav_menu": {},
   "number_sections": true,
   "sideBar": true,
   "skip_h1_title": false,
   "title_cell": "Table of Contents",
   "title_sidebar": "Contents",
   "toc_cell": false,
   "toc_position": {},
   "toc_section_display": true,
   "toc_window_display": false
  }
 },
 "nbformat": 4,
 "nbformat_minor": 4
}
