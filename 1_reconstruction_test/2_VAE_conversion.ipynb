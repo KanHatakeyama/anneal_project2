{
 "cells": [
  {
   "cell_type": "markdown",
   "metadata": {},
   "source": [
    "# Data reconstruction by VAE\n",
    "- Convert molecular information into vector, and restore it by VAE\n",
    "    - VAE: Junction tree VAE\n",
    "    - https://arxiv.org/pdf/1802.04364"
   ]
  },
  {
   "cell_type": "code",
   "execution_count": 2,
   "metadata": {},
   "outputs": [
    {
     "name": "stdout",
     "output_type": "stream",
     "text": [
      "Downloading JTNN_ZINC_pre_trained.pth from https://data.dgl.ai/pre_trained/JTNN_ZINC.pth...\n",
      "Pretrained model loaded\n"
     ]
    }
   ],
   "source": [
    "import sys\n",
    "import joblib\n",
    "import numpy as np\n",
    "import random\n",
    "import pandas as pd\n",
    "import matplotlib.pyplot as plt\n",
    "\n",
    "sys.path.append(\"../lib\")\n",
    "from JTNNWrapper import JTNNWrapper\n",
    "from fp_func import fp_similarity,fp_func\n",
    "\n",
    "jtnn=JTNNWrapper()"
   ]
  },
  {
   "cell_type": "code",
   "execution_count": 2,
   "metadata": {},
   "outputs": [
    {
     "data": {
      "text/plain": [
       "['c1ccc2c(c1)nc(s2)N',\n",
       " 'c1ccc(cc1)COC(=O)/C=C/c2ccccc2',\n",
       " 'O=C1C=C(C)C(=O)C(C)=C1']"
      ]
     },
     "execution_count": 2,
     "metadata": {},
     "output_type": "execute_result"
    }
   ],
   "source": [
    "#load random 150 molecules from Bradley's dataset\n",
    "file_path=\"../database/random_smiles.csv\"\n",
    "df=pd.read_csv(file_path)\n",
    "smiles_list=list(df[\"SMILES\"].values)\n",
    "smiles_list[:3]"
   ]
  },
  {
   "cell_type": "code",
   "execution_count": 5,
   "metadata": {
    "scrolled": true
   },
   "outputs": [
    {
     "name": "stdout",
     "output_type": "stream",
     "text": [
      "Downloading /home/user/.dgl/jtnn.zip from https://data.dgl.ai/dataset/jtnn.zip...\n",
      "Loading data...\n",
      "Loading finished\n",
      "\t# samples: 3\n"
     ]
    },
    {
     "data": {
      "application/vnd.jupyter.widget-view+json": {
       "model_id": "65871993d36a495dbbdfd77811fa693f",
       "version_major": 2,
       "version_minor": 0
      },
      "text/plain": [
       "  0%|          | 0/3 [00:00<?, ?it/s]"
      ]
     },
     "metadata": {},
     "output_type": "display_data"
    }
   ],
   "source": [
    "#reconstruction\n",
    "vec=jtnn.encode(smiles_list[0:3])\n",
    "reconst_sm_list=jtnn.decode(vec)"
   ]
  },
  {
   "cell_type": "code",
   "execution_count": 8,
   "metadata": {},
   "outputs": [
    {
     "name": "stdout",
     "output_type": "stream",
     "text": [
      "original['c1ccc2c(c1)nc(s2)N', 'c1ccc(cc1)COC(=O)/C=C/c2ccccc2', 'O=C1C=C(C)C(=O)C(C)=C1']\n",
      "reconstructed['Nc1nc2ccccc2s1', 'N#Cc1ccc(OCC(=O)/N=C/c2ccccc2)cc1', 'CC1=CC(=O)C=C(C)C1=O']\n"
     ]
    }
   ],
   "source": [
    "print(f\"original{smiles_list[0:3]}\")\n",
    "print(f\"reconstructed{reconst_sm_list}\")"
   ]
  },
  {
   "cell_type": "code",
   "execution_count": null,
   "metadata": {},
   "outputs": [],
   "source": []
  }
 ],
 "metadata": {
  "kernelspec": {
   "display_name": "Environment (conda_da37)",
   "language": "python",
   "name": "conda_da37"
  },
  "language_info": {
   "codemirror_mode": {
    "name": "ipython",
    "version": 3
   },
   "file_extension": ".py",
   "mimetype": "text/x-python",
   "name": "python",
   "nbconvert_exporter": "python",
   "pygments_lexer": "ipython3",
   "version": "3.7.9"
  },
  "toc": {
   "base_numbering": 1,
   "nav_menu": {},
   "number_sections": true,
   "sideBar": true,
   "skip_h1_title": false,
   "title_cell": "Table of Contents",
   "title_sidebar": "Contents",
   "toc_cell": false,
   "toc_position": {},
   "toc_section_display": true,
   "toc_window_display": false
  }
 },
 "nbformat": 4,
 "nbformat_minor": 4
}
