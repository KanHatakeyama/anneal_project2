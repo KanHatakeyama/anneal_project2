{
 "cells": [
  {
   "cell_type": "markdown",
   "metadata": {},
   "source": [
    "# Train Restricted Boltzmann Machine (RBM)"
   ]
  },
  {
   "cell_type": "code",
   "execution_count": 7,
   "metadata": {},
   "outputs": [],
   "source": [
    "import joblib\n",
    "import numpy as np\n",
    "import sys\n",
    "import os\n",
    "import glob\n",
    "import pandas as pd\n",
    "import matplotlib.pyplot as plt\n",
    "import random\n",
    "from rdkit.Chem import AllChem, Draw\n",
    "from rdkit import Chem\n",
    "\n",
    "sys.path.append(\"../lib/\")\n",
    "from MoleculeRegressor import FP\n",
    "from rbm_util import train_rbm\n"
   ]
  },
  {
   "cell_type": "code",
   "execution_count": 8,
   "metadata": {},
   "outputs": [],
   "source": [
    "#load database\n",
    "file_path=\"../database/BradleyDoublePlusGoodMeltingPointDataset_logP.csv\"\n",
    "target_param_name=\"MolLogP\"\n",
    "smiles_column=\"SMILES\"\n",
    "    \n",
    "df=pd.read_csv(file_path)\n",
    "df=df[[smiles_column,target_param_name]]\n",
    "df=df.dropna()\n",
    "\n",
    "#calculate fingerprint and delete broken smiles\n",
    "_,available_index=FP.calc_fingerprint(df[smiles_column].values)\n",
    "df=df[available_index]\n",
    "\n",
    "fp_list,_=FP.calc_fingerprint(df[smiles_column].values)"
   ]
  },
  {
   "cell_type": "code",
   "execution_count": 9,
   "metadata": {
    "scrolled": true
   },
   "outputs": [],
   "source": [
    "sampling_numbers = 4\n",
    "\n",
    "#wrapper function to train RBM\n",
    "\n",
    "def auto_learn(sampling_numbers, plot=True,\n",
    "               all_dim=1024,\n",
    "               k=1,\n",
    "               epochs=300,\n",
    "               batch_size=None):\n",
    "    \n",
    "    # randomly select fingerprints (n = sampling_numbers)\n",
    "    dump_fp_list = random.sample(fp_list, sampling_numbers)\n",
    "    joblib.dump(dump_fp_list, \"data/fp.bin\")\n",
    "\n",
    "    if batch_size is None:\n",
    "        batch_size = int(len(dump_fp_list)/2)\n",
    "    if batch_size >= 32:\n",
    "        batch_size = 32\n",
    "    print(batch_size)\n",
    "\n",
    "    fp_dim = len(fp_list[0])\n",
    "\n",
    "    while all_dim <= fp_dim:\n",
    "        all_dim = all_dim*2\n",
    "\n",
    "    print(\"RBM dimension:\", all_dim)\n",
    "    rc_list = train_rbm(fp_path=\"data/fp.bin\",\n",
    "                        out_path=\"data/rbm_J.bin\",\n",
    "                        batch_size=batch_size,\n",
    "                        all_units=all_dim,\n",
    "                        use_gpu=True,\n",
    "                        epochs=epochs,\n",
    "                        check_reconstruction=10,\n",
    "                        k=k,\n",
    "                        plot=plot)\n",
    "\n",
    "    err_list = []\n",
    "    for i in range(len(rc_list)):\n",
    "        res = rc_list[i]\n",
    "        err = np.mean((res[0]-res[1])**2)\n",
    "        err_list.append(err)\n",
    "\n",
    "    #return reconstruction error\n",
    "    return np.log(np.mean(err_list))"
   ]
  },
  {
   "cell_type": "code",
   "execution_count": 10,
   "metadata": {
    "scrolled": true
   },
   "outputs": [
    {
     "name": "stdout",
     "output_type": "stream",
     "text": [
      "1\n",
      "RBM dimension: 2048\n",
      "RBM fitting: 32it [00:00, 70.23it/s]\n",
      "Epoch:1 ,avg_cost = 0.12389445304870605 ,std_cost = 0.0760997086763382 ,avg_grad = 77248.21875 ,std_grad = 38103.15625\n",
      "RBM fitting: 32it [00:00, 847.37it/s]\n",
      "Epoch:2 ,avg_cost = 0.09247005730867386 ,std_cost = 0.05898900330066681 ,avg_grad = 62885.79296875 ,std_grad = 25470.181640625\n",
      "RBM fitting: 32it [00:00, 847.84it/s]\n",
      "Epoch:3 ,avg_cost = 0.08151543885469437 ,std_cost = 0.04710909724235535 ,avg_grad = 63110.95703125 ,std_grad = 28205.4765625\n",
      "RBM fitting: 32it [00:00, 689.57it/s]\n",
      "Epoch:4 ,avg_cost = 0.07735969126224518 ,std_cost = 0.04439222812652588 ,avg_grad = 60322.91796875 ,std_grad = 28644.041015625\n",
      "RBM fitting: 32it [00:00, 843.56it/s]\n",
      "Epoch:5 ,avg_cost = 0.07501760870218277 ,std_cost = 0.04226740449666977 ,avg_grad = 61227.4765625 ,std_grad = 27259.533203125\n",
      "RBM fitting: 32it [00:00, 839.88it/s]\n",
      "Epoch:6 ,avg_cost = 0.0745658278465271 ,std_cost = 0.04238948971033096 ,avg_grad = 59237.203125 ,std_grad = 27903.71875\n",
      "RBM fitting: 32it [00:00, 775.28it/s]\n",
      "Epoch:7 ,avg_cost = 0.07235891371965408 ,std_cost = 0.04105439409613609 ,avg_grad = 59142.390625 ,std_grad = 27706.00390625\n",
      "RBM fitting: 32it [00:00, 703.15it/s]\n",
      "Epoch:8 ,avg_cost = 0.0709611102938652 ,std_cost = 0.03819938749074936 ,avg_grad = 60209.5546875 ,std_grad = 26737.740234375\n",
      "RBM fitting: 32it [00:00, 795.90it/s]\n",
      "Epoch:9 ,avg_cost = 0.06728912889957428 ,std_cost = 0.03688972815871239 ,avg_grad = 58475.6875 ,std_grad = 27315.419921875\n",
      "RBM fitting: 32it [00:00, 847.90it/s]\n",
      "Epoch:10 ,avg_cost = 0.06871955096721649 ,std_cost = 0.03823404759168625 ,avg_grad = 59644.796875 ,std_grad = 26762.61328125\n",
      "RBM fitting: 32it [00:00, 830.88it/s]\n",
      "Epoch:11 ,avg_cost = 0.06873932480812073 ,std_cost = 0.03697113320231438 ,avg_grad = 58462.6484375 ,std_grad = 27227.71875\n",
      "RBM fitting: 32it [00:00, 841.76it/s]\n",
      "Epoch:12 ,avg_cost = 0.06757458299398422 ,std_cost = 0.037098757922649384 ,avg_grad = 59175.7421875 ,std_grad = 27723.3984375\n",
      "RBM fitting: 32it [00:00, 773.53it/s]\n",
      "Epoch:13 ,avg_cost = 0.0682932510972023 ,std_cost = 0.0366334430873394 ,avg_grad = 59404.984375 ,std_grad = 26878.279296875\n",
      "RBM fitting: 32it [00:00, 801.36it/s]\n",
      "Epoch:14 ,avg_cost = 0.06672946363687515 ,std_cost = 0.03520672023296356 ,avg_grad = 57474.4921875 ,std_grad = 26474.494140625\n",
      "RBM fitting: 32it [00:00, 660.14it/s]\n",
      "Epoch:15 ,avg_cost = 0.06482864916324615 ,std_cost = 0.032831598073244095 ,avg_grad = 58133.5625 ,std_grad = 25833.119140625\n",
      "RBM fitting: 32it [00:00, 794.55it/s]\n",
      "Epoch:16 ,avg_cost = 0.06426667422056198 ,std_cost = 0.033675916492938995 ,avg_grad = 58386.92578125 ,std_grad = 26036.638671875\n",
      "RBM fitting: 32it [00:00, 777.38it/s]\n",
      "Epoch:17 ,avg_cost = 0.0648314505815506 ,std_cost = 0.032998450100421906 ,avg_grad = 58251.3671875 ,std_grad = 26624.349609375\n",
      "RBM fitting: 32it [00:00, 797.87it/s]\n",
      "Epoch:18 ,avg_cost = 0.06353744864463806 ,std_cost = 0.03149380534887314 ,avg_grad = 57760.14453125 ,std_grad = 25535.90234375\n",
      "RBM fitting: 32it [00:00, 800.25it/s]\n",
      "Epoch:19 ,avg_cost = 0.062360651791095734 ,std_cost = 0.0307658351957798 ,avg_grad = 57693.875 ,std_grad = 25035.5234375\n",
      "RBM fitting: 32it [00:00, 779.36it/s]\n",
      "Epoch:20 ,avg_cost = 0.06420192122459412 ,std_cost = 0.032232023775577545 ,avg_grad = 56794.90234375 ,std_grad = 24844.611328125\n",
      "RBM fitting: 32it [00:00, 797.44it/s]\n",
      "Epoch:21 ,avg_cost = 0.059989672154188156 ,std_cost = 0.029042718932032585 ,avg_grad = 58410.29296875 ,std_grad = 25488.806640625\n",
      "RBM fitting: 32it [00:00, 771.64it/s]\n",
      "Epoch:22 ,avg_cost = 0.06109228730201721 ,std_cost = 0.030264541506767273 ,avg_grad = 57191.41796875 ,std_grad = 24193.986328125\n",
      "RBM fitting: 32it [00:00, 775.29it/s]\n",
      "Epoch:23 ,avg_cost = 0.06226985901594162 ,std_cost = 0.03162367641925812 ,avg_grad = 56670.8125 ,std_grad = 25578.21875\n",
      "RBM fitting: 32it [00:00, 840.99it/s]\n",
      "Epoch:24 ,avg_cost = 0.059589698910713196 ,std_cost = 0.02880941703915596 ,avg_grad = 57489.0546875 ,std_grad = 24271.1328125\n",
      "RBM fitting: 32it [00:00, 841.02it/s]\n",
      "Epoch:25 ,avg_cost = 0.06068175286054611 ,std_cost = 0.029803236946463585 ,avg_grad = 57939.5859375 ,std_grad = 25677.861328125\n",
      "RBM fitting: 32it [00:00, 792.80it/s]\n",
      "Epoch:26 ,avg_cost = 0.06045309081673622 ,std_cost = 0.029415516182780266 ,avg_grad = 57717.81640625 ,std_grad = 25156.28125\n",
      "RBM fitting: 32it [00:00, 793.73it/s]\n",
      "Epoch:27 ,avg_cost = 0.06127552315592766 ,std_cost = 0.02954069897532463 ,avg_grad = 58017.8046875 ,std_grad = 24723.076171875\n",
      "RBM fitting: 32it [00:00, 800.26it/s]\n",
      "Epoch:28 ,avg_cost = 0.060602810233831406 ,std_cost = 0.031204955652356148 ,avg_grad = 56900.171875 ,std_grad = 25228.873046875\n",
      "RBM fitting: 32it [00:00, 798.79it/s]\n",
      "Epoch:29 ,avg_cost = 0.05660615861415863 ,std_cost = 0.024018822237849236 ,avg_grad = 57048.703125 ,std_grad = 24006.31640625\n",
      "RBM fitting: 32it [00:00, 800.37it/s]\n",
      "Epoch:30 ,avg_cost = 0.05848172307014465 ,std_cost = 0.026185795664787292 ,avg_grad = 56257.40625 ,std_grad = 24507.380859375\n",
      "RBM fitting: 32it [00:00, 799.83it/s]\n",
      "Epoch:31 ,avg_cost = 0.05957666039466858 ,std_cost = 0.028363794088363647 ,avg_grad = 57487.1015625 ,std_grad = 25153.44921875\n",
      "RBM fitting: 32it [00:00, 799.91it/s]\n",
      "Epoch:32 ,avg_cost = 0.05810258165001869 ,std_cost = 0.027245361357927322 ,avg_grad = 56390.22265625 ,std_grad = 24115.208984375\n",
      "RBM fitting: 32it [00:00, 800.15it/s]\n",
      "Epoch:33 ,avg_cost = 0.05879262834787369 ,std_cost = 0.02798442170023918 ,avg_grad = 56352.74609375 ,std_grad = 24584.5625\n",
      "RBM fitting: 32it [00:00, 741.03it/s]\n",
      "Epoch:34 ,avg_cost = 0.058279454708099365 ,std_cost = 0.028325602412223816 ,avg_grad = 56827.77734375 ,std_grad = 24678.9453125\n",
      "RBM fitting: 32it [00:00, 848.98it/s]\n",
      "Epoch:35 ,avg_cost = 0.059443745762109756 ,std_cost = 0.02883787266910076 ,avg_grad = 56743.41015625 ,std_grad = 24282.16015625\n",
      "RBM fitting: 32it [00:00, 798.04it/s]\n",
      "Epoch:36 ,avg_cost = 0.05848698318004608 ,std_cost = 0.02834293805062771 ,avg_grad = 57502.81640625 ,std_grad = 24599.806640625\n",
      "RBM fitting: 32it [00:00, 852.75it/s]\n",
      "Epoch:37 ,avg_cost = 0.05822942405939102 ,std_cost = 0.02601032890379429 ,avg_grad = 56052.55859375 ,std_grad = 24206.58203125\n",
      "RBM fitting: 32it [00:00, 780.02it/s]\n",
      "Epoch:38 ,avg_cost = 0.05790448933839798 ,std_cost = 0.02852070890367031 ,avg_grad = 56628.0234375 ,std_grad = 24377.59375\n",
      "RBM fitting: 32it [00:00, 775.12it/s]\n",
      "Epoch:39 ,avg_cost = 0.057705607265233994 ,std_cost = 0.02500646933913231 ,avg_grad = 57275.91796875 ,std_grad = 23617.654296875\n",
      "RBM fitting: 32it [00:00, 802.01it/s]\n",
      "Epoch:40 ,avg_cost = 0.05775799602270126 ,std_cost = 0.02687295898795128 ,avg_grad = 56002.16796875 ,std_grad = 23932.900390625\n",
      "RBM fitting: 32it [00:00, 727.90it/s]\n",
      "Epoch:41 ,avg_cost = 0.058369942009449005 ,std_cost = 0.02692052163183689 ,avg_grad = 56621.72265625 ,std_grad = 23557.3671875\n",
      "RBM fitting: 32it [00:00, 775.13it/s]\n",
      "Epoch:42 ,avg_cost = 0.0576104000210762 ,std_cost = 0.027008503675460815 ,avg_grad = 56795.046875 ,std_grad = 24224.02734375\n",
      "RBM fitting: 32it [00:00, 843.72it/s]\n",
      "Epoch:43 ,avg_cost = 0.05660812184214592 ,std_cost = 0.02531547099351883 ,avg_grad = 55699.16015625 ,std_grad = 23304.873046875\n",
      "RBM fitting: 32it [00:00, 841.26it/s]\n",
      "Epoch:44 ,avg_cost = 0.05826108902692795 ,std_cost = 0.02774929441511631 ,avg_grad = 56211.40234375 ,std_grad = 24802.810546875\n",
      "RBM fitting: 32it [00:00, 795.66it/s]\n",
      "Epoch:45 ,avg_cost = 0.05651421844959259 ,std_cost = 0.02489168383181095 ,avg_grad = 56516.5078125 ,std_grad = 23315.7578125\n",
      "RBM fitting: 32it [00:00, 852.03it/s]\n",
      "Epoch:46 ,avg_cost = 0.055835068225860596 ,std_cost = 0.023799719288945198 ,avg_grad = 56682.5859375 ,std_grad = 23294.869140625\n",
      "RBM fitting: 32it [00:00, 797.63it/s]\n",
      "Epoch:47 ,avg_cost = 0.05596752464771271 ,std_cost = 0.024505646899342537 ,avg_grad = 56720.79296875 ,std_grad = 24192.6484375\n",
      "RBM fitting: 32it [00:00, 772.92it/s]\n",
      "Epoch:48 ,avg_cost = 0.055294811725616455 ,std_cost = 0.02406500093638897 ,avg_grad = 56134.3203125 ,std_grad = 23903.681640625\n",
      "RBM fitting: 32it [00:00, 842.47it/s]\n",
      "Epoch:49 ,avg_cost = 0.056442223489284515 ,std_cost = 0.024040699005126953 ,avg_grad = 56959.2265625 ,std_grad = 23234.3125\n",
      "RBM fitting: 32it [00:00, 778.60it/s]\n",
      "Epoch:50 ,avg_cost = 0.056291304528713226 ,std_cost = 0.024204721674323082 ,avg_grad = 55965.375 ,std_grad = 23710.203125\n",
      "RBM fitting: 32it [00:00, 801.28it/s]\n",
      "Epoch:51 ,avg_cost = 0.055253081023693085 ,std_cost = 0.024011889472603798 ,avg_grad = 56446.9921875 ,std_grad = 24303.904296875\n",
      "RBM fitting: 32it [00:00, 798.20it/s]\n",
      "Epoch:52 ,avg_cost = 0.057328853756189346 ,std_cost = 0.026389105245471 ,avg_grad = 56244.88671875 ,std_grad = 23382.265625\n",
      "RBM fitting: 32it [00:00, 842.48it/s]\n",
      "Epoch:53 ,avg_cost = 0.05653778463602066 ,std_cost = 0.02597862109541893 ,avg_grad = 55562.859375 ,std_grad = 23572.49609375\n",
      "RBM fitting: 32it [00:00, 852.87it/s]\n",
      "Epoch:54 ,avg_cost = 0.05504035949707031 ,std_cost = 0.02297886461019516 ,avg_grad = 56008.8359375 ,std_grad = 23344.796875\n",
      "RBM fitting: 32it [00:00, 803.15it/s]\n",
      "Epoch:55 ,avg_cost = 0.05509297922253609 ,std_cost = 0.024308515712618828 ,avg_grad = 55838.75 ,std_grad = 23002.068359375\n",
      "RBM fitting: 32it [00:00, 774.70it/s]\n",
      "Epoch:56 ,avg_cost = 0.055066365748643875 ,std_cost = 0.023923300206661224 ,avg_grad = 55892.56640625 ,std_grad = 23089.802734375\n",
      "RBM fitting: 32it [00:00, 846.56it/s]\n",
      "Epoch:57 ,avg_cost = 0.053474970161914825 ,std_cost = 0.023289434611797333 ,avg_grad = 55632.80078125 ,std_grad = 22957.91796875\n",
      "RBM fitting: 32it [00:00, 776.93it/s]\n",
      "Epoch:58 ,avg_cost = 0.055738091468811035 ,std_cost = 0.024062661454081535 ,avg_grad = 55946.1640625 ,std_grad = 23859.283203125\n",
      "RBM fitting: 32it [00:00, 774.06it/s]\n",
      "Epoch:59 ,avg_cost = 0.05528417229652405 ,std_cost = 0.024028081446886063 ,avg_grad = 55886.640625 ,std_grad = 23496.28515625\n",
      "RBM fitting: 32it [00:00, 842.48it/s]\n",
      "Epoch:60 ,avg_cost = 0.05546410754323006 ,std_cost = 0.025305569171905518 ,avg_grad = 55903.0625 ,std_grad = 23089.671875\n",
      "RBM fitting: 32it [00:00, 844.39it/s]\n",
      "Epoch:61 ,avg_cost = 0.05453943833708763 ,std_cost = 0.022016607224941254 ,avg_grad = 56357.390625 ,std_grad = 21963.787109375\n",
      "RBM fitting: 32it [00:00, 675.88it/s]\n",
      "Epoch:62 ,avg_cost = 0.054522477090358734 ,std_cost = 0.023917775601148605 ,avg_grad = 55733.9765625 ,std_grad = 23184.27734375\n",
      "RBM fitting: 32it [00:00, 772.49it/s]\n",
      "Epoch:63 ,avg_cost = 0.05430953949689865 ,std_cost = 0.02356203831732273 ,avg_grad = 55796.78125 ,std_grad = 23445.388671875\n",
      "RBM fitting: 32it [00:00, 771.25it/s]\n",
      "Epoch:64 ,avg_cost = 0.05468721687793732 ,std_cost = 0.0243663527071476 ,avg_grad = 55068.9921875 ,std_grad = 22511.447265625\n",
      "RBM fitting: 32it [00:00, 843.51it/s]\n",
      "Epoch:65 ,avg_cost = 0.0546446293592453 ,std_cost = 0.02435789629817009 ,avg_grad = 55793.34765625 ,std_grad = 22098.646484375\n",
      "RBM fitting: 32it [00:00, 781.69it/s]\n",
      "Epoch:66 ,avg_cost = 0.054871998727321625 ,std_cost = 0.024714719504117966 ,avg_grad = 55733.53125 ,std_grad = 22823.75\n",
      "RBM fitting: 32it [00:00, 800.56it/s]\n",
      "Epoch:67 ,avg_cost = 0.05404232442378998 ,std_cost = 0.02293711155653 ,avg_grad = 55349.39453125 ,std_grad = 23426.029296875\n",
      "RBM fitting: 32it [00:00, 846.20it/s]\n",
      "Epoch:68 ,avg_cost = 0.0521230474114418 ,std_cost = 0.022187307476997375 ,avg_grad = 55677.9609375 ,std_grad = 22394.203125\n",
      "RBM fitting: 32it [00:00, 794.79it/s]\n",
      "Epoch:69 ,avg_cost = 0.052426598966121674 ,std_cost = 0.022604871541261673 ,avg_grad = 55124.9609375 ,std_grad = 21837.279296875\n",
      "RBM fitting: 32it [00:00, 776.22it/s]\n",
      "Epoch:70 ,avg_cost = 0.05216165632009506 ,std_cost = 0.02119350992143154 ,avg_grad = 55094.0546875 ,std_grad = 22862.34375\n",
      "RBM fitting: 32it [00:00, 797.42it/s]\n",
      "Epoch:71 ,avg_cost = 0.052477989345788956 ,std_cost = 0.02106461487710476 ,avg_grad = 55574.546875 ,std_grad = 21411.478515625\n",
      "RBM fitting: 32it [00:00, 802.98it/s]\n",
      "Epoch:72 ,avg_cost = 0.05225995182991028 ,std_cost = 0.021100705489516258 ,avg_grad = 55292.3359375 ,std_grad = 22496.953125\n",
      "RBM fitting: 32it [00:00, 774.61it/s]\n",
      "Epoch:73 ,avg_cost = 0.051586709916591644 ,std_cost = 0.021346786990761757 ,avg_grad = 54466.8828125 ,std_grad = 22123.9375\n",
      "RBM fitting: 32it [00:00, 846.55it/s]\n",
      "Epoch:74 ,avg_cost = 0.053817812353372574 ,std_cost = 0.023099513724446297 ,avg_grad = 55770.44921875 ,std_grad = 22621.123046875\n",
      "RBM fitting: 32it [00:00, 798.30it/s]\n",
      "Epoch:75 ,avg_cost = 0.052201058715581894 ,std_cost = 0.01965893991291523 ,avg_grad = 55076.89453125 ,std_grad = 22034.4296875\n",
      "RBM fitting: 32it [00:00, 780.42it/s]\n",
      "Epoch:76 ,avg_cost = 0.053814612329006195 ,std_cost = 0.022811608389019966 ,avg_grad = 55939.33984375 ,std_grad = 23435.94140625\n",
      "RBM fitting: 32it [00:00, 803.27it/s]\n",
      "Epoch:77 ,avg_cost = 0.05354691296815872 ,std_cost = 0.023404983803629875 ,avg_grad = 56129.3359375 ,std_grad = 22756.90625\n",
      "RBM fitting: 32it [00:00, 803.67it/s]\n",
      "Epoch:78 ,avg_cost = 0.051979586482048035 ,std_cost = 0.022474756464362144 ,avg_grad = 55146.1875 ,std_grad = 22735.953125\n",
      "RBM fitting: 32it [00:00, 802.05it/s]\n",
      "Epoch:79 ,avg_cost = 0.05313178151845932 ,std_cost = 0.023217305541038513 ,avg_grad = 55422.41796875 ,std_grad = 22061.181640625\n",
      "RBM fitting: 32it [00:00, 800.61it/s]\n",
      "Epoch:80 ,avg_cost = 0.051523756235837936 ,std_cost = 0.021114161238074303 ,avg_grad = 55167.1875 ,std_grad = 22355.029296875\n",
      "RBM fitting: 32it [00:00, 801.19it/s]\n",
      "Epoch:81 ,avg_cost = 0.052524127066135406 ,std_cost = 0.0211121067404747 ,avg_grad = 55216.6015625 ,std_grad = 22828.310546875\n",
      "RBM fitting: 32it [00:00, 851.64it/s]\n",
      "Epoch:82 ,avg_cost = 0.053472816944122314 ,std_cost = 0.023318123072385788 ,avg_grad = 55585.7734375 ,std_grad = 22026.564453125\n",
      "RBM fitting: 32it [00:00, 855.77it/s]\n",
      "Epoch:83 ,avg_cost = 0.04962356016039848 ,std_cost = 0.019784310832619667 ,avg_grad = 55040.484375 ,std_grad = 22041.62109375\n",
      "RBM fitting: 32it [00:00, 799.79it/s]\n",
      "Epoch:84 ,avg_cost = 0.05181898549199104 ,std_cost = 0.022112928330898285 ,avg_grad = 55033.23828125 ,std_grad = 22312.345703125\n",
      "RBM fitting: 32it [00:00, 776.60it/s]\n",
      "Epoch:85 ,avg_cost = 0.05138133838772774 ,std_cost = 0.0203857421875 ,avg_grad = 54567.96875 ,std_grad = 21825.92578125\n",
      "RBM fitting: 32it [00:00, 841.64it/s]\n",
      "Epoch:86 ,avg_cost = 0.052073922008275986 ,std_cost = 0.021154746413230896 ,avg_grad = 54652.7578125 ,std_grad = 21660.96875\n",
      "RBM fitting: 32it [00:00, 796.69it/s]\n",
      "Epoch:87 ,avg_cost = 0.05177628621459007 ,std_cost = 0.021323340013623238 ,avg_grad = 54960.0546875 ,std_grad = 21310.310546875\n",
      "RBM fitting: 32it [00:00, 796.93it/s]\n",
      "Epoch:88 ,avg_cost = 0.05003965646028519 ,std_cost = 0.01974729262292385 ,avg_grad = 55400.625 ,std_grad = 21524.205078125\n",
      "RBM fitting: 32it [00:00, 844.79it/s]\n",
      "Epoch:89 ,avg_cost = 0.0527074821293354 ,std_cost = 0.021995630115270615 ,avg_grad = 54718.4453125 ,std_grad = 22120.15625\n",
      "RBM fitting: 32it [00:00, 846.01it/s]\n",
      "Epoch:90 ,avg_cost = 0.05147766321897507 ,std_cost = 0.022724973037838936 ,avg_grad = 54803.2109375 ,std_grad = 22155.92578125\n",
      "RBM fitting: 32it [00:00, 794.99it/s]\n",
      "Epoch:91 ,avg_cost = 0.052021853625774384 ,std_cost = 0.022281207144260406 ,avg_grad = 55062.109375 ,std_grad = 22348.580078125\n",
      "RBM fitting: 32it [00:00, 844.74it/s]\n",
      "Epoch:92 ,avg_cost = 0.049907829612493515 ,std_cost = 0.019296355545520782 ,avg_grad = 54687.38671875 ,std_grad = 21140.298828125\n",
      "RBM fitting: 32it [00:00, 846.60it/s]\n",
      "Epoch:93 ,avg_cost = 0.051754485815763474 ,std_cost = 0.021838627755641937 ,avg_grad = 54977.49609375 ,std_grad = 22104.47265625\n",
      "RBM fitting: 32it [00:00, 774.93it/s]\n",
      "Epoch:94 ,avg_cost = 0.05031358078122139 ,std_cost = 0.0186051856726408 ,avg_grad = 55182.71875 ,std_grad = 21240.103515625\n",
      "RBM fitting: 32it [00:00, 796.86it/s]\n",
      "Epoch:95 ,avg_cost = 0.050325874239206314 ,std_cost = 0.019575130194425583 ,avg_grad = 54849.51171875 ,std_grad = 21796.45703125\n",
      "RBM fitting: 32it [00:00, 779.98it/s]\n",
      "Epoch:96 ,avg_cost = 0.05043777823448181 ,std_cost = 0.019039489328861237 ,avg_grad = 54436.4140625 ,std_grad = 21609.10546875\n",
      "RBM fitting: 32it [00:00, 778.85it/s]\n",
      "Epoch:97 ,avg_cost = 0.050044525414705276 ,std_cost = 0.019774863496422768 ,avg_grad = 54624.21484375 ,std_grad = 22568.333984375\n",
      "RBM fitting: 32it [00:00, 775.30it/s]\n",
      "Epoch:98 ,avg_cost = 0.04984752833843231 ,std_cost = 0.019532421603798866 ,avg_grad = 54446.64453125 ,std_grad = 21700.15234375\n",
      "RBM fitting: 32it [00:00, 802.68it/s]\n",
      "Epoch:99 ,avg_cost = 0.05042053759098053 ,std_cost = 0.020001456141471863 ,avg_grad = 55337.08984375 ,std_grad = 22612.986328125\n",
      "RBM fitting: 32it [00:00, 852.42it/s]\n",
      "Epoch:100 ,avg_cost = 0.05115565285086632 ,std_cost = 0.021135959774255753 ,avg_grad = 54916.515625 ,std_grad = 21676.1640625\n",
      "RBM fitting: 32it [00:00, 850.80it/s]\n",
      "Epoch:101 ,avg_cost = 0.051841381937265396 ,std_cost = 0.02256515435874462 ,avg_grad = 54285.015625 ,std_grad = 21944.625\n",
      "RBM fitting: 32it [00:00, 803.58it/s]\n",
      "Epoch:102 ,avg_cost = 0.050417933613061905 ,std_cost = 0.019772540777921677 ,avg_grad = 54638.85546875 ,std_grad = 21034.73046875\n",
      "RBM fitting: 32it [00:00, 803.73it/s]\n",
      "Epoch:103 ,avg_cost = 0.05063524842262268 ,std_cost = 0.019983947277069092 ,avg_grad = 54221.0 ,std_grad = 20916.49609375\n",
      "RBM fitting: 32it [00:00, 676.89it/s]\n",
      "Epoch:104 ,avg_cost = 0.049708664417266846 ,std_cost = 0.01908428780734539 ,avg_grad = 53994.7890625 ,std_grad = 21135.609375\n",
      "RBM fitting: 32it [00:00, 795.52it/s]\n",
      "Epoch:105 ,avg_cost = 0.0497966930270195 ,std_cost = 0.020476141944527626 ,avg_grad = 55085.640625 ,std_grad = 21445.6875\n",
      "RBM fitting: 32it [00:00, 703.98it/s]\n",
      "Epoch:106 ,avg_cost = 0.05153524503111839 ,std_cost = 0.023366345092654228 ,avg_grad = 54737.16796875 ,std_grad = 21643.0859375\n",
      "RBM fitting: 32it [00:00, 773.49it/s]\n",
      "Epoch:107 ,avg_cost = 0.05147479474544525 ,std_cost = 0.021280471235513687 ,avg_grad = 54041.5546875 ,std_grad = 21257.509765625\n",
      "RBM fitting: 32it [00:00, 842.99it/s]\n",
      "Epoch:108 ,avg_cost = 0.05007319897413254 ,std_cost = 0.019673015922307968 ,avg_grad = 54630.71875 ,std_grad = 21489.30078125\n",
      "RBM fitting: 32it [00:00, 842.73it/s]\n",
      "Epoch:109 ,avg_cost = 0.049816008657217026 ,std_cost = 0.01929156668484211 ,avg_grad = 54162.125 ,std_grad = 21169.970703125\n",
      "RBM fitting: 32it [00:00, 704.78it/s]\n",
      "Epoch:110 ,avg_cost = 0.04859134554862976 ,std_cost = 0.01932682655751705 ,avg_grad = 54406.25390625 ,std_grad = 21635.1328125\n",
      "RBM fitting: 32it [00:00, 796.73it/s]\n",
      "Epoch:111 ,avg_cost = 0.049758587032556534 ,std_cost = 0.020183414220809937 ,avg_grad = 54806.5078125 ,std_grad = 21846.6640625\n",
      "RBM fitting: 32it [00:00, 795.60it/s]\n",
      "Epoch:112 ,avg_cost = 0.04916588217020035 ,std_cost = 0.019518930464982986 ,avg_grad = 53893.109375 ,std_grad = 21326.44921875\n",
      "RBM fitting: 32it [00:00, 798.79it/s]\n",
      "Epoch:113 ,avg_cost = 0.04997203126549721 ,std_cost = 0.019880587235093117 ,avg_grad = 54847.73046875 ,std_grad = 21874.484375\n",
      "RBM fitting: 32it [00:00, 851.54it/s]\n",
      "Epoch:114 ,avg_cost = 0.04970793053507805 ,std_cost = 0.01933901757001877 ,avg_grad = 53881.58984375 ,std_grad = 21221.388671875\n",
      "RBM fitting: 32it [00:00, 852.34it/s]\n",
      "Epoch:115 ,avg_cost = 0.05054366961121559 ,std_cost = 0.021233875304460526 ,avg_grad = 54992.03515625 ,std_grad = 22190.5234375\n",
      "RBM fitting: 32it [00:00, 854.59it/s]\n",
      "Epoch:116 ,avg_cost = 0.04957590624690056 ,std_cost = 0.019138464704155922 ,avg_grad = 54352.796875 ,std_grad = 21776.810546875\n",
      "RBM fitting: 32it [00:00, 849.80it/s]\n",
      "Epoch:117 ,avg_cost = 0.04957851022481918 ,std_cost = 0.019216053187847137 ,avg_grad = 54405.7109375 ,std_grad = 21085.580078125\n",
      "RBM fitting: 32it [00:00, 843.19it/s]\n",
      "Epoch:118 ,avg_cost = 0.050867173820734024 ,std_cost = 0.02132589928805828 ,avg_grad = 54744.62109375 ,std_grad = 21670.09375\n",
      "RBM fitting: 32it [00:00, 796.25it/s]\n",
      "Epoch:119 ,avg_cost = 0.04910469055175781 ,std_cost = 0.020164916291832924 ,avg_grad = 54538.51171875 ,std_grad = 21195.693359375\n",
      "RBM fitting: 32it [00:00, 848.97it/s]\n",
      "Epoch:120 ,avg_cost = 0.04973457753658295 ,std_cost = 0.020644860342144966 ,avg_grad = 54232.453125 ,std_grad = 20698.537109375\n",
      "RBM fitting: 32it [00:00, 803.89it/s]\n",
      "Epoch:121 ,avg_cost = 0.050870247185230255 ,std_cost = 0.019784996286034584 ,avg_grad = 54046.4375 ,std_grad = 21659.29296875\n",
      "RBM fitting: 32it [00:00, 802.38it/s]\n",
      "Epoch:122 ,avg_cost = 0.0473179891705513 ,std_cost = 0.020176347345113754 ,avg_grad = 54348.79296875 ,std_grad = 21335.486328125\n",
      "RBM fitting: 32it [00:00, 780.99it/s]\n",
      "Epoch:123 ,avg_cost = 0.05074398219585419 ,std_cost = 0.02030044049024582 ,avg_grad = 55075.1796875 ,std_grad = 22000.759765625\n",
      "RBM fitting: 32it [00:00, 804.89it/s]\n",
      "Epoch:124 ,avg_cost = 0.04828242212533951 ,std_cost = 0.019459683448076248 ,avg_grad = 54311.765625 ,std_grad = 20752.458984375\n",
      "RBM fitting: 32it [00:00, 803.23it/s]\n",
      "Epoch:125 ,avg_cost = 0.049983300268650055 ,std_cost = 0.019921164959669113 ,avg_grad = 54879.5 ,std_grad = 20880.921875\n",
      "RBM fitting: 32it [00:00, 851.19it/s]\n",
      "Epoch:126 ,avg_cost = 0.05063314363360405 ,std_cost = 0.01982913166284561 ,avg_grad = 54478.3828125 ,std_grad = 20675.876953125\n",
      "RBM fitting: 32it [00:00, 803.75it/s]\n",
      "Epoch:127 ,avg_cost = 0.048665471374988556 ,std_cost = 0.01973521150648594 ,avg_grad = 54290.4296875 ,std_grad = 20792.482421875\n",
      "RBM fitting: 32it [00:00, 781.79it/s]\n",
      "Epoch:128 ,avg_cost = 0.048713892698287964 ,std_cost = 0.019652942195534706 ,avg_grad = 54138.61328125 ,std_grad = 20246.314453125\n",
      "RBM fitting: 32it [00:00, 802.30it/s]\n",
      "Epoch:129 ,avg_cost = 0.04992133751511574 ,std_cost = 0.01882370188832283 ,avg_grad = 53923.06640625 ,std_grad = 20731.806640625\n",
      "RBM fitting: 32it [00:00, 780.99it/s]\n",
      "Epoch:130 ,avg_cost = 0.05016482621431351 ,std_cost = 0.021170279011130333 ,avg_grad = 54377.98046875 ,std_grad = 21335.115234375\n",
      "RBM fitting: 32it [00:00, 850.67it/s]\n",
      "Epoch:131 ,avg_cost = 0.04890298843383789 ,std_cost = 0.019278792664408684 ,avg_grad = 54035.65234375 ,std_grad = 20881.79296875\n",
      "RBM fitting: 32it [00:00, 852.16it/s]\n",
      "Epoch:132 ,avg_cost = 0.04839218407869339 ,std_cost = 0.019285038113594055 ,avg_grad = 54174.734375 ,std_grad = 21247.1953125\n",
      "RBM fitting: 32it [00:00, 788.61it/s]\n",
      "Epoch:133 ,avg_cost = 0.05069892853498459 ,std_cost = 0.019947916269302368 ,avg_grad = 54231.12109375 ,std_grad = 20926.291015625\n",
      "RBM fitting: 32it [00:00, 771.57it/s]\n",
      "Epoch:134 ,avg_cost = 0.047894250601530075 ,std_cost = 0.018483588472008705 ,avg_grad = 53792.65234375 ,std_grad = 21227.271484375\n",
      "RBM fitting: 32it [00:00, 721.20it/s]\n",
      "Epoch:135 ,avg_cost = 0.04845647141337395 ,std_cost = 0.017663635313510895 ,avg_grad = 53979.078125 ,std_grad = 20802.322265625\n",
      "RBM fitting: 32it [00:00, 807.53it/s]\n",
      "Epoch:136 ,avg_cost = 0.04788648709654808 ,std_cost = 0.019396094605326653 ,avg_grad = 53560.5859375 ,std_grad = 20698.83203125\n",
      "RBM fitting: 32it [00:00, 760.95it/s]\n",
      "Epoch:137 ,avg_cost = 0.0472332127392292 ,std_cost = 0.01890016533434391 ,avg_grad = 54132.69921875 ,std_grad = 21049.69140625\n",
      "RBM fitting: 32it [00:00, 765.79it/s]\n",
      "Epoch:138 ,avg_cost = 0.04716291278600693 ,std_cost = 0.018523208796977997 ,avg_grad = 53510.2890625 ,std_grad = 20610.919921875\n",
      "RBM fitting: 32it [00:00, 765.21it/s]\n",
      "Epoch:139 ,avg_cost = 0.04834989085793495 ,std_cost = 0.018869545310735703 ,avg_grad = 53921.953125 ,std_grad = 20193.38671875\n",
      "RBM fitting: 32it [00:00, 747.44it/s]\n",
      "Epoch:140 ,avg_cost = 0.05049043893814087 ,std_cost = 0.020776579156517982 ,avg_grad = 54086.8671875 ,std_grad = 20804.77734375\n",
      "RBM fitting: 32it [00:00, 768.18it/s]\n",
      "Epoch:141 ,avg_cost = 0.04914519563317299 ,std_cost = 0.019149241968989372 ,avg_grad = 53844.703125 ,std_grad = 20560.224609375\n",
      "RBM fitting: 32it [00:00, 707.58it/s]\n",
      "Epoch:142 ,avg_cost = 0.04799026623368263 ,std_cost = 0.018910685554146767 ,avg_grad = 53869.953125 ,std_grad = 20779.1015625\n",
      "RBM fitting: 32it [00:00, 798.48it/s]\n",
      "Epoch:143 ,avg_cost = 0.048519834876060486 ,std_cost = 0.02095348760485649 ,avg_grad = 53651.76171875 ,std_grad = 19848.142578125\n",
      "RBM fitting: 32it [00:00, 779.73it/s]\n",
      "Epoch:144 ,avg_cost = 0.04782068729400635 ,std_cost = 0.01879662647843361 ,avg_grad = 54171.4375 ,std_grad = 21100.990234375\n",
      "RBM fitting: 32it [00:00, 776.38it/s]\n",
      "Epoch:145 ,avg_cost = 0.04873771592974663 ,std_cost = 0.018772820010781288 ,avg_grad = 54368.703125 ,std_grad = 21174.875\n",
      "RBM fitting: 32it [00:00, 795.60it/s]\n",
      "Epoch:146 ,avg_cost = 0.048551443964242935 ,std_cost = 0.01923641376197338 ,avg_grad = 54421.546875 ,std_grad = 20758.1796875\n",
      "RBM fitting: 32it [00:00, 799.30it/s]\n",
      "Epoch:147 ,avg_cost = 0.04678598791360855 ,std_cost = 0.018451903015375137 ,avg_grad = 53376.99609375 ,std_grad = 20653.478515625\n",
      "RBM fitting: 32it [00:00, 799.48it/s]\n",
      "Epoch:148 ,avg_cost = 0.0482160821557045 ,std_cost = 0.01898295246064663 ,avg_grad = 53669.91015625 ,std_grad = 19962.666015625\n",
      "RBM fitting: 32it [00:00, 796.99it/s]\n",
      "Epoch:149 ,avg_cost = 0.04812559857964516 ,std_cost = 0.019526952877640724 ,avg_grad = 53760.62109375 ,std_grad = 20445.287109375\n",
      "RBM fitting: 32it [00:00, 780.34it/s]\n",
      "Epoch:150 ,avg_cost = 0.048403818160295486 ,std_cost = 0.01905009150505066 ,avg_grad = 53134.48046875 ,std_grad = 20551.01953125\n",
      "RBM fitting: 32it [00:00, 743.12it/s]\n",
      "Epoch:151 ,avg_cost = 0.04850984364748001 ,std_cost = 0.01906246691942215 ,avg_grad = 54064.5625 ,std_grad = 20770.447265625\n",
      "RBM fitting: 32it [00:00, 801.24it/s]\n",
      "Epoch:152 ,avg_cost = 0.04894532263278961 ,std_cost = 0.018383551388978958 ,avg_grad = 53961.375 ,std_grad = 20819.673828125\n",
      "RBM fitting: 32it [00:00, 798.86it/s]\n",
      "Epoch:153 ,avg_cost = 0.04878520220518112 ,std_cost = 0.01886400207877159 ,avg_grad = 53787.37890625 ,std_grad = 20769.576171875\n",
      "RBM fitting: 32it [00:00, 795.89it/s]\n",
      "Epoch:154 ,avg_cost = 0.04664227366447449 ,std_cost = 0.018182097002863884 ,avg_grad = 53571.78125 ,std_grad = 20226.3984375\n",
      "RBM fitting: 32it [00:00, 791.64it/s]\n",
      "Epoch:155 ,avg_cost = 0.047908686101436615 ,std_cost = 0.02037227898836136 ,avg_grad = 53756.6640625 ,std_grad = 20392.6015625\n",
      "RBM fitting: 32it [00:00, 793.73it/s]\n",
      "Epoch:156 ,avg_cost = 0.047282636165618896 ,std_cost = 0.01869315281510353 ,avg_grad = 53897.6796875 ,std_grad = 20038.923828125\n",
      "RBM fitting: 32it [00:00, 646.66it/s]\n",
      "Epoch:157 ,avg_cost = 0.0490943118929863 ,std_cost = 0.02028726227581501 ,avg_grad = 53464.24609375 ,std_grad = 20316.970703125\n",
      "RBM fitting: 32it [00:00, 789.29it/s]\n",
      "Epoch:158 ,avg_cost = 0.04709162190556526 ,std_cost = 0.017745358869433403 ,avg_grad = 53806.8984375 ,std_grad = 19810.35546875\n",
      "RBM fitting: 32it [00:00, 792.40it/s]\n",
      "Epoch:159 ,avg_cost = 0.04579946771264076 ,std_cost = 0.017973819747567177 ,avg_grad = 53927.1640625 ,std_grad = 20545.1328125\n",
      "RBM fitting: 32it [00:00, 796.20it/s]\n",
      "Epoch:160 ,avg_cost = 0.04829954355955124 ,std_cost = 0.02041776105761528 ,avg_grad = 53904.671875 ,std_grad = 20481.935546875\n",
      "RBM fitting: 32it [00:00, 781.84it/s]\n",
      "Epoch:161 ,avg_cost = 0.045165497809648514 ,std_cost = 0.0177930798381567 ,avg_grad = 53180.83984375 ,std_grad = 20490.62109375\n",
      "RBM fitting: 32it [00:00, 776.20it/s]\n",
      "Epoch:162 ,avg_cost = 0.045198701322078705 ,std_cost = 0.018482020124793053 ,avg_grad = 52362.3125 ,std_grad = 19543.720703125\n",
      "RBM fitting: 32it [00:00, 801.94it/s]\n",
      "Epoch:163 ,avg_cost = 0.04560008645057678 ,std_cost = 0.018860502168536186 ,avg_grad = 53802.1484375 ,std_grad = 20004.873046875\n",
      "RBM fitting: 32it [00:00, 799.96it/s]\n",
      "Epoch:164 ,avg_cost = 0.04642953351140022 ,std_cost = 0.018817203119397163 ,avg_grad = 53652.66015625 ,std_grad = 20233.75\n",
      "RBM fitting: 32it [00:00, 780.87it/s]\n",
      "Epoch:165 ,avg_cost = 0.04793423041701317 ,std_cost = 0.02002953551709652 ,avg_grad = 54067.1796875 ,std_grad = 21087.626953125\n",
      "RBM fitting: 32it [00:00, 798.32it/s]\n",
      "Epoch:166 ,avg_cost = 0.04446880891919136 ,std_cost = 0.017522074282169342 ,avg_grad = 53308.59375 ,std_grad = 20198.56640625\n",
      "RBM fitting: 32it [00:00, 801.81it/s]\n",
      "Epoch:167 ,avg_cost = 0.045193739235401154 ,std_cost = 0.018061945214867592 ,avg_grad = 53453.171875 ,std_grad = 20543.681640625\n",
      "RBM fitting: 32it [00:00, 800.72it/s]\n",
      "Epoch:168 ,avg_cost = 0.04658522084355354 ,std_cost = 0.018065830692648888 ,avg_grad = 53429.91796875 ,std_grad = 20323.3515625\n",
      "RBM fitting: 32it [00:00, 801.20it/s]\n",
      "Epoch:169 ,avg_cost = 0.04766695573925972 ,std_cost = 0.019211554899811745 ,avg_grad = 53053.42578125 ,std_grad = 20001.361328125\n",
      "RBM fitting: 32it [00:00, 779.70it/s]\n",
      "Epoch:170 ,avg_cost = 0.04703229293227196 ,std_cost = 0.01835937798023224 ,avg_grad = 54167.515625 ,std_grad = 20419.587890625\n",
      "RBM fitting: 32it [00:00, 803.53it/s]\n",
      "Epoch:171 ,avg_cost = 0.04741053283214569 ,std_cost = 0.018261771649122238 ,avg_grad = 54331.84375 ,std_grad = 20356.982421875\n",
      "RBM fitting: 32it [00:00, 851.29it/s]\n",
      "Epoch:172 ,avg_cost = 0.04759904369711876 ,std_cost = 0.01810646429657936 ,avg_grad = 53951.125 ,std_grad = 20279.544921875\n",
      "RBM fitting: 32it [00:00, 807.96it/s]\n",
      "Epoch:173 ,avg_cost = 0.04482640326023102 ,std_cost = 0.016721857711672783 ,avg_grad = 53756.3515625 ,std_grad = 19790.892578125\n",
      "RBM fitting: 32it [00:00, 802.64it/s]\n",
      "Epoch:174 ,avg_cost = 0.04770775884389877 ,std_cost = 0.01922318898141384 ,avg_grad = 53115.015625 ,std_grad = 20747.611328125\n",
      "RBM fitting: 32it [00:00, 802.44it/s]\n",
      "Epoch:175 ,avg_cost = 0.04700525850057602 ,std_cost = 0.018227843567728996 ,avg_grad = 53463.7890625 ,std_grad = 19921.259765625\n",
      "RBM fitting: 32it [00:00, 782.03it/s]\n",
      "Epoch:176 ,avg_cost = 0.04672690108418465 ,std_cost = 0.020142819732427597 ,avg_grad = 52882.5 ,std_grad = 19383.3828125\n",
      "RBM fitting: 32it [00:00, 784.27it/s]\n",
      "Epoch:177 ,avg_cost = 0.04704253375530243 ,std_cost = 0.020180456340312958 ,avg_grad = 53082.86328125 ,std_grad = 20247.88671875\n",
      "RBM fitting: 32it [00:00, 780.81it/s]\n",
      "Epoch:178 ,avg_cost = 0.0466243252158165 ,std_cost = 0.018683459609746933 ,avg_grad = 54050.8203125 ,std_grad = 20337.716796875\n",
      "RBM fitting: 32it [00:00, 786.00it/s]\n",
      "Epoch:179 ,avg_cost = 0.04837359860539436 ,std_cost = 0.019385231658816338 ,avg_grad = 53488.46875 ,std_grad = 20476.2890625\n",
      "RBM fitting: 32it [00:00, 808.60it/s]\n",
      "Epoch:180 ,avg_cost = 0.04567427933216095 ,std_cost = 0.018026210367679596 ,avg_grad = 53406.69921875 ,std_grad = 19586.2109375\n",
      "RBM fitting: 32it [00:00, 786.97it/s]\n",
      "Epoch:181 ,avg_cost = 0.04652336984872818 ,std_cost = 0.018250133842229843 ,avg_grad = 53880.8515625 ,std_grad = 20705.8359375\n",
      "RBM fitting: 32it [00:00, 808.50it/s]\n",
      "Epoch:182 ,avg_cost = 0.04686842858791351 ,std_cost = 0.0192582830786705 ,avg_grad = 52896.98828125 ,std_grad = 20602.486328125\n",
      "RBM fitting: 32it [00:00, 806.82it/s]\n",
      "Epoch:183 ,avg_cost = 0.046418219804763794 ,std_cost = 0.020262891426682472 ,avg_grad = 53337.421875 ,std_grad = 19872.57421875\n",
      "RBM fitting: 32it [00:00, 804.72it/s]\n",
      "Epoch:184 ,avg_cost = 0.045678362250328064 ,std_cost = 0.017492687329649925 ,avg_grad = 53394.4140625 ,std_grad = 20249.9609375\n",
      "RBM fitting: 32it [00:00, 784.52it/s]\n",
      "Epoch:185 ,avg_cost = 0.046853337436914444 ,std_cost = 0.018823247402906418 ,avg_grad = 53264.109375 ,std_grad = 20300.27734375\n",
      "RBM fitting: 32it [00:00, 815.50it/s]\n",
      "Epoch:186 ,avg_cost = 0.04619894176721573 ,std_cost = 0.018302952870726585 ,avg_grad = 53047.2578125 ,std_grad = 19576.873046875\n",
      "RBM fitting: 32it [00:00, 810.38it/s]\n",
      "Epoch:187 ,avg_cost = 0.04598074406385422 ,std_cost = 0.018589995801448822 ,avg_grad = 53421.3515625 ,std_grad = 20167.9375\n",
      "RBM fitting: 32it [00:00, 856.92it/s]\n",
      "Epoch:188 ,avg_cost = 0.045077353715896606 ,std_cost = 0.017397431656718254 ,avg_grad = 52712.0703125 ,std_grad = 20058.580078125\n",
      "RBM fitting: 32it [00:00, 803.77it/s]\n",
      "Epoch:189 ,avg_cost = 0.04519610106945038 ,std_cost = 0.016642039641737938 ,avg_grad = 52751.01953125 ,std_grad = 18762.080078125\n",
      "RBM fitting: 32it [00:00, 784.11it/s]\n",
      "Epoch:190 ,avg_cost = 0.0456550195813179 ,std_cost = 0.018619470298290253 ,avg_grad = 52939.7890625 ,std_grad = 20109.865234375\n",
      "RBM fitting: 32it [00:00, 780.76it/s]\n",
      "Epoch:191 ,avg_cost = 0.04628578573465347 ,std_cost = 0.0189394261687994 ,avg_grad = 52476.58984375 ,std_grad = 20656.126953125\n",
      "RBM fitting: 32it [00:00, 808.56it/s]\n",
      "Epoch:192 ,avg_cost = 0.04647510498762131 ,std_cost = 0.018236633390188217 ,avg_grad = 53070.01171875 ,std_grad = 19726.36328125\n",
      "RBM fitting: 32it [00:00, 784.24it/s]\n",
      "Epoch:193 ,avg_cost = 0.04575856029987335 ,std_cost = 0.018666889518499374 ,avg_grad = 53198.2734375 ,std_grad = 20036.9140625\n",
      "RBM fitting: 32it [00:00, 801.38it/s]\n",
      "Epoch:194 ,avg_cost = 0.04715520143508911 ,std_cost = 0.018082980066537857 ,avg_grad = 54139.14453125 ,std_grad = 20123.91796875\n",
      "RBM fitting: 32it [00:00, 853.62it/s]\n",
      "Epoch:195 ,avg_cost = 0.047103188931941986 ,std_cost = 0.018887821584939957 ,avg_grad = 52728.6171875 ,std_grad = 19906.072265625\n",
      "RBM fitting: 32it [00:00, 805.91it/s]\n",
      "Epoch:196 ,avg_cost = 0.046910230070352554 ,std_cost = 0.018203822895884514 ,avg_grad = 53764.4375 ,std_grad = 20734.65625\n",
      "RBM fitting: 32it [00:00, 806.59it/s]\n",
      "Epoch:197 ,avg_cost = 0.047097381204366684 ,std_cost = 0.019078237935900688 ,avg_grad = 54059.61328125 ,std_grad = 19655.736328125\n",
      "RBM fitting: 32it [00:00, 809.56it/s]\n",
      "Epoch:198 ,avg_cost = 0.04576246067881584 ,std_cost = 0.017089150846004486 ,avg_grad = 53297.2578125 ,std_grad = 19848.1015625\n",
      "RBM fitting: 32it [00:00, 808.92it/s]\n",
      "Epoch:199 ,avg_cost = 0.045993417501449585 ,std_cost = 0.015692800283432007 ,avg_grad = 53112.09765625 ,std_grad = 20346.201171875\n",
      "RBM fitting: 32it [00:00, 783.59it/s]\n",
      "Epoch:200 ,avg_cost = 0.0463310182094574 ,std_cost = 0.01872706599533558 ,avg_grad = 53060.46875 ,std_grad = 20053.615234375\n",
      "RBM fitting: 32it [00:00, 802.01it/s]\n",
      "Epoch:201 ,avg_cost = 0.04618014022707939 ,std_cost = 0.017187174409627914 ,avg_grad = 53410.8671875 ,std_grad = 19265.447265625\n",
      "RBM fitting: 32it [00:00, 780.54it/s]\n",
      "Epoch:202 ,avg_cost = 0.04557665437459946 ,std_cost = 0.018394047394394875 ,avg_grad = 52720.1640625 ,std_grad = 19628.666015625\n",
      "RBM fitting: 32it [00:00, 791.32it/s]\n",
      "Epoch:203 ,avg_cost = 0.04590814188122749 ,std_cost = 0.019107460975646973 ,avg_grad = 52884.62109375 ,std_grad = 19697.66796875\n",
      "RBM fitting: 32it [00:00, 813.40it/s]\n",
      "Epoch:204 ,avg_cost = 0.045068543404340744 ,std_cost = 0.01724475808441639 ,avg_grad = 52834.4375 ,std_grad = 20401.6953125\n",
      "RBM fitting: 32it [00:00, 807.69it/s]\n",
      "Epoch:205 ,avg_cost = 0.0456758588552475 ,std_cost = 0.01667974889278412 ,avg_grad = 53138.28515625 ,std_grad = 19901.375\n",
      "RBM fitting: 32it [00:00, 782.60it/s]\n",
      "Epoch:206 ,avg_cost = 0.046192530542612076 ,std_cost = 0.01875937357544899 ,avg_grad = 53344.02734375 ,std_grad = 19017.943359375\n",
      "RBM fitting: 32it [00:00, 862.11it/s]\n",
      "Epoch:207 ,avg_cost = 0.04529484361410141 ,std_cost = 0.01838492602109909 ,avg_grad = 52239.1328125 ,std_grad = 18390.333984375\n",
      "RBM fitting: 32it [00:00, 788.11it/s]\n",
      "Epoch:208 ,avg_cost = 0.045994728803634644 ,std_cost = 0.01801363192498684 ,avg_grad = 53012.0859375 ,std_grad = 19454.359375\n",
      "RBM fitting: 32it [00:00, 810.92it/s]\n",
      "Epoch:209 ,avg_cost = 0.04533768445253372 ,std_cost = 0.018641414120793343 ,avg_grad = 52992.984375 ,std_grad = 20069.48828125\n",
      "RBM fitting: 32it [00:00, 859.02it/s]\n",
      "Epoch:210 ,avg_cost = 0.04469241574406624 ,std_cost = 0.017676396295428276 ,avg_grad = 53010.203125 ,std_grad = 19521.537109375\n",
      "RBM fitting: 32it [00:00, 786.20it/s]\n",
      "Epoch:211 ,avg_cost = 0.04427468404173851 ,std_cost = 0.018687451258301735 ,avg_grad = 51949.1875 ,std_grad = 19264.587890625\n",
      "RBM fitting: 32it [00:00, 781.73it/s]\n",
      "Epoch:212 ,avg_cost = 0.04606612026691437 ,std_cost = 0.018906813114881516 ,avg_grad = 53018.15625 ,std_grad = 19691.7265625\n",
      "RBM fitting: 32it [00:00, 861.58it/s]\n",
      "Epoch:213 ,avg_cost = 0.046793267130851746 ,std_cost = 0.017398642376065254 ,avg_grad = 53774.359375 ,std_grad = 19692.181640625\n",
      "RBM fitting: 32it [00:00, 786.66it/s]\n",
      "Epoch:214 ,avg_cost = 0.04522320628166199 ,std_cost = 0.0171254500746727 ,avg_grad = 52811.8203125 ,std_grad = 19899.619140625\n",
      "RBM fitting: 32it [00:00, 802.31it/s]\n",
      "Epoch:215 ,avg_cost = 0.04530726745724678 ,std_cost = 0.01711156591773033 ,avg_grad = 52332.8671875 ,std_grad = 19181.1171875\n",
      "RBM fitting: 32it [00:00, 783.36it/s]\n",
      "Epoch:216 ,avg_cost = 0.046334557235240936 ,std_cost = 0.018642552196979523 ,avg_grad = 53172.328125 ,std_grad = 19614.95703125\n",
      "RBM fitting: 32it [00:00, 803.78it/s]\n",
      "Epoch:217 ,avg_cost = 0.04586561769247055 ,std_cost = 0.018427256494760513 ,avg_grad = 53568.6171875 ,std_grad = 20376.791015625\n",
      "RBM fitting: 32it [00:00, 783.20it/s]\n",
      "Epoch:218 ,avg_cost = 0.045691944658756256 ,std_cost = 0.017716743052005768 ,avg_grad = 52903.26171875 ,std_grad = 19554.265625\n",
      "RBM fitting: 32it [00:00, 785.11it/s]\n",
      "Epoch:219 ,avg_cost = 0.04530112072825432 ,std_cost = 0.018505271524190903 ,avg_grad = 52577.64453125 ,std_grad = 19493.259765625\n",
      "RBM fitting: 32it [00:00, 809.49it/s]\n",
      "Epoch:220 ,avg_cost = 0.046950411051511765 ,std_cost = 0.019162289798259735 ,avg_grad = 53018.84765625 ,std_grad = 19250.33203125\n",
      "RBM fitting: 32it [00:00, 856.55it/s]\n",
      "Epoch:221 ,avg_cost = 0.04575156792998314 ,std_cost = 0.019834302365779877 ,avg_grad = 53069.95703125 ,std_grad = 19892.775390625\n",
      "RBM fitting: 32it [00:00, 790.68it/s]\n",
      "Epoch:222 ,avg_cost = 0.04401326924562454 ,std_cost = 0.017749834805727005 ,avg_grad = 52925.234375 ,std_grad = 19832.767578125\n",
      "RBM fitting: 32it [00:00, 788.86it/s]\n",
      "Epoch:223 ,avg_cost = 0.045445073395967484 ,std_cost = 0.018290836364030838 ,avg_grad = 52775.75 ,std_grad = 19958.61328125\n",
      "RBM fitting: 32it [00:00, 788.88it/s]\n",
      "Epoch:224 ,avg_cost = 0.044915225356817245 ,std_cost = 0.017077863216400146 ,avg_grad = 53117.99609375 ,std_grad = 19225.32421875\n",
      "RBM fitting: 32it [00:00, 811.03it/s]\n",
      "Epoch:225 ,avg_cost = 0.04491463303565979 ,std_cost = 0.018694620579481125 ,avg_grad = 52596.625 ,std_grad = 19425.08984375\n",
      "RBM fitting: 32it [00:00, 786.60it/s]\n",
      "Epoch:226 ,avg_cost = 0.045822713524103165 ,std_cost = 0.017989177256822586 ,avg_grad = 52629.37890625 ,std_grad = 18717.09375\n",
      "RBM fitting: 32it [00:00, 808.11it/s]\n",
      "Epoch:227 ,avg_cost = 0.04550616443157196 ,std_cost = 0.018275482580065727 ,avg_grad = 52446.4140625 ,std_grad = 19550.58203125\n",
      "RBM fitting: 32it [00:00, 789.41it/s]\n",
      "Epoch:228 ,avg_cost = 0.04649669677019119 ,std_cost = 0.018329648301005363 ,avg_grad = 53137.875 ,std_grad = 19353.814453125\n",
      "RBM fitting: 32it [00:00, 788.63it/s]\n",
      "Epoch:229 ,avg_cost = 0.046444084495306015 ,std_cost = 0.020502615720033646 ,avg_grad = 52729.453125 ,std_grad = 19958.6796875\n",
      "RBM fitting: 32it [00:00, 797.16it/s]\n",
      "Epoch:230 ,avg_cost = 0.04638531059026718 ,std_cost = 0.01761939376592636 ,avg_grad = 53574.703125 ,std_grad = 20984.90234375\n",
      "RBM fitting: 32it [00:00, 806.50it/s]\n",
      "Epoch:231 ,avg_cost = 0.044828008860349655 ,std_cost = 0.016905946657061577 ,avg_grad = 52339.3125 ,std_grad = 18873.044921875\n",
      "RBM fitting: 32it [00:00, 800.70it/s]\n",
      "Epoch:232 ,avg_cost = 0.04785161837935448 ,std_cost = 0.021007828414440155 ,avg_grad = 53407.31640625 ,std_grad = 20107.07421875\n",
      "RBM fitting: 32it [00:00, 852.74it/s]\n",
      "Epoch:233 ,avg_cost = 0.044273488223552704 ,std_cost = 0.01660934090614319 ,avg_grad = 52779.38671875 ,std_grad = 19563.41015625\n",
      "RBM fitting: 32it [00:00, 851.31it/s]\n",
      "Epoch:234 ,avg_cost = 0.04405316337943077 ,std_cost = 0.01812327839434147 ,avg_grad = 52536.515625 ,std_grad = 20081.42578125\n",
      "RBM fitting: 32it [00:00, 781.50it/s]\n",
      "Epoch:235 ,avg_cost = 0.042743317782878876 ,std_cost = 0.016986023634672165 ,avg_grad = 52161.26171875 ,std_grad = 19917.986328125\n",
      "RBM fitting: 32it [00:00, 783.83it/s]\n",
      "Epoch:236 ,avg_cost = 0.04535277560353279 ,std_cost = 0.017470212653279305 ,avg_grad = 52426.08984375 ,std_grad = 19580.974609375\n",
      "RBM fitting: 32it [00:00, 785.09it/s]\n",
      "Epoch:237 ,avg_cost = 0.04432995617389679 ,std_cost = 0.01817723736166954 ,avg_grad = 52690.171875 ,std_grad = 19108.0703125\n",
      "RBM fitting: 32it [00:00, 783.36it/s]\n",
      "Epoch:238 ,avg_cost = 0.04540056362748146 ,std_cost = 0.01739507168531418 ,avg_grad = 53336.46875 ,std_grad = 19592.861328125\n",
      "RBM fitting: 32it [00:00, 805.12it/s]\n",
      "Epoch:239 ,avg_cost = 0.043587394058704376 ,std_cost = 0.016908150166273117 ,avg_grad = 53204.84765625 ,std_grad = 19410.8515625\n",
      "RBM fitting: 32it [00:00, 785.48it/s]\n",
      "Epoch:240 ,avg_cost = 0.044202208518981934 ,std_cost = 0.01831316389143467 ,avg_grad = 52049.23828125 ,std_grad = 19257.2109375\n",
      "RBM fitting: 32it [00:00, 803.58it/s]\n",
      "Epoch:241 ,avg_cost = 0.043942805379629135 ,std_cost = 0.016290975734591484 ,avg_grad = 52920.42578125 ,std_grad = 18869.765625\n",
      "RBM fitting: 32it [00:00, 782.78it/s]\n",
      "Epoch:242 ,avg_cost = 0.045106612145900726 ,std_cost = 0.018518682569265366 ,avg_grad = 52130.7734375 ,std_grad = 20195.576171875\n",
      "RBM fitting: 32it [00:00, 783.73it/s]\n",
      "Epoch:243 ,avg_cost = 0.045157816261053085 ,std_cost = 0.019670935347676277 ,avg_grad = 52444.6328125 ,std_grad = 19290.486328125\n",
      "RBM fitting: 32it [00:00, 782.97it/s]\n",
      "Epoch:244 ,avg_cost = 0.046131767332553864 ,std_cost = 0.017696352675557137 ,avg_grad = 52692.44921875 ,std_grad = 19331.1015625\n",
      "RBM fitting: 32it [00:00, 784.09it/s]\n",
      "Epoch:245 ,avg_cost = 0.044593047350645065 ,std_cost = 0.018581448122859 ,avg_grad = 52992.15625 ,std_grad = 19350.140625\n",
      "RBM fitting: 32it [00:00, 804.81it/s]\n",
      "Epoch:246 ,avg_cost = 0.043476417660713196 ,std_cost = 0.015467810444533825 ,avg_grad = 52560.5625 ,std_grad = 19065.244140625\n",
      "RBM fitting: 32it [00:00, 808.42it/s]\n",
      "Epoch:247 ,avg_cost = 0.04381730407476425 ,std_cost = 0.016474904492497444 ,avg_grad = 52845.56640625 ,std_grad = 19165.923828125\n",
      "RBM fitting: 32it [00:00, 786.58it/s]\n",
      "Epoch:248 ,avg_cost = 0.0451008677482605 ,std_cost = 0.020326590165495872 ,avg_grad = 52376.1015625 ,std_grad = 20084.392578125\n",
      "RBM fitting: 32it [00:00, 853.32it/s]\n",
      "Epoch:249 ,avg_cost = 0.04416625201702118 ,std_cost = 0.01849919557571411 ,avg_grad = 53139.66015625 ,std_grad = 19669.376953125\n",
      "RBM fitting: 32it [00:00, 803.13it/s]\n",
      "Epoch:250 ,avg_cost = 0.0441158190369606 ,std_cost = 0.01711707003414631 ,avg_grad = 53012.390625 ,std_grad = 19293.609375\n",
      "RBM fitting: 32it [00:00, 783.57it/s]\n",
      "Epoch:251 ,avg_cost = 0.04518546909093857 ,std_cost = 0.01728389784693718 ,avg_grad = 52977.48046875 ,std_grad = 19474.150390625\n",
      "RBM fitting: 32it [00:00, 810.82it/s]\n",
      "Epoch:252 ,avg_cost = 0.04453480616211891 ,std_cost = 0.018449803814291954 ,avg_grad = 52874.45703125 ,std_grad = 18700.412109375\n",
      "RBM fitting: 32it [00:00, 810.80it/s]\n",
      "Epoch:253 ,avg_cost = 0.045053478330373764 ,std_cost = 0.017374413087964058 ,avg_grad = 53044.65234375 ,std_grad = 19521.875\n",
      "RBM fitting: 32it [00:00, 812.52it/s]\n",
      "Epoch:254 ,avg_cost = 0.04358166828751564 ,std_cost = 0.01796121709048748 ,avg_grad = 52007.35546875 ,std_grad = 19224.15625\n",
      "RBM fitting: 32it [00:00, 789.48it/s]\n",
      "Epoch:255 ,avg_cost = 0.04431138187646866 ,std_cost = 0.017842939123511314 ,avg_grad = 52694.88671875 ,std_grad = 19799.46484375\n",
      "RBM fitting: 32it [00:00, 787.31it/s]\n",
      "Epoch:256 ,avg_cost = 0.04493355751037598 ,std_cost = 0.01720207743346691 ,avg_grad = 52060.4765625 ,std_grad = 19442.736328125\n",
      "RBM fitting: 32it [00:00, 785.51it/s]\n",
      "Epoch:257 ,avg_cost = 0.04308190941810608 ,std_cost = 0.017748186364769936 ,avg_grad = 51898.6484375 ,std_grad = 19146.5078125\n",
      "RBM fitting: 32it [00:00, 812.97it/s]\n",
      "Epoch:258 ,avg_cost = 0.043655477464199066 ,std_cost = 0.016974927857518196 ,avg_grad = 52653.03515625 ,std_grad = 19579.900390625\n",
      "RBM fitting: 32it [00:00, 795.55it/s]\n",
      "Epoch:259 ,avg_cost = 0.044374749064445496 ,std_cost = 0.018017202615737915 ,avg_grad = 52511.88671875 ,std_grad = 18713.87109375\n",
      "RBM fitting: 32it [00:00, 811.28it/s]\n",
      "Epoch:260 ,avg_cost = 0.04369673505425453 ,std_cost = 0.017286254093050957 ,avg_grad = 52333.734375 ,std_grad = 19387.296875\n",
      "RBM fitting: 32it [00:00, 812.23it/s]\n",
      "Epoch:261 ,avg_cost = 0.04522563889622688 ,std_cost = 0.018165400251746178 ,avg_grad = 52022.75 ,std_grad = 19348.373046875\n",
      "RBM fitting: 32it [00:00, 813.65it/s]\n",
      "Epoch:262 ,avg_cost = 0.04380671679973602 ,std_cost = 0.017382893711328506 ,avg_grad = 51439.06640625 ,std_grad = 19060.59765625\n",
      "RBM fitting: 32it [00:00, 807.81it/s]\n",
      "Epoch:263 ,avg_cost = 0.04401687532663345 ,std_cost = 0.01714382693171501 ,avg_grad = 51623.16796875 ,std_grad = 19739.0\n",
      "RBM fitting: 32it [00:00, 807.40it/s]\n",
      "Epoch:264 ,avg_cost = 0.04407425969839096 ,std_cost = 0.016233056783676147 ,avg_grad = 52940.8203125 ,std_grad = 20115.607421875\n",
      "RBM fitting: 32it [00:00, 782.77it/s]\n",
      "Epoch:265 ,avg_cost = 0.04435206204652786 ,std_cost = 0.018684543669223785 ,avg_grad = 53172.64453125 ,std_grad = 19734.92578125\n",
      "RBM fitting: 32it [00:00, 804.44it/s]\n",
      "Epoch:266 ,avg_cost = 0.042772915214300156 ,std_cost = 0.01756991446018219 ,avg_grad = 52182.5625 ,std_grad = 18784.236328125\n",
      "RBM fitting: 32it [00:00, 805.70it/s]\n",
      "Epoch:267 ,avg_cost = 0.04505670815706253 ,std_cost = 0.018425671383738518 ,avg_grad = 51757.28125 ,std_grad = 18895.326171875\n",
      "RBM fitting: 32it [00:00, 806.08it/s]\n",
      "Epoch:268 ,avg_cost = 0.04362432286143303 ,std_cost = 0.017615187913179398 ,avg_grad = 51650.765625 ,std_grad = 18882.23828125\n",
      "RBM fitting: 32it [00:00, 785.04it/s]\n",
      "Epoch:269 ,avg_cost = 0.04428507387638092 ,std_cost = 0.017402658239006996 ,avg_grad = 52347.4453125 ,std_grad = 20042.322265625\n",
      "RBM fitting: 32it [00:00, 810.23it/s]\n",
      "Epoch:270 ,avg_cost = 0.04435310885310173 ,std_cost = 0.01626785285770893 ,avg_grad = 53045.109375 ,std_grad = 19044.9375\n",
      "RBM fitting: 32it [00:00, 811.32it/s]\n",
      "Epoch:271 ,avg_cost = 0.04319240525364876 ,std_cost = 0.01589645817875862 ,avg_grad = 52901.0703125 ,std_grad = 18590.169921875\n",
      "RBM fitting: 32it [00:00, 786.11it/s]\n",
      "Epoch:272 ,avg_cost = 0.04300113022327423 ,std_cost = 0.01782369241118431 ,avg_grad = 51623.3359375 ,std_grad = 19104.779296875\n",
      "RBM fitting: 32it [00:00, 783.95it/s]\n",
      "Epoch:273 ,avg_cost = 0.043729376047849655 ,std_cost = 0.019046401605010033 ,avg_grad = 52177.38671875 ,std_grad = 18658.1484375\n",
      "RBM fitting: 32it [00:00, 789.36it/s]\n",
      "Epoch:274 ,avg_cost = 0.04453478008508682 ,std_cost = 0.017319265753030777 ,avg_grad = 53157.4375 ,std_grad = 19427.033203125\n",
      "RBM fitting: 32it [00:00, 793.23it/s]\n",
      "Epoch:275 ,avg_cost = 0.04491220414638519 ,std_cost = 0.016741294413805008 ,avg_grad = 52047.71484375 ,std_grad = 19475.455078125\n",
      "RBM fitting: 32it [00:00, 805.98it/s]\n",
      "Epoch:276 ,avg_cost = 0.04459962248802185 ,std_cost = 0.018734142184257507 ,avg_grad = 53138.24609375 ,std_grad = 19769.83984375\n",
      "RBM fitting: 32it [00:00, 781.67it/s]\n",
      "Epoch:277 ,avg_cost = 0.043098632246255875 ,std_cost = 0.01763431914150715 ,avg_grad = 51606.74609375 ,std_grad = 18830.51171875\n",
      "RBM fitting: 32it [00:00, 789.14it/s]\n",
      "Epoch:278 ,avg_cost = 0.04374349117279053 ,std_cost = 0.016557946801185608 ,avg_grad = 52093.453125 ,std_grad = 19168.10546875\n",
      "RBM fitting: 32it [00:00, 811.82it/s]\n",
      "Epoch:279 ,avg_cost = 0.04366432875394821 ,std_cost = 0.01693214476108551 ,avg_grad = 52289.33203125 ,std_grad = 19238.310546875\n",
      "RBM fitting: 32it [00:00, 790.16it/s]\n",
      "Epoch:280 ,avg_cost = 0.04376119747757912 ,std_cost = 0.01746045984327793 ,avg_grad = 51857.96875 ,std_grad = 18835.3984375\n",
      "RBM fitting: 32it [00:00, 805.59it/s]\n",
      "Epoch:281 ,avg_cost = 0.04735316336154938 ,std_cost = 0.019126098603010178 ,avg_grad = 52692.8203125 ,std_grad = 19964.796875\n",
      "RBM fitting: 32it [00:00, 789.20it/s]\n",
      "Epoch:282 ,avg_cost = 0.04266143590211868 ,std_cost = 0.01851762644946575 ,avg_grad = 52215.23828125 ,std_grad = 18783.75390625\n",
      "RBM fitting: 32it [00:00, 784.94it/s]\n",
      "Epoch:283 ,avg_cost = 0.04432870075106621 ,std_cost = 0.01755637861788273 ,avg_grad = 52966.7421875 ,std_grad = 18369.82421875\n",
      "RBM fitting: 32it [00:00, 806.62it/s]\n",
      "Epoch:284 ,avg_cost = 0.04376360401511192 ,std_cost = 0.01617123931646347 ,avg_grad = 52113.62890625 ,std_grad = 19151.068359375\n",
      "RBM fitting: 32it [00:00, 755.73it/s]\n",
      "Epoch:285 ,avg_cost = 0.04448537155985832 ,std_cost = 0.01826055906713009 ,avg_grad = 51865.89453125 ,std_grad = 18736.548828125\n",
      "RBM fitting: 32it [00:00, 805.53it/s]\n",
      "Epoch:286 ,avg_cost = 0.04462011158466339 ,std_cost = 0.020527206361293793 ,avg_grad = 51873.484375 ,std_grad = 19154.212890625\n",
      "RBM fitting: 32it [00:00, 805.61it/s]\n",
      "Epoch:287 ,avg_cost = 0.043507374823093414 ,std_cost = 0.01815355196595192 ,avg_grad = 52268.93359375 ,std_grad = 18305.97265625\n",
      "RBM fitting: 32it [00:00, 791.86it/s]\n",
      "Epoch:288 ,avg_cost = 0.04399044066667557 ,std_cost = 0.017919698730111122 ,avg_grad = 52680.32421875 ,std_grad = 19409.138671875\n",
      "RBM fitting: 32it [00:00, 859.96it/s]\n",
      "Epoch:289 ,avg_cost = 0.04500306025147438 ,std_cost = 0.017875511199235916 ,avg_grad = 52204.96875 ,std_grad = 19277.259765625\n",
      "RBM fitting: 32it [00:00, 812.17it/s]\n",
      "Epoch:290 ,avg_cost = 0.04271634668111801 ,std_cost = 0.017409706488251686 ,avg_grad = 52158.05078125 ,std_grad = 18635.287109375\n",
      "RBM fitting: 32it [00:00, 784.16it/s]\n",
      "Epoch:291 ,avg_cost = 0.04434845596551895 ,std_cost = 0.017268717288970947 ,avg_grad = 52596.421875 ,std_grad = 19407.75390625\n",
      "RBM fitting: 32it [00:00, 811.86it/s]\n",
      "Epoch:292 ,avg_cost = 0.04288607835769653 ,std_cost = 0.018045444041490555 ,avg_grad = 52108.6171875 ,std_grad = 18796.908203125\n",
      "RBM fitting: 32it [00:00, 813.09it/s]\n",
      "Epoch:293 ,avg_cost = 0.044510334730148315 ,std_cost = 0.017891759052872658 ,avg_grad = 52391.0546875 ,std_grad = 19031.888671875\n",
      "RBM fitting: 32it [00:00, 788.46it/s]\n",
      "Epoch:294 ,avg_cost = 0.04340314120054245 ,std_cost = 0.017905956134200096 ,avg_grad = 52365.6328125 ,std_grad = 18722.03125\n",
      "RBM fitting: 32it [00:00, 784.64it/s]\n",
      "Epoch:295 ,avg_cost = 0.043407708406448364 ,std_cost = 0.016328956931829453 ,avg_grad = 52211.57421875 ,std_grad = 18676.771484375\n",
      "RBM fitting: 32it [00:00, 808.17it/s]\n",
      "Epoch:296 ,avg_cost = 0.044458162039518356 ,std_cost = 0.018150217831134796 ,avg_grad = 52203.26171875 ,std_grad = 19194.923828125\n",
      "RBM fitting: 32it [00:00, 810.43it/s]\n",
      "Epoch:297 ,avg_cost = 0.04294417425990105 ,std_cost = 0.016263209283351898 ,avg_grad = 51992.08203125 ,std_grad = 18542.236328125\n",
      "RBM fitting: 32it [00:00, 807.86it/s]\n",
      "Epoch:298 ,avg_cost = 0.04274717718362808 ,std_cost = 0.017312726005911827 ,avg_grad = 52300.1015625 ,std_grad = 19225.998046875\n",
      "RBM fitting: 32it [00:00, 809.79it/s]\n",
      "Epoch:299 ,avg_cost = 0.04259900376200676 ,std_cost = 0.017577920109033585 ,avg_grad = 52702.28125 ,std_grad = 18912.90625\n",
      "RBM fitting: 32it [00:00, 790.39it/s]\n",
      "Epoch:300 ,avg_cost = 0.04227790981531143 ,std_cost = 0.017247755080461502 ,avg_grad = 51793.078125 ,std_grad = 18681.443359375\n",
      "Original and reconstructed images\n"
     ]
    },
    {
     "data": {
      "image/png": "[encoded data removed]",
      "text/plain": [
       "<Figure size 432x288 with 1 Axes>"
      ]
     },
     "metadata": {
      "needs_background": "light"
     },
     "output_type": "display_data"
    },
    {
     "data": {
      "image/png": "[encoded data removed]",
      "text/plain": [
       "<Figure size 432x288 with 1 Axes>"
      ]
     },
     "metadata": {
      "needs_background": "light"
     },
     "output_type": "display_data"
    },
    {
     "name": "stdout",
     "output_type": "stream",
     "text": [
      "Original and reconstructed images\n"
     ]
    },
    {
     "data": {
      "image/png": "[encoded data removed]",
      "text/plain": [
       "<Figure size 432x288 with 1 Axes>"
      ]
     },
     "metadata": {
      "needs_background": "light"
     },
     "output_type": "display_data"
    },
    {
     "data": {
      "image/png": "[encoded data removed]",
      "text/plain": [
       "<Figure size 432x288 with 1 Axes>"
      ]
     },
     "metadata": {
      "needs_background": "light"
     },
     "output_type": "display_data"
    },
    {
     "name": "stdout",
     "output_type": "stream",
     "text": [
      "Original and reconstructed images\n"
     ]
    },
    {
     "data": {
      "image/png": "[encoded data removed]",
      "text/plain": [
       "<Figure size 432x288 with 1 Axes>"
      ]
     },
     "metadata": {
      "needs_background": "light"
     },
     "output_type": "display_data"
    },
    {
     "data": {
      "image/png": "[encoded data removed]",
      "text/plain": [
       "<Figure size 432x288 with 1 Axes>"
      ]
     },
     "metadata": {
      "needs_background": "light"
     },
     "output_type": "display_data"
    },
    {
     "name": "stdout",
     "output_type": "stream",
     "text": [
      "Original and reconstructed images\n"
     ]
    },
    {
     "data": {
      "image/png": "[encoded data removed]",
      "text/plain": [
       "<Figure size 432x288 with 1 Axes>"
      ]
     },
     "metadata": {
      "needs_background": "light"
     },
     "output_type": "display_data"
    },
    {
     "data": {
      "image/png": "[encoded data removed]",
      "text/plain": [
       "<Figure size 432x288 with 1 Axes>"
      ]
     },
     "metadata": {
      "needs_background": "light"
     },
     "output_type": "display_data"
    },
    {
     "name": "stdout",
     "output_type": "stream",
     "text": [
      "Original and reconstructed images\n"
     ]
    },
    {
     "data": {
      "image/png": "[encoded data removed]",
      "text/plain": [
       "<Figure size 432x288 with 1 Axes>"
      ]
     },
     "metadata": {
      "needs_background": "light"
     },
     "output_type": "display_data"
    },
    {
     "data": {
      "image/png": "[encoded data removed]",
      "text/plain": [
       "<Figure size 432x288 with 1 Axes>"
      ]
     },
     "metadata": {
      "needs_background": "light"
     },
     "output_type": "display_data"
    },
    {
     "name": "stdout",
     "output_type": "stream",
     "text": [
      "Original and reconstructed images\n"
     ]
    },
    {
     "data": {
      "image/png": "[encoded data removed]",
      "text/plain": [
       "<Figure size 432x288 with 1 Axes>"
      ]
     },
     "metadata": {
      "needs_background": "light"
     },
     "output_type": "display_data"
    },
    {
     "data": {
      "image/png": "[encoded data removed]",
      "text/plain": [
       "<Figure size 432x288 with 1 Axes>"
      ]
     },
     "metadata": {
      "needs_background": "light"
     },
     "output_type": "display_data"
    },
    {
     "name": "stdout",
     "output_type": "stream",
     "text": [
      "Original and reconstructed images\n"
     ]
    },
    {
     "data": {
      "image/png": "[encoded data removed]",
      "text/plain": [
       "<Figure size 432x288 with 1 Axes>"
      ]
     },
     "metadata": {
      "needs_background": "light"
     },
     "output_type": "display_data"
    },
    {
     "data": {
      "image/png": "[encoded data removed]",
      "text/plain": [
       "<Figure size 432x288 with 1 Axes>"
      ]
     },
     "metadata": {
      "needs_background": "light"
     },
     "output_type": "display_data"
    },
    {
     "name": "stdout",
     "output_type": "stream",
     "text": [
      "Original and reconstructed images\n"
     ]
    },
    {
     "data": {
      "image/png": "[encoded data removed]",
      "text/plain": [
       "<Figure size 432x288 with 1 Axes>"
      ]
     },
     "metadata": {
      "needs_background": "light"
     },
     "output_type": "display_data"
    },
    {
     "data": {
      "image/png": "[encoded data removed]",
      "text/plain": [
       "<Figure size 432x288 with 1 Axes>"
      ]
     },
     "metadata": {
      "needs_background": "light"
     },
     "output_type": "display_data"
    },
    {
     "name": "stdout",
     "output_type": "stream",
     "text": [
      "Original and reconstructed images\n"
     ]
    },
    {
     "data": {
      "image/png": "[encoded data removed]",
      "text/plain": [
       "<Figure size 432x288 with 1 Axes>"
      ]
     },
     "metadata": {
      "needs_background": "light"
     },
     "output_type": "display_data"
    },
    {
     "data": {
      "image/png": "[encoded data removed]",
      "text/plain": [
       "<Figure size 432x288 with 1 Axes>"
      ]
     },
     "metadata": {
      "needs_background": "light"
     },
     "output_type": "display_data"
    },
    {
     "name": "stdout",
     "output_type": "stream",
     "text": [
      "Original and reconstructed images\n"
     ]
    },
    {
     "data": {
      "image/png": "[encoded data removed]",
      "text/plain": [
       "<Figure size 432x288 with 1 Axes>"
      ]
     },
     "metadata": {
      "needs_background": "light"
     },
     "output_type": "display_data"
    },
    {
     "data": {
      "image/png": "[encoded data removed]",
      "text/plain": [
       "<Figure size 432x288 with 1 Axes>"
      ]
     },
     "metadata": {
      "needs_background": "light"
     },
     "output_type": "display_data"
    },
    {
     "data": {
      "text/plain": [
       "-3.6446638"
      ]
     },
     "execution_count": 10,
     "metadata": {},
     "output_type": "execute_result"
    }
   ],
   "source": [
    "auto_learn(32,plot=True,all_dim=2048,k=3,epochs=300,batch_size=1)\n"
   ]
  }
 ],
 "metadata": {
  "kernelspec": {
   "display_name": "Environment (conda_da37)",
   "language": "python",
   "name": "conda_da37"
  },
  "language_info": {
   "codemirror_mode": {
    "name": "ipython",
    "version": 3
   },
   "file_extension": ".py",
   "mimetype": "text/x-python",
   "name": "python",
   "nbconvert_exporter": "python",
   "pygments_lexer": "ipython3",
   "version": "3.7.9"
  }
 },
 "nbformat": 4,
 "nbformat_minor": 4
}
